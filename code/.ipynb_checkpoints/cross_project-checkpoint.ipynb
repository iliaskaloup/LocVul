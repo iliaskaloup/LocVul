{
 "cells": [
  {
   "cell_type": "code",
   "execution_count": null,
   "id": "053a7a62",
   "metadata": {},
   "outputs": [],
   "source": [
    "import pandas as pd\n",
    "import json, os\n",
    "\n",
    "import tensorflow as tf\n",
    "import numpy as np\n",
    "import csv\n",
    "from transformers import AutoTokenizer, TFAutoModel, TFAutoModelForSequenceClassification #, BertModel, BertTokenizer, TFBertForSequenceClassification\n",
    "import matplotlib.pyplot as plt\n",
    "import random\n",
    "from tensorflow.keras.callbacks import CSVLogger\n",
    "from tensorflow.keras.callbacks import EarlyStopping\n",
    "import tensorflow.keras.backend as K\n",
    "from collections import OrderedDict\n",
    "import time\n",
    "from sklearn.metrics import accuracy_score, recall_score, f1_score, precision_score, \\\n",
    "roc_auc_score, confusion_matrix, classification_report\n",
    "from sklearn.model_selection import StratifiedKFold\n",
    "import random\n",
    "\n",
    "from tensorflow.keras.optimizers import Adam\n",
    "from tensorflow.keras.callbacks import EarlyStopping\n",
    "from tensorflow.keras.initializers import TruncatedNormal\n",
    "from tensorflow.keras.losses import CategoricalCrossentropy\n",
    "from tensorflow.keras.metrics import CategoricalAccuracy\n",
    "from tensorflow.keras.utils import to_categorical\n",
    "from tensorflow.keras.layers import Input, Dense, GlobalMaxPool1D\n",
    "\n",
    "from sklearn.metrics import classification_report"
   ]
  },
  {
   "cell_type": "code",
   "execution_count": null,
   "id": "1eb78b2a",
   "metadata": {},
   "outputs": [],
   "source": [
    "seed = 123\n",
    "np.random.seed(seed)\n",
    "random.seed(seed)\n",
    "tf.random.set_seed(seed)"
   ]
  },
  {
   "cell_type": "markdown",
   "id": "d1b6c8f8",
   "metadata": {},
   "source": [
    "Choose a project among QEMU and FFMPEG"
   ]
  },
  {
   "cell_type": "code",
   "execution_count": null,
   "id": "26c75b8f",
   "metadata": {},
   "outputs": [],
   "source": [
    "#data = pd.read_csv(os.path.join('..','data', 'ffmpeg_data_reduced.csv'))\n",
    "data = pd.read_csv(os.path.join('..','data', 'qemu_data_reduced.csv'))"
   ]
  },
  {
   "cell_type": "code",
   "execution_count": null,
   "id": "d6e69839",
   "metadata": {},
   "outputs": [],
   "source": [
    "print(data[\"target\"].value_counts())\n",
    "max_length = data['length'].max()\n",
    "print(max_length)"
   ]
  },
  {
   "cell_type": "markdown",
   "id": "8f3372f3",
   "metadata": {},
   "source": [
    "PRE_PROCESSING"
   ]
  },
  {
   "cell_type": "markdown",
   "id": "8ee589a8",
   "metadata": {},
   "source": [
    "Word2Vec NL pre-trained embeddings"
   ]
  },
  {
   "cell_type": "code",
   "execution_count": 158,
   "id": "ade8ef24",
   "metadata": {},
   "outputs": [],
   "source": [
    "# from gensim.test.utils import common_texts\n",
    "# from gensim.models import Word2Vec\n",
    "\n",
    "# model = Word2Vec(sentences=common_texts, vector_size=100, window=5, min_count=1, workers=4)\n",
    "# model.save(\"word2vec.model\")"
   ]
  },
  {
   "cell_type": "code",
   "execution_count": 159,
   "id": "2d2d7f72",
   "metadata": {},
   "outputs": [],
   "source": [
    "import gensim.downloader\n",
    "# w2v_vectors = gensim.downloader.load('word2vec-google-news-300')"
   ]
  },
  {
   "cell_type": "code",
   "execution_count": 160,
   "id": "f0f3c4f3",
   "metadata": {},
   "outputs": [],
   "source": [
    "#w2v_vectors.most_similar('facebook')"
   ]
  },
  {
   "cell_type": "code",
   "execution_count": 161,
   "id": "a3a29eaa",
   "metadata": {},
   "outputs": [
    {
     "name": "stderr",
     "output_type": "stream",
     "text": [
      "[nltk_data] Downloading package punkt to\n",
      "[nltk_data]     C:\\Users\\iliaskaloup\\AppData\\Roaming\\nltk_data...\n",
      "[nltk_data]   Package punkt is already up-to-date!\n"
     ]
    }
   ],
   "source": [
    "import nltk\n",
    "from nltk.tokenize import word_tokenize\n",
    "\n",
    "# Download the Punkt tokenizer models if not already downloaded\n",
    "nltk.download('punkt')\n",
    "\n",
    "tokenized_list = [word_tokenize(sentence) for sentence in data[\"func\"].tolist()]\n"
   ]
  },
  {
   "cell_type": "code",
   "execution_count": 162,
   "id": "5f312138",
   "metadata": {},
   "outputs": [],
   "source": [
    "# Encode each token using Word2Vec embeddings\n",
    "encoded_list = []\n",
    "for sentence_tokens in tokenized_list:\n",
    "    encoded_sentence = []\n",
    "    for token in sentence_tokens:\n",
    "        if token in w2v_vectors:\n",
    "            encoded_token = w2v_vectors[token]\n",
    "            encoded_sentence.append(encoded_token)\n",
    "    encoded_list.append(encoded_sentence)\n",
    "\n",
    "data[\"w2v_func\"] = encoded_list"
   ]
  },
  {
   "cell_type": "markdown",
   "id": "9acc6f38",
   "metadata": {},
   "source": [
    "FastText NL pre-trained embeddings"
   ]
  },
  {
   "cell_type": "code",
   "execution_count": 163,
   "id": "c926cddc",
   "metadata": {},
   "outputs": [],
   "source": [
    "from gensim.models import FastText\n",
    "#fastText_vectors = gensim.downloader.load('fasttext-wiki-news-subwords-300')"
   ]
  },
  {
   "cell_type": "code",
   "execution_count": 164,
   "id": "5591d492",
   "metadata": {},
   "outputs": [],
   "source": [
    "f_tokenized_list = [word_tokenize(sentence) for sentence in data[\"func\"].tolist()]\n",
    "\n",
    "# Encode each token using fastText embeddings\n",
    "encoded_list = []\n",
    "for sentence_tokens in f_tokenized_list:\n",
    "    encoded_sentence = []\n",
    "    for token in sentence_tokens:\n",
    "        if token in fastText_vectors:\n",
    "            encoded_token = fastText_vectors[token]\n",
    "            encoded_sentence.append(encoded_token)\n",
    "        else:\n",
    "            continue\n",
    "    encoded_list.append(encoded_sentence)\n",
    "\n",
    "data[\"ft_func\"] = encoded_list"
   ]
  },
  {
   "cell_type": "markdown",
   "id": "1ec6a737",
   "metadata": {},
   "source": [
    "BERT pre-trained embeddings"
   ]
  },
  {
   "cell_type": "code",
   "execution_count": 165,
   "id": "a89a6685",
   "metadata": {},
   "outputs": [
    {
     "name": "stderr",
     "output_type": "stream",
     "text": [
      "Some layers from the model checkpoint at bert-base-uncased were not used when initializing TFBertModel: ['nsp___cls', 'mlm___cls']\n",
      "- This IS expected if you are initializing TFBertModel from the checkpoint of a model trained on another task or with another architecture (e.g. initializing a BertForSequenceClassification model from a BertForPreTraining model).\n",
      "- This IS NOT expected if you are initializing TFBertModel from the checkpoint of a model that you expect to be exactly identical (initializing a BertForSequenceClassification model from a BertForSequenceClassification model).\n",
      "All the layers of TFBertModel were initialized from the model checkpoint at bert-base-uncased.\n",
      "If your task is similar to the task the model of the checkpoint was trained on, you can already use TFBertModel for predictions without further training.\n"
     ]
    }
   ],
   "source": [
    "model_variation = \"bert-base-uncased\" # \"roberta-base\"\n",
    "tokenizer = AutoTokenizer.from_pretrained(model_variation)\n",
    "bert = TFAutoModel.from_pretrained(model_variation)"
   ]
  },
  {
   "cell_type": "code",
   "execution_count": 166,
   "id": "46877799",
   "metadata": {},
   "outputs": [
    {
     "name": "stdout",
     "output_type": "stream",
     "text": [
      "30522\n",
      "768\n"
     ]
    }
   ],
   "source": [
    "bert_embeddings = bert.get_input_embeddings()\n",
    "embedding_matrix = bert_embeddings.weights[0].numpy()\n",
    "num_words = len(embedding_matrix)\n",
    "print(num_words)\n",
    "dim = len(embedding_matrix[0])\n",
    "print(dim)"
   ]
  },
  {
   "cell_type": "code",
   "execution_count": 167,
   "id": "a392c576",
   "metadata": {},
   "outputs": [],
   "source": [
    "sequences = [tokenizer.encode(sente, padding=True, truncation=True, add_special_tokens=False, return_tensors=\"tf\").numpy() for sente in data[\"func\"]] # Tokenize the complete sentences\n",
    "\n",
    "lines_pad = []\n",
    "for seq in sequences:\n",
    "    lines_pad.append(seq[0])\n"
   ]
  },
  {
   "cell_type": "code",
   "execution_count": 168,
   "id": "bc2739a1",
   "metadata": {},
   "outputs": [],
   "source": [
    "data[\"bert_func\"] = lines_pad"
   ]
  },
  {
   "cell_type": "markdown",
   "id": "440ea7f1",
   "metadata": {},
   "source": [
    "CodeBERT pre-trained CPP embeddings"
   ]
  },
  {
   "cell_type": "code",
   "execution_count": 169,
   "id": "0b72d208",
   "metadata": {},
   "outputs": [
    {
     "name": "stderr",
     "output_type": "stream",
     "text": [
      "All model checkpoint layers were used when initializing TFRobertaModel.\n",
      "\n",
      "All the layers of TFRobertaModel were initialized from the model checkpoint at microsoft/codebert-base.\n",
      "If your task is similar to the task the model of the checkpoint was trained on, you can already use TFRobertaModel for predictions without further training.\n"
     ]
    }
   ],
   "source": [
    "model_variation = \"microsoft/codebert-base\" # \"neulab/codebert-cpp\"\n",
    "tokenizer = AutoTokenizer.from_pretrained(model_variation, do_lower_case=False) # , do_lower_case=True\n",
    "codebert = TFAutoModel.from_pretrained(model_variation) # , from_pt=True"
   ]
  },
  {
   "cell_type": "code",
   "execution_count": 170,
   "id": "972831a0",
   "metadata": {},
   "outputs": [
    {
     "name": "stdout",
     "output_type": "stream",
     "text": [
      "50265\n",
      "768\n"
     ]
    }
   ],
   "source": [
    "codebert_embeddings = codebert.get_input_embeddings()\n",
    "embedding_matrix = codebert_embeddings.weights[0].numpy()\n",
    "num_words = len(embedding_matrix)\n",
    "print(num_words)\n",
    "dim = len(embedding_matrix[0])\n",
    "print(dim)"
   ]
  },
  {
   "cell_type": "code",
   "execution_count": 171,
   "id": "6f7a522b",
   "metadata": {},
   "outputs": [],
   "source": [
    "sequences = [tokenizer(sente, return_tensors=\"tf\", padding=True, truncation=True, add_special_tokens=False) for sente in data[\"func\"]]"
   ]
  },
  {
   "cell_type": "code",
   "execution_count": 172,
   "id": "98d8e969",
   "metadata": {},
   "outputs": [
    {
     "name": "stderr",
     "output_type": "stream",
     "text": [
      "C:\\Users\\iliaskaloup\\Anaconda3\\envs\\tfgpu\\lib\\site-packages\\ipykernel_launcher.py:14: VisibleDeprecationWarning: Creating an ndarray from ragged nested sequences (which is a list-or-tuple of lists-or-tuples-or ndarrays with different lengths or shapes) is deprecated. If you meant to do this, you must specify 'dtype=object' when creating the ndarray\n",
      "  \n"
     ]
    }
   ],
   "source": [
    "def extractEmbList(sequences):\n",
    "    lines_pad = []\n",
    "    for sequence in sequences:\n",
    "        seq = sequence['input_ids'].numpy()[0]\n",
    "#         if len(seq) < max_len:\n",
    "#             for i in range(len(seq), max_len):\n",
    "#                 seq = np.append(seq, 0)\n",
    "        lines_pad.append(seq)\n",
    "    \n",
    "    [arr.tolist() for arr in lines_pad]\n",
    "    \n",
    "    return lines_pad\n",
    "\n",
    "lines_pad = np.array(extractEmbList(sequences))"
   ]
  },
  {
   "cell_type": "code",
   "execution_count": 173,
   "id": "145387a8",
   "metadata": {},
   "outputs": [],
   "source": [
    "data[\"codebert_func\"] = lines_pad"
   ]
  },
  {
   "cell_type": "markdown",
   "id": "e99cf862",
   "metadata": {},
   "source": [
    "Training"
   ]
  },
  {
   "cell_type": "code",
   "execution_count": null,
   "id": "336826e9",
   "metadata": {},
   "outputs": [],
   "source": []
  },
  {
   "cell_type": "markdown",
   "id": "9dc552af",
   "metadata": {},
   "source": [
    "Evaluation"
   ]
  },
  {
   "cell_type": "code",
   "execution_count": null,
   "id": "5d1918af",
   "metadata": {},
   "outputs": [],
   "source": []
  }
 ],
 "metadata": {
  "kernelspec": {
   "display_name": "Python 3 (ipykernel)",
   "language": "python",
   "name": "python3"
  },
  "language_info": {
   "codemirror_mode": {
    "name": "ipython",
    "version": 3
   },
   "file_extension": ".py",
   "mimetype": "text/x-python",
   "name": "python",
   "nbconvert_exporter": "python",
   "pygments_lexer": "ipython3",
   "version": "3.7.13"
  }
 },
 "nbformat": 4,
 "nbformat_minor": 5
}
