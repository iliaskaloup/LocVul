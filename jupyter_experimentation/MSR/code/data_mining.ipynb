{
 "cells": [
  {
   "cell_type": "code",
   "execution_count": 1,
   "id": "91240d23",
   "metadata": {},
   "outputs": [],
   "source": [
    "import json\n",
    "import pandas as pd\n",
    "import os"
   ]
  },
  {
   "cell_type": "code",
   "execution_count": 2,
   "id": "cc9f1af9",
   "metadata": {},
   "outputs": [],
   "source": [
    "def readData(filename):\n",
    "    with open(filename,'r+') as file:\n",
    "        dataset  = json.load(file)\n",
    "    return dataset"
   ]
  },
  {
   "cell_type": "code",
   "execution_count": 5,
   "id": "441ca9b6",
   "metadata": {},
   "outputs": [],
   "source": [
    "data = readData(os.path.join('..', 'MSR_data_cleaned.json'))"
   ]
  },
  {
   "cell_type": "code",
   "execution_count": 8,
   "id": "464d17db",
   "metadata": {},
   "outputs": [],
   "source": [
    "df = pd.DataFrame(data)"
   ]
  },
  {
   "cell_type": "code",
   "execution_count": 29,
   "id": "ffeda24b",
   "metadata": {},
   "outputs": [
    {
     "data": {
      "text/plain": [
       "Index(['', 'Access Gained', 'Attack Origin', 'Authentication Required',\n",
       "       'Availability', 'CVE ID', 'CVE Page', 'CWE ID', 'Complexity',\n",
       "       'Confidentiality', 'Integrity', 'Known Exploits', 'Publish Date',\n",
       "       'Score', 'Summary', 'Update Date', 'Vulnerability Classification',\n",
       "       'add_lines', 'codeLink', 'commit_id', 'commit_message', 'del_lines',\n",
       "       'file_name', 'files_changed', 'func_after', 'func_before', 'lang',\n",
       "       'lines_after', 'lines_before', 'parentID', 'patch', 'project',\n",
       "       'project_after', 'project_before', 'vul', 'vul_func_with_fix'],\n",
       "      dtype='object')"
      ]
     },
     "execution_count": 29,
     "metadata": {},
     "output_type": "execute_result"
    }
   ],
   "source": [
    "df.index"
   ]
  },
  {
   "cell_type": "code",
   "execution_count": 40,
   "id": "0ab4709c",
   "metadata": {},
   "outputs": [],
   "source": [
    "transposed_df = df.transpose()"
   ]
  },
  {
   "cell_type": "code",
   "execution_count": 41,
   "id": "a1bde2c4",
   "metadata": {},
   "outputs": [],
   "source": [
    "columns_to_keep = [\"vul\", \"lang\", \"project\", \"func_after\", \"func_before\", \"vul_func_with_fix\", \"Score\", \"Vulnerability Classification\", \"lines_after\", \"lines_before\"]\n",
    "\n",
    "# Keep only the specified columns\n",
    "df_subset = transposed_df[columns_to_keep]"
   ]
  },
  {
   "cell_type": "code",
   "execution_count": 42,
   "id": "2dcbca1e",
   "metadata": {},
   "outputs": [],
   "source": [
    "columns_to_keep = [\"project\", \"lang\", \"vul\", \"func_after\", \"func_before\"]\n",
    "\n",
    "# Keep only the specified columns\n",
    "df_subset = df_subset[columns_to_keep]"
   ]
  },
  {
   "cell_type": "code",
   "execution_count": 43,
   "id": "2558cf7f",
   "metadata": {},
   "outputs": [
    {
     "data": {
      "text/html": [
       "<div>\n",
       "<style scoped>\n",
       "    .dataframe tbody tr th:only-of-type {\n",
       "        vertical-align: middle;\n",
       "    }\n",
       "\n",
       "    .dataframe tbody tr th {\n",
       "        vertical-align: top;\n",
       "    }\n",
       "\n",
       "    .dataframe thead th {\n",
       "        text-align: right;\n",
       "    }\n",
       "</style>\n",
       "<table border=\"1\" class=\"dataframe\">\n",
       "  <thead>\n",
       "    <tr style=\"text-align: right;\">\n",
       "      <th></th>\n",
       "      <th>project</th>\n",
       "      <th>lang</th>\n",
       "      <th>vul</th>\n",
       "      <th>func_after</th>\n",
       "      <th>func_before</th>\n",
       "    </tr>\n",
       "  </thead>\n",
       "  <tbody>\n",
       "    <tr>\n",
       "      <th>0</th>\n",
       "      <td>samba</td>\n",
       "      <td>C</td>\n",
       "      <td>0</td>\n",
       "      <td>static bool check_rodc_critical_attribute(stru...</td>\n",
       "      <td>static bool check_rodc_critical_attribute(stru...</td>\n",
       "    </tr>\n",
       "    <tr>\n",
       "      <th>1</th>\n",
       "      <td>samba</td>\n",
       "      <td>C</td>\n",
       "      <td>0</td>\n",
       "      <td>static int samldb_add_entry(struct samldb_ctx ...</td>\n",
       "      <td>static int samldb_add_entry(struct samldb_ctx ...</td>\n",
       "    </tr>\n",
       "    <tr>\n",
       "      <th>2</th>\n",
       "      <td>samba</td>\n",
       "      <td>C</td>\n",
       "      <td>0</td>\n",
       "      <td>static int samldb_add_entry_callback(struct ld...</td>\n",
       "      <td>static int samldb_add_entry_callback(struct ld...</td>\n",
       "    </tr>\n",
       "    <tr>\n",
       "      <th>3</th>\n",
       "      <td>samba</td>\n",
       "      <td>C</td>\n",
       "      <td>0</td>\n",
       "      <td>static int samldb_add_handle_msDS_IntId(struct...</td>\n",
       "      <td>static int samldb_add_handle_msDS_IntId(struct...</td>\n",
       "    </tr>\n",
       "    <tr>\n",
       "      <th>4</th>\n",
       "      <td>samba</td>\n",
       "      <td>C</td>\n",
       "      <td>0</td>\n",
       "      <td>static int samldb_add_step(struct samldb_ctx *...</td>\n",
       "      <td>static int samldb_add_step(struct samldb_ctx *...</td>\n",
       "    </tr>\n",
       "    <tr>\n",
       "      <th>...</th>\n",
       "      <td>...</td>\n",
       "      <td>...</td>\n",
       "      <td>...</td>\n",
       "      <td>...</td>\n",
       "      <td>...</td>\n",
       "    </tr>\n",
       "    <tr>\n",
       "      <th>188631</th>\n",
       "      <td>Android</td>\n",
       "      <td>C</td>\n",
       "      <td>1</td>\n",
       "      <td>void impeg2d_dec_p_mb_params(dec_state_t *ps_d...</td>\n",
       "      <td>void impeg2d_dec_p_mb_params(dec_state_t *ps_d...</td>\n",
       "    </tr>\n",
       "    <tr>\n",
       "      <th>188632</th>\n",
       "      <td>Android</td>\n",
       "      <td>C</td>\n",
       "      <td>1</td>\n",
       "      <td>void impeg2d_dec_pnb_mb_params(dec_state_t *ps...</td>\n",
       "      <td>void impeg2d_dec_pnb_mb_params(dec_state_t *ps...</td>\n",
       "    </tr>\n",
       "    <tr>\n",
       "      <th>188633</th>\n",
       "      <td>Android</td>\n",
       "      <td>C</td>\n",
       "      <td>1</td>\n",
       "      <td>int equalizer_get_parameter(effect_context_t *...</td>\n",
       "      <td>int equalizer_get_parameter(effect_context_t *...</td>\n",
       "    </tr>\n",
       "    <tr>\n",
       "      <th>188634</th>\n",
       "      <td>Android</td>\n",
       "      <td>C</td>\n",
       "      <td>1</td>\n",
       "      <td>uint8_t rfc_parse_data(tRFC_MCB* p_mcb, MX_FRA...</td>\n",
       "      <td>uint8_t rfc_parse_data(tRFC_MCB* p_mcb, MX_FRA...</td>\n",
       "    </tr>\n",
       "    <tr>\n",
       "      <th>188635</th>\n",
       "      <td>Android</td>\n",
       "      <td>C</td>\n",
       "      <td>1</td>\n",
       "      <td>uint8_t rfc_parse_data(tRFC_MCB* p_mcb, MX_FRA...</td>\n",
       "      <td>uint8_t rfc_parse_data(tRFC_MCB* p_mcb, MX_FRA...</td>\n",
       "    </tr>\n",
       "  </tbody>\n",
       "</table>\n",
       "<p>188636 rows × 5 columns</p>\n",
       "</div>"
      ],
      "text/plain": [
       "        project lang vul                                         func_after  \\\n",
       "0         samba    C   0  static bool check_rodc_critical_attribute(stru...   \n",
       "1         samba    C   0  static int samldb_add_entry(struct samldb_ctx ...   \n",
       "2         samba    C   0  static int samldb_add_entry_callback(struct ld...   \n",
       "3         samba    C   0  static int samldb_add_handle_msDS_IntId(struct...   \n",
       "4         samba    C   0  static int samldb_add_step(struct samldb_ctx *...   \n",
       "...         ...  ...  ..                                                ...   \n",
       "188631  Android    C   1  void impeg2d_dec_p_mb_params(dec_state_t *ps_d...   \n",
       "188632  Android    C   1  void impeg2d_dec_pnb_mb_params(dec_state_t *ps...   \n",
       "188633  Android    C   1  int equalizer_get_parameter(effect_context_t *...   \n",
       "188634  Android    C   1  uint8_t rfc_parse_data(tRFC_MCB* p_mcb, MX_FRA...   \n",
       "188635  Android    C   1  uint8_t rfc_parse_data(tRFC_MCB* p_mcb, MX_FRA...   \n",
       "\n",
       "                                              func_before  \n",
       "0       static bool check_rodc_critical_attribute(stru...  \n",
       "1       static int samldb_add_entry(struct samldb_ctx ...  \n",
       "2       static int samldb_add_entry_callback(struct ld...  \n",
       "3       static int samldb_add_handle_msDS_IntId(struct...  \n",
       "4       static int samldb_add_step(struct samldb_ctx *...  \n",
       "...                                                   ...  \n",
       "188631  void impeg2d_dec_p_mb_params(dec_state_t *ps_d...  \n",
       "188632  void impeg2d_dec_pnb_mb_params(dec_state_t *ps...  \n",
       "188633  int equalizer_get_parameter(effect_context_t *...  \n",
       "188634  uint8_t rfc_parse_data(tRFC_MCB* p_mcb, MX_FRA...  \n",
       "188635  uint8_t rfc_parse_data(tRFC_MCB* p_mcb, MX_FRA...  \n",
       "\n",
       "[188636 rows x 5 columns]"
      ]
     },
     "execution_count": 43,
     "metadata": {},
     "output_type": "execute_result"
    }
   ],
   "source": [
    "df_subset"
   ]
  },
  {
   "cell_type": "code",
   "execution_count": 50,
   "id": "454f3283",
   "metadata": {},
   "outputs": [
    {
     "data": {
      "text/plain": [
       "<AxesSubplot:>"
      ]
     },
     "execution_count": 50,
     "metadata": {},
     "output_type": "execute_result"
    },
    {
     "data": {
      "image/png": "[encoded data removed]",
      "text/plain": [
       "<Figure size 432x288 with 1 Axes>"
      ]
     },
     "metadata": {
      "needs_background": "light"
     },
     "output_type": "display_data"
    }
   ],
   "source": [
    "df_subset['lang'].value_counts(normalize = False).plot.bar()"
   ]
  },
  {
   "cell_type": "code",
   "execution_count": 51,
   "id": "750dfc86",
   "metadata": {},
   "outputs": [
    {
     "data": {
      "text/plain": [
       "<AxesSubplot:>"
      ]
     },
     "execution_count": 51,
     "metadata": {},
     "output_type": "execute_result"
    },
    {
     "data": {
      "image/png": "[encoded data removed]",
      "text/plain": [
       "<Figure size 432x288 with 1 Axes>"
      ]
     },
     "metadata": {
      "needs_background": "light"
     },
     "output_type": "display_data"
    }
   ],
   "source": [
    "df_subset['vul'].value_counts(normalize = False).plot.bar()"
   ]
  },
  {
   "cell_type": "code",
   "execution_count": 52,
   "id": "8b5f43a5",
   "metadata": {},
   "outputs": [
    {
     "name": "stdout",
     "output_type": "stream",
     "text": [
      "Chrome         77173\n",
      "linux          46855\n",
      "Android         8691\n",
      "qemu            3096\n",
      "php             2709\n",
      "               ...  \n",
      "libbsd             1\n",
      "libICE             1\n",
      "torque             1\n",
      "yodl               1\n",
      "libtomcrypt        1\n",
      "Name: project, Length: 310, dtype: int64\n"
     ]
    }
   ],
   "source": [
    "print(df_subset[\"project\"].value_counts())"
   ]
  },
  {
   "cell_type": "code",
   "execution_count": 77,
   "id": "03263686",
   "metadata": {},
   "outputs": [],
   "source": [
    "df_subset.to_csv(os.path.join('..', \"data\", 'full_dataset.csv'), index=False)"
   ]
  },
  {
   "cell_type": "code",
   "execution_count": 78,
   "id": "1d69f250",
   "metadata": {},
   "outputs": [],
   "source": [
    "chrome = df_subset[df_subset[\"project\"] == \"Chrome\"]\n",
    "chrome.to_csv(os.path.join('..', \"data\", 'chrome_dataset.csv'), index=False)"
   ]
  },
  {
   "cell_type": "code",
   "execution_count": 79,
   "id": "5aa5c7bd",
   "metadata": {},
   "outputs": [],
   "source": [
    "linux = df_subset[df_subset[\"project\"] == \"linux\"]\n",
    "linux.to_csv(os.path.join('..', \"data\", 'linux_dataset.csv'), index=False)"
   ]
  },
  {
   "cell_type": "code",
   "execution_count": null,
   "id": "689140c6",
   "metadata": {},
   "outputs": [],
   "source": []
  }
 ],
 "metadata": {
  "kernelspec": {
   "display_name": "Python 3 (ipykernel)",
   "language": "python",
   "name": "python3"
  },
  "language_info": {
   "codemirror_mode": {
    "name": "ipython",
    "version": 3
   },
   "file_extension": ".py",
   "mimetype": "text/x-python",
   "name": "python",
   "nbconvert_exporter": "python",
   "pygments_lexer": "ipython3",
   "version": "3.7.13"
  }
 },
 "nbformat": 4,
 "nbformat_minor": 5
}
