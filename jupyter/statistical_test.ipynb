{
 "cells": [
  {
   "cell_type": "code",
   "execution_count": 1,
   "id": "7d059746-9669-4d11-a13f-73c6db58d42a",
   "metadata": {},
   "outputs": [],
   "source": [
    "from math import sqrt\n",
    "import matplotlib.pyplot as plt\n",
    "import numpy as np\n",
    "import os\n",
    "import pandas as pd\n",
    "from scipy.stats import wilcoxon\n",
    "import statistics"
   ]
  },
  {
   "cell_type": "code",
   "execution_count": 2,
   "id": "f8602da1-a001-403b-97ca-cc9044e662c4",
   "metadata": {},
   "outputs": [],
   "source": [
    "attention = os.path.join(\"results\", \"seeds\", \"attention\")"
   ]
  },
  {
   "cell_type": "code",
   "execution_count": 3,
   "id": "7ac2d374-c521-407d-a1e7-3b8017c56e9b",
   "metadata": {},
   "outputs": [],
   "source": [
    "locvul = os.path.join(\"results\", \"seeds\", \"locvul\")"
   ]
  },
  {
   "cell_type": "code",
   "execution_count": 4,
   "id": "236636ed-9042-48dd-80f0-14fb73afb0e5",
   "metadata": {},
   "outputs": [],
   "source": [
    "locvul_hal = os.path.join(\"results\", \"seeds\", \"locvul_hal\")"
   ]
  },
  {
   "cell_type": "code",
   "execution_count": 5,
   "id": "7e870c0f-2289-4c8d-a9b7-fc6e66673c21",
   "metadata": {},
   "outputs": [
    {
     "name": "stdout",
     "output_type": "stream",
     "text": [
      "            accuracy  precision  recall   MRR   MAP   MAR  Median_IFA  \\\n",
      "seed                                                                    \n",
      "567890.csv      71.9       19.2    58.2  43.8  41.3  49.2           2   \n",
      "680.csv         71.7       19.2    58.1  44.0  41.5  49.2           2   \n",
      "135.csv         70.7       18.8    57.4  43.6  41.0  48.5           2   \n",
      "123456.csv      71.6       19.0    57.9  43.7  41.0  49.1           2   \n",
      "901234.csv      71.6       19.1    57.8  43.5  41.0  49.0           2   \n",
      "789012.csv      70.0       18.8    56.5  42.7  40.4  47.7           2   \n",
      "456.csv         71.4       18.9    57.6  43.2  40.6  48.8           2   \n",
      "345678.csv      72.4       19.3    58.3  44.1  41.6  49.4           2   \n",
      "789.csv         71.6       19.1    58.1  43.8  41.3  49.2           2   \n",
      "123.csv         70.9       18.9    57.5  43.6  41.0  48.6           2   \n",
      "\n",
      "            EffortRecall  RecallLoc  \n",
      "seed                                 \n",
      "567890.csv         0.600       28.7  \n",
      "680.csv            0.616       28.8  \n",
      "135.csv            0.633       28.6  \n",
      "123456.csv         0.600       28.3  \n",
      "901234.csv         0.600       28.5  \n",
      "789012.csv         0.600       28.4  \n",
      "456.csv            0.600       28.2  \n",
      "345678.csv         0.600       28.9  \n",
      "789.csv            0.644       28.6  \n",
      "123.csv            0.600       28.6  \n"
     ]
    }
   ],
   "source": [
    "all_attention = pd.DataFrame()\n",
    "\n",
    "# Walk through the directory and its subdirectories\n",
    "frames = {}\n",
    "for root, dirs, files in os.walk(attention):\n",
    "    for file in files:\n",
    "        # Check if the file is a CSV file\n",
    "        if file.endswith(\".csv\"):\n",
    "            # Construct the full path of the CSV file\n",
    "            file_path = os.path.join(root, file)\n",
    "            # Read the CSV file into a dataframe\n",
    "            df = pd.read_csv(file_path)\n",
    "            frames[file] = df\n",
    "\n",
    "all_attention = pd.concat(frames, names=['seed'])\n",
    "all_attention.index = all_attention.index.get_level_values('seed')\n",
    "\n",
    "print(all_attention)"
   ]
  },
  {
   "cell_type": "code",
   "execution_count": 6,
   "id": "4298d84c-68ca-4700-874b-6075a1921df5",
   "metadata": {
    "scrolled": true
   },
   "outputs": [
    {
     "name": "stdout",
     "output_type": "stream",
     "text": [
      "        accuracy  precision     recall        MRR        MAP        MAR  \\\n",
      "count  10.000000  10.000000  10.000000  10.000000  10.000000  10.000000   \n",
      "mean   71.380000  19.030000  57.740000  43.600000  41.070000  48.870000   \n",
      "std     0.679542   0.176698   0.531664   0.405518   0.374314   0.501221   \n",
      "min    70.000000  18.800000  56.500000  42.700000  40.400000  47.700000   \n",
      "25%    71.025000  18.900000  57.525000  43.525000  41.000000  48.650000   \n",
      "50%    71.600000  19.050000  57.850000  43.650000  41.000000  49.050000   \n",
      "75%    71.675000  19.175000  58.100000  43.800000  41.300000  49.200000   \n",
      "max    72.400000  19.300000  58.300000  44.100000  41.600000  49.400000   \n",
      "\n",
      "       Median_IFA  EffortRecall  RecallLoc  \n",
      "count        10.0     10.000000  10.000000  \n",
      "mean          2.0      0.609300  28.560000  \n",
      "std           0.0      0.016385   0.217051  \n",
      "min           2.0      0.600000  28.200000  \n",
      "25%           2.0      0.600000  28.425000  \n",
      "50%           2.0      0.600000  28.600000  \n",
      "75%           2.0      0.612000  28.675000  \n",
      "max           2.0      0.644000  28.900000  \n"
     ]
    }
   ],
   "source": [
    "print(all_attention.describe())"
   ]
  },
  {
   "cell_type": "code",
   "execution_count": 7,
   "id": "63bcf926-2b2e-44d9-86ec-b9b2c810bf83",
   "metadata": {},
   "outputs": [
    {
     "name": "stdout",
     "output_type": "stream",
     "text": [
      "            accuracy  precision  recall   MRR   MAP   MAR  Median_IFA  \\\n",
      "seed                                                                    \n",
      "567890.csv      83.1       27.0    77.9  79.7  79.4  63.2           0   \n",
      "680.csv         82.3       27.1    77.9  79.0  78.8  63.0           0   \n",
      "135.csv         82.9       26.9    80.1  78.6  78.5  64.6           0   \n",
      "123456.csv      82.9       27.0    80.1  79.5  79.2  64.3           0   \n",
      "901234.csv      82.5       26.9    78.3  79.9  79.6  63.2           0   \n",
      "789012.csv      81.0       26.2    76.7  77.7  77.6  62.1           0   \n",
      "456.csv         81.9       26.7    78.3  79.1  78.9  63.1           0   \n",
      "345678.csv      84.0       27.4    79.2  80.9  80.6  64.0           0   \n",
      "789.csv         83.9       27.2    81.4  80.0  79.8  65.3           0   \n",
      "123.csv         83.4       27.2    80.4  79.4  79.2  64.7           0   \n",
      "\n",
      "            EffortRecall  RecallLoc  \n",
      "seed                                 \n",
      "567890.csv         0.600       30.4  \n",
      "680.csv            0.530       29.1  \n",
      "135.csv            0.559       32.5  \n",
      "123456.csv         0.500       31.6  \n",
      "901234.csv         0.600       29.7  \n",
      "789012.csv         0.500       28.2  \n",
      "456.csv            0.600       29.0  \n",
      "345678.csv         0.600       28.5  \n",
      "789.csv            0.611       28.8  \n",
      "123.csv            0.600       30.5  \n"
     ]
    }
   ],
   "source": [
    "all_locvul = pd.DataFrame()\n",
    "\n",
    "# Walk through the directory and its subdirectories\n",
    "frames = {}\n",
    "for root, dirs, files in os.walk(locvul):\n",
    "    for file in files:\n",
    "        # Check if the file is a CSV file\n",
    "        if file.endswith(\".csv\"):\n",
    "            # Construct the full path of the CSV file\n",
    "            file_path = os.path.join(root, file)\n",
    "            # Read the CSV file into a dataframe\n",
    "            df = pd.read_csv(file_path)\n",
    "            frames[file] = df\n",
    "            \n",
    "all_locvul = pd.concat(frames, names=['seed'])\n",
    "all_locvul.index = all_locvul.index.get_level_values('seed')\n",
    "\n",
    "print(all_locvul)"
   ]
  },
  {
   "cell_type": "code",
   "execution_count": 8,
   "id": "18d0676e-298c-41cd-a0d3-3b27a8fa1066",
   "metadata": {},
   "outputs": [
    {
     "name": "stdout",
     "output_type": "stream",
     "text": [
      "        accuracy  precision     recall        MRR       MAP        MAR  \\\n",
      "count  10.000000  10.000000  10.000000  10.000000  10.00000  10.000000   \n",
      "mean   82.790000  26.960000  79.030000  79.380000  79.16000  63.750000   \n",
      "std     0.913418   0.330656   1.447642   0.865127   0.80305   0.983475   \n",
      "min    81.000000  26.200000  76.700000  77.700000  77.60000  62.100000   \n",
      "25%    82.350000  26.900000  78.000000  79.025000  78.82500  63.125000   \n",
      "50%    82.900000  27.000000  78.750000  79.450000  79.20000  63.600000   \n",
      "75%    83.325000  27.175000  80.100000  79.850000  79.55000  64.525000   \n",
      "max    84.000000  27.400000  81.400000  80.900000  80.60000  65.300000   \n",
      "\n",
      "       Median_IFA  EffortRecall  RecallLoc  \n",
      "count        10.0      10.00000  10.000000  \n",
      "mean          0.0       0.57000  29.830000  \n",
      "std           0.0       0.04435   1.404793  \n",
      "min           0.0       0.50000  28.200000  \n",
      "25%           0.0       0.53725  28.850000  \n",
      "50%           0.0       0.60000  29.400000  \n",
      "75%           0.0       0.60000  30.475000  \n",
      "max           0.0       0.61100  32.500000  \n"
     ]
    }
   ],
   "source": [
    "print(all_locvul.describe())"
   ]
  },
  {
   "cell_type": "code",
   "execution_count": 9,
   "id": "2a0864c8-c37d-4c6d-aaa4-9f7b5510266f",
   "metadata": {},
   "outputs": [
    {
     "name": "stdout",
     "output_type": "stream",
     "text": [
      "            accuracy  precision  recall   MRR   MAP   MAR  Median_IFA  \\\n",
      "seed                                                                    \n",
      "567890.csv      81.1       25.5    74.5  77.2  76.9  61.1           0   \n",
      "680.csv         80.6       25.6    74.9  77.0  76.6  61.2           0   \n",
      "135.csv         80.5       24.9    74.3  75.8  75.6  61.1           0   \n",
      "123456.csv      80.3       25.2    74.5  76.5  76.2  60.8           0   \n",
      "901234.csv      80.3       25.3    73.7  77.2  77.0  60.4           0   \n",
      "789012.csv      79.6       25.0    73.2  75.7  75.3  60.0           0   \n",
      "456.csv         80.4       25.0    73.8  77.2  76.9  60.5           0   \n",
      "345678.csv      81.7       25.7    75.4  78.1  77.8  61.7           0   \n",
      "789.csv         81.1       25.4    74.7  77.4  77.0  61.2           0   \n",
      "123.csv         80.4       25.1    74.1  76.5  76.1  60.8           0   \n",
      "\n",
      "            EffortRecall  RecallLoc  \n",
      "seed                                 \n",
      "567890.csv         0.700       27.0  \n",
      "680.csv            0.628       24.9  \n",
      "135.csv            0.708       26.7  \n",
      "123456.csv         0.700       26.6  \n",
      "901234.csv         0.800       24.7  \n",
      "789012.csv         0.600       24.7  \n",
      "456.csv            0.800       24.3  \n",
      "345678.csv         0.700       24.5  \n",
      "789.csv            0.698       25.3  \n",
      "123.csv            0.700       24.8  \n"
     ]
    }
   ],
   "source": [
    "all_locvul_hal = pd.DataFrame()\n",
    "\n",
    "# Walk through the directory and its subdirectories\n",
    "frames = {}\n",
    "for root, dirs, files in os.walk(locvul_hal):\n",
    "    for file in files:\n",
    "        # Check if the file is a CSV file\n",
    "        if file.endswith(\".csv\"):\n",
    "            # Construct the full path of the CSV file\n",
    "            file_path = os.path.join(root, file)\n",
    "            # Read the CSV file into a dataframe\n",
    "            df = pd.read_csv(file_path)\n",
    "            frames[file] = df\n",
    "            \n",
    "all_locvul_hal = pd.concat(frames, names=['seed'])\n",
    "all_locvul_hal.index = all_locvul_hal.index.get_level_values('seed')\n",
    "\n",
    "print(all_locvul_hal)"
   ]
  },
  {
   "cell_type": "code",
   "execution_count": 10,
   "id": "50afed8b-dbc5-45a1-95b5-36315409e44f",
   "metadata": {},
   "outputs": [
    {
     "name": "stdout",
     "output_type": "stream",
     "text": [
      "        accuracy  precision     recall       MRR        MAP        MAR  \\\n",
      "count  10.000000  10.000000  10.000000  10.00000  10.000000  10.000000   \n",
      "mean   80.600000  25.270000  74.310000  76.86000  76.540000  60.880000   \n",
      "std     0.575423   0.275076   0.638488   0.73967   0.745654   0.487169   \n",
      "min    79.600000  24.900000  73.200000  75.70000  75.300000  60.000000   \n",
      "25%    80.325000  25.025000  73.875000  76.50000  76.125000  60.575000   \n",
      "50%    80.450000  25.250000  74.400000  77.10000  76.750000  60.950000   \n",
      "75%    80.975000  25.475000  74.650000  77.20000  76.975000  61.175000   \n",
      "max    81.700000  25.700000  75.400000  78.10000  77.800000  61.700000   \n",
      "\n",
      "       Median_IFA  EffortRecall  RecallLoc  \n",
      "count        10.0     10.000000   10.00000  \n",
      "mean          0.0      0.703400   25.35000  \n",
      "std           0.0      0.062482    1.01571  \n",
      "min           0.0      0.600000   24.30000  \n",
      "25%           0.0      0.698500   24.70000  \n",
      "50%           0.0      0.700000   24.85000  \n",
      "75%           0.0      0.706000   26.27500  \n",
      "max           0.0      0.800000   27.00000  \n"
     ]
    }
   ],
   "source": [
    "print(all_locvul_hal.describe())"
   ]
  },
  {
   "cell_type": "code",
   "execution_count": 11,
   "id": "36105f8c-3da9-48a9-ae10-3457229854c1",
   "metadata": {},
   "outputs": [],
   "source": [
    "var_of_interest = \"accuracy\" # accuracy, precision, recall, MRR, MAP, MAR, Median_IFA, EffortRecall, RecallLoc\n",
    "#print(all_locvul[var_of_interest])"
   ]
  },
  {
   "cell_type": "markdown",
   "id": "7ec04d80-9f33-4f99-852e-8f3be96a32be",
   "metadata": {},
   "source": [
    "Conduct the Wilcoxon-Signed Rank Test: pvalue < 0.05 --> statistically significant differentiation of the results"
   ]
  },
  {
   "cell_type": "code",
   "execution_count": 12,
   "id": "4755fa67-9c89-4446-97cf-7969a0926b7a",
   "metadata": {},
   "outputs": [
    {
     "name": "stdout",
     "output_type": "stream",
     "text": [
      "Wilcoxon statistic coefficient: 55.0\n",
      "p-value: 0.0009765625\n",
      "statistically significant differentiation\n"
     ]
    }
   ],
   "source": [
    "## RQs\n",
    "# Define the data arrays\n",
    "approach1 = all_locvul[var_of_interest].values.tolist()\n",
    "approach2 = all_attention[var_of_interest].values.tolist()\n",
    "\n",
    "# Null hypothesis: approach1 is equal to approach 2 i.e., approach1 is not greater (or less for ifa and effortRecall) from approach2\n",
    "\n",
    "# Alternative hypothesis: approach1 is greater (or less in for ifa and effortRecall) from approach2\n",
    "\n",
    "# Conduct a one-tailed Wilcoxon signed-rank test\n",
    "statistic, pvalue = wilcoxon(approach1, approach2, alternative='greater') # greater for all metrics except IFA and EffortRecall\n",
    "\n",
    "print(\"Wilcoxon statistic coefficient:\", statistic)\n",
    "print(\"p-value:\", pvalue)\n",
    "\n",
    "if pvalue < 0.05:\n",
    "    print(\"statistically significant differentiation\")\n",
    "else:\n",
    "    print(\"no statistical significance\")"
   ]
  },
  {
   "cell_type": "code",
   "execution_count": 13,
   "id": "c16908c4-8126-496b-a33a-1a71f792165d",
   "metadata": {},
   "outputs": [
    {
     "name": "stdout",
     "output_type": "stream",
     "text": [
      "Wilcoxon statistic coefficient: 55.0\n",
      "p-value: 0.0009765625\n",
      "statistically significant differentiation\n"
     ]
    }
   ],
   "source": [
    "## Hallucinations\n",
    "# Define the data arrays\n",
    "approach1 = all_locvul[var_of_interest].values.tolist()\n",
    "approach2 = all_locvul_hal[var_of_interest].values.tolist()\n",
    "\n",
    "# Null hypothesis: approach1 is equal to approach 2 i.e., approach1 is not greater (or less for ifa and effortRecall) from approach2\n",
    "\n",
    "# Alternative hypothesis: approach1 is greater (or less in for ifa and effortRecall) from approach2\n",
    "\n",
    "# Conduct a one-tailed Wilcoxon signed-rank test\n",
    "statistic, pvalue = wilcoxon(approach1, approach2, alternative='greater') # greater for all metrics except IFA and EffortRecall\n",
    "\n",
    "print(\"Wilcoxon statistic coefficient:\", statistic)\n",
    "print(\"p-value:\", pvalue)\n",
    "\n",
    "if pvalue < 0.05:\n",
    "    print(\"statistically significant differentiation\")\n",
    "else:\n",
    "    print(\"no statistical significance\")"
   ]
  }
 ],
 "metadata": {
  "kernelspec": {
   "display_name": "Python 3 (ipykernel)",
   "language": "python",
   "name": "python3"
  },
  "language_info": {
   "codemirror_mode": {
    "name": "ipython",
    "version": 3
   },
   "file_extension": ".py",
   "mimetype": "text/x-python",
   "name": "python",
   "nbconvert_exporter": "python",
   "pygments_lexer": "ipython3",
   "version": "3.9.19"
  }
 },
 "nbformat": 4,
 "nbformat_minor": 5
}
