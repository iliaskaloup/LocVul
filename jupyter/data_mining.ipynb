{
 "cells": [
  {
   "cell_type": "code",
   "execution_count": 1,
   "id": "5cadce6a-b469-43b1-a7bb-53dbc21d969d",
   "metadata": {},
   "outputs": [],
   "source": [
    "import os\n",
    "import subprocess\n",
    "import sys\n",
    "import pandas as pd"
   ]
  },
  {
   "cell_type": "code",
   "execution_count": 2,
   "id": "601c7b65-dee9-40d0-a062-7f711c0176b8",
   "metadata": {},
   "outputs": [],
   "source": [
    "def install_gdown():\n",
    "    subprocess.check_call([sys.executable, '-m', 'pip', 'install', 'gdown'])\n",
    "\n",
    "def download_file(url, output):\n",
    "    import gdown\n",
    "    try:\n",
    "        gdown.download(url, output, quiet=False)\n",
    "        print(f\"Downloaded {output} successfully.\")\n",
    "    except Exception as e:\n",
    "        print(f\"Error downloading {output}: {e}\")"
   ]
  },
  {
   "cell_type": "code",
   "execution_count": null,
   "id": "3a15fe18-c5f0-4130-bfe8-eb13ca1b2c89",
   "metadata": {},
   "outputs": [],
   "source": [
    "install_gdown()\n",
    "\n",
    "# URLs for the datasets\n",
    "urls = [\n",
    "    \"https://drive.google.com/uc?id=1ldXyFvHG41VMrm260cK_JEPYqeb6e6Yw\",\n",
    "    \"https://drive.google.com/uc?id=1yggncqivMcP0tzbh8-8Eu02Edwcs44WZ\",\n",
    "    \"https://drive.google.com/uc?id=1h0iFJbc5DGXCXXvvR6dru_Dms_b2zW4V\"\n",
    "]\n",
    "\n",
    "# Corresponding output file names\n",
    "files = [\"train.csv\", \"val.csv\", \"test.csv\"]\n",
    "\n",
    "# Directory to save the files\n",
    "data_dir = os.path.join(\"data\")\n",
    "\n",
    "# Create the directory if it does not exist\n",
    "os.makedirs(data_dir, exist_ok=True)\n",
    "\n",
    "# Download each file\n",
    "for url, file in zip(urls, files):\n",
    "    output_path = os.path.join(data_dir, file)\n",
    "    download_file(url, output_path)\n",
    "\n",
    "# Load the datasets and concatenate them\n",
    "data_frames = []\n",
    "for file in files:\n",
    "    file_path = os.path.join(data_dir, file)\n",
    "    df = pd.read_csv(file_path)\n",
    "    print(len(df))\n",
    "    data_frames.append(df)\n",
    "\n",
    "# Concatenate all data frames\n",
    "combined_df = pd.concat(data_frames, ignore_index=True)\n",
    "\n",
    "# Save the combined dataset\n",
    "combined_output_path = os.path.join(data_dir, 'dataset.csv')\n",
    "combined_df.to_csv(combined_output_path, index=False)\n",
    "\n",
    "for file in files:\n",
    "    file_path = os.path.join(data_dir, file)\n",
    "    try:\n",
    "        os.remove(file_path)\n",
    "    except Exception as e:\n",
    "        print(f\"Error removing {file_path}: {e}\")\n",
    "\n",
    "\n",
    "\n"
   ]
  }
 ],
 "metadata": {
  "kernelspec": {
   "display_name": "Python 3 (ipykernel)",
   "language": "python",
   "name": "python3"
  },
  "language_info": {
   "codemirror_mode": {
    "name": "ipython",
    "version": 3
   },
   "file_extension": ".py",
   "mimetype": "text/x-python",
   "name": "python",
   "nbconvert_exporter": "python",
   "pygments_lexer": "ipython3",
   "version": "3.9.19"
  }
 },
 "nbformat": 4,
 "nbformat_minor": 5
}
