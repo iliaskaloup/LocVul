{
 "cells": [
  {
   "cell_type": "code",
   "execution_count": 52,
   "id": "b75d92e3",
   "metadata": {},
   "outputs": [],
   "source": [
    "import pandas as pd\n",
    "import json, os\n",
    "\n",
    "import tensorflow as tf\n",
    "import numpy as np\n",
    "import csv\n",
    "from transformers import AutoTokenizer, TFAutoModel, TFAutoModelForSequenceClassification #, BertModel, BertTokenizer, TFBertForSequenceClassification\n",
    "import matplotlib.pyplot as plt\n",
    "import random\n",
    "from tensorflow.keras.callbacks import CSVLogger\n",
    "from tensorflow.keras.callbacks import EarlyStopping\n",
    "import tensorflow.keras.backend as K\n",
    "from collections import OrderedDict\n",
    "import time\n",
    "from sklearn.metrics import accuracy_score, recall_score, f1_score, precision_score, \\\n",
    "roc_auc_score, confusion_matrix, classification_report\n",
    "from sklearn.model_selection import StratifiedKFold\n",
    "import random\n",
    "import io\n",
    "\n",
    "from tensorflow.keras.models import Sequential\n",
    "from tensorflow.keras.models import Sequential\n",
    "from tensorflow.keras.layers import Dense, Activation, Dropout\n",
    "from tensorflow.keras import regularizers\n",
    "from tensorflow.keras import layers\n",
    "from tensorflow.keras.layers import LSTM, SimpleRNN\n",
    "from tensorflow.keras.layers import GRU\n",
    "from tensorflow.keras.layers import Masking\n",
    "from tensorflow.keras.layers import Embedding, MaxPool1D\n",
    "from tensorflow.keras.callbacks import CSVLogger\n",
    "from tensorflow.keras.callbacks import EarlyStopping, ModelCheckpoint\n",
    "from tensorflow.keras.models import load_model\n",
    "from tensorflow.keras import optimizers\n",
    "from tensorflow.keras.constraints import max_norm\n",
    "from tensorflow.keras.layers import Bidirectional, BatchNormalization\n",
    "from tensorflow.keras.layers import LeakyReLU\n",
    "from tensorflow.keras.initializers import glorot_uniform, RandomUniform, lecun_uniform, Constant\n",
    "from tensorflow.python.keras.preprocessing.text import Tokenizer\n",
    "from tensorflow.python.keras.preprocessing.sequence import pad_sequences\n",
    "from collections import OrderedDict\n",
    "from sklearn.model_selection import StratifiedKFold\n",
    "from tensorflow.keras.layers import Conv1D\n",
    "from tensorflow.keras.layers import MaxPooling1D, GlobalMaxPool1D\n",
    "import tensorflow.keras.backend as K\n",
    "\n",
    "from tensorflow.keras.optimizers import Adam\n",
    "from tensorflow.keras.initializers import TruncatedNormal\n",
    "from tensorflow.keras.losses import CategoricalCrossentropy\n",
    "from tensorflow.keras.metrics import CategoricalAccuracy\n",
    "from tensorflow.keras.utils import to_categorical\n",
    "from tensorflow.keras.layers import Input, Dense, GlobalMaxPool1D\n",
    "\n",
    "from sklearn.metrics import classification_report\n",
    "from keras_preprocessing.text import tokenizer_from_json\n",
    "\n",
    "import nltk\n",
    "from nltk.tokenize import word_tokenize\n",
    "\n",
    "import seaborn as sns\n",
    "\n",
    "from sklearn.model_selection import train_test_split\n",
    "from sklearn.svm import SVC  \n",
    "from sklearn.naive_bayes import GaussianNB\n",
    "from sklearn import tree\n",
    "from sklearn.ensemble import RandomForestClassifier\n",
    "from gensim.models import Word2Vec, FastText\n",
    "from imblearn.over_sampling import RandomOverSampler, SMOTE, ADASYN\n",
    "from imblearn.under_sampling import RandomUnderSampler\n",
    "from sklearn.utils import shuffle\n"
   ]
  },
  {
   "cell_type": "code",
   "execution_count": 53,
   "id": "a4cbca1a",
   "metadata": {},
   "outputs": [],
   "source": [
    "seed = 123\n",
    "np.random.seed(seed)\n",
    "random.seed(seed)\n",
    "tf.random.set_seed(seed)"
   ]
  },
  {
   "cell_type": "code",
   "execution_count": 54,
   "id": "30a24011",
   "metadata": {},
   "outputs": [],
   "source": [
    "embeddings = [\"w2v\", \"ft\"]\n",
    "embedding = embeddings[1]"
   ]
  },
  {
   "cell_type": "markdown",
   "id": "6059895e",
   "metadata": {},
   "source": [
    "<b>Choose a project among Chrome and Linux or the full dataset</b>"
   ]
  },
  {
   "cell_type": "code",
   "execution_count": 55,
   "id": "c6d86c04",
   "metadata": {},
   "outputs": [],
   "source": [
    "#data = pd.read_csv(os.path.join('..','data', 'full_data_reduced.csv'))\n",
    "#data = pd.read_csv(os.path.join('..','data', 'chrome_data_reduced.csv'))\n",
    "data = pd.read_csv(os.path.join('..','data', 'linux_data_reduced.csv'))"
   ]
  },
  {
   "cell_type": "markdown",
   "id": "38c5b1cf",
   "metadata": {},
   "source": [
    "<b>Shuffle the dataset before starting operating on it</b>"
   ]
  },
  {
   "cell_type": "code",
   "execution_count": 56,
   "id": "60a95914",
   "metadata": {},
   "outputs": [],
   "source": [
    "data = data.sample(frac=1, random_state=seed).reset_index(drop=True)\n",
    "data = data.iloc[0:1000]"
   ]
  },
  {
   "cell_type": "code",
   "execution_count": 57,
   "id": "c8597edf",
   "metadata": {},
   "outputs": [
    {
     "name": "stdout",
     "output_type": "stream",
     "text": [
      "                                                func  vul  length\n",
      "0  static inline void __ap_schedule_poll_timer(vo...    0      30\n",
      "1  static int sctp_autobind(struct sock *sk)\\n{\\n...    0      36\n",
      "2  static ssize_t ucma_init_qp_attr(struct ucma_f...    0      88\n",
      "3  static void __blk_mq_requeue_request(struct re...    0      24\n",
      "4  static void vhost_net_flush(struct vhost_net *...    0      37\n"
     ]
    }
   ],
   "source": [
    "print(data.head())"
   ]
  },
  {
   "cell_type": "code",
   "execution_count": 58,
   "id": "baebd02b",
   "metadata": {},
   "outputs": [
    {
     "data": {
      "text/plain": [
       "234"
      ]
     },
     "execution_count": 58,
     "metadata": {},
     "output_type": "execute_result"
    }
   ],
   "source": [
    "np.max(data[\"length\"])"
   ]
  },
  {
   "cell_type": "code",
   "execution_count": 132,
   "id": "485b09ae",
   "metadata": {},
   "outputs": [
    {
     "name": "stdout",
     "output_type": "stream",
     "text": [
      "Maximum number of words: 234\n"
     ]
    }
   ],
   "source": [
    "word_counts = data[\"func\"].apply(lambda x: len(x.split()))\n",
    "max_length = word_counts.max()\n",
    "print(\"Maximum number of words:\", max_length)\n"
   ]
  },
  {
   "cell_type": "code",
   "execution_count": 133,
   "id": "69061a3f",
   "metadata": {},
   "outputs": [
    {
     "name": "stdout",
     "output_type": "stream",
     "text": [
      "0    966\n",
      "1     34\n",
      "Name: vul, dtype: int64\n",
      "Vulnerability Percentage:  3.5196687370600417 %\n"
     ]
    }
   ],
   "source": [
    "vc = data[\"vul\"].value_counts()\n",
    "\n",
    "print(vc)\n",
    "\n",
    "print(\"Vulnerability Percentage: \", (vc[1] / vc[0])*100, '%')"
   ]
  },
  {
   "cell_type": "markdown",
   "id": "c6ffa700",
   "metadata": {},
   "source": [
    "<b>PRE_PROCESSING</b>"
   ]
  },
  {
   "cell_type": "code",
   "execution_count": 151,
   "id": "9302ce9a",
   "metadata": {},
   "outputs": [
    {
     "name": "stderr",
     "output_type": "stream",
     "text": [
      "[nltk_data] Downloading package punkt to\n",
      "[nltk_data]     C:\\Users\\iliaskaloup\\AppData\\Roaming\\nltk_data...\n",
      "[nltk_data]   Package punkt is already up-to-date!\n"
     ]
    }
   ],
   "source": [
    "nltk.download('punkt')\n",
    "\n",
    "tokenized_list = [word_tokenize(sentence) for sentence in data[\"func\"].tolist()]\n"
   ]
  },
  {
   "cell_type": "markdown",
   "id": "0d708d8b",
   "metadata": {},
   "source": [
    "<b>Train-val-test split</b>"
   ]
  },
  {
   "cell_type": "code",
   "execution_count": 152,
   "id": "5d15b3ec",
   "metadata": {},
   "outputs": [],
   "source": [
    "# split data into train and test and then train into train and val (90% train, 10% test and then 90% train and 20% val)\n",
    "shuffle_seeders = [seed, 10, 15, 20, 25, 30, 35, 40, 45, 50]\n",
    "shuffle_seeder = shuffle_seeders[0]\n",
    "\n",
    "x_train_val, x_test, y_train_val, y_test = train_test_split(tokenized_list, data[\"vul\"].tolist(), stratify = data[\"vul\"].tolist(), test_size=0.1, random_state=shuffle_seeder)\n",
    "\n",
    "x_train, x_val, y_train, y_val = train_test_split(x_train_val, y_train_val, stratify = y_train_val, test_size=0.1, random_state=shuffle_seeder)\n"
   ]
  },
  {
   "cell_type": "markdown",
   "id": "de42decc",
   "metadata": {},
   "source": [
    "<b>Train word embeddings</b>"
   ]
  },
  {
   "cell_type": "code",
   "execution_count": 153,
   "id": "981cdc8a",
   "metadata": {},
   "outputs": [],
   "source": [
    "def vectorize(word_model, words, dim):\n",
    "    words_vecs = [word_model.wv[word] for word in words if word in word_model.wv]\n",
    "    if len(words_vecs) == 0:\n",
    "        return np.zeros(dim)\n",
    "    words_vecs = np.array(words_vecs)\n",
    "    return words_vecs.mean(axis=0)"
   ]
  },
  {
   "cell_type": "code",
   "execution_count": 154,
   "id": "4b50dbee",
   "metadata": {},
   "outputs": [],
   "source": [
    "dim = 100\n",
    "methods = [\"w2v\", \"fastText\"]\n",
    "method = methods[0]\n",
    "\n",
    "if method == \"w2v\":\n",
    "    word_model = Word2Vec(x_train, vector_size=dim, window=20, workers=4, epochs=2, min_count=1) # , sg=1\n",
    "elif method == \"fastText\":\n",
    "    word_model = FastText(x_train, vector_size=dim, window=20, workers=4, epochs=2, min_count=1)\n",
    "\n",
    "#create sentence-level vectors\n",
    "x_train_val = np.array([vectorize(word_model, sentence, dim) for sentence in x_train_val])\n",
    "x_train = np.array([vectorize(word_model, sentence, dim) for sentence in x_train])\n",
    "x_test = np.array([vectorize(word_model, sentence, dim) for sentence in x_test])\n",
    "x_val = np.array([vectorize(word_model, sentence, dim) for sentence in x_val])"
   ]
  },
  {
   "cell_type": "code",
   "execution_count": 155,
   "id": "147299f7",
   "metadata": {},
   "outputs": [],
   "source": [
    "# Convert labels to integers\n",
    "y_train_val = [int(label) for label in y_train_val]\n",
    "y_test = [int(label) for label in y_test]\n",
    "y_train = [int(label) for label in y_train]\n",
    "y_val = [int(label) for label in y_val]"
   ]
  },
  {
   "cell_type": "markdown",
   "id": "cdf15250",
   "metadata": {},
   "source": [
    "<b>Handling imbalanced data</b>"
   ]
  },
  {
   "cell_type": "markdown",
   "id": "d34d26bf",
   "metadata": {},
   "source": [
    "Class weighting"
   ]
  },
  {
   "cell_type": "code",
   "execution_count": 156,
   "id": "b2488d57",
   "metadata": {},
   "outputs": [
    {
     "data": {
      "text/plain": [
       "{0: 0.5175983436853002, 1: 14.705882352941176}"
      ]
     },
     "execution_count": 156,
     "metadata": {},
     "output_type": "execute_result"
    }
   ],
   "source": [
    "#total observations / (number of classes * observations in class)\n",
    "class_weights = {0:len(data) / (len(vc) * vc[0]), 1:len(data) / (len(vc) * vc[1])}\n",
    "#class_weights = {0:1, 1:1}\n",
    "class_weights"
   ]
  },
  {
   "cell_type": "markdown",
   "id": "7d9718d5",
   "metadata": {},
   "source": [
    "Under-sampling of the clean samples"
   ]
  },
  {
   "cell_type": "code",
   "execution_count": 157,
   "id": "7ecd9719",
   "metadata": {},
   "outputs": [
    {
     "name": "stdout",
     "output_type": "stream",
     "text": [
      "Class distribution  0    782\n",
      "1     28\n",
      "dtype: int64\n",
      "Majority class  0\n",
      "Targeted number of majority class 391\n",
      "Expected class distribution {0: 391, 1: 28}\n"
     ]
    }
   ],
   "source": [
    "# Apply under-sampling with the specified strategy\n",
    "class_counts = pd.Series(y_train).value_counts()\n",
    "print(\"Class distribution \", class_counts)\n",
    "majority_class = class_counts.idxmax()\n",
    "print(\"Majority class \", majority_class)\n",
    "target_count = int(class_counts.iloc[0] / 2) \n",
    "print(\"Targeted number of majority class\", target_count)\n",
    "print(\"Expected class distribution\", {0:target_count, 1:class_counts[1]})\n",
    "\n",
    "# under\n",
    "sampling_strategy = {majority_class: target_count}        \n",
    "rus = RandomUnderSampler(random_state=seed, sampling_strategy=sampling_strategy)\n",
    "x_train_resampled, y_train_resampled = rus.fit_resample(x_train, y_train) "
   ]
  },
  {
   "cell_type": "markdown",
   "id": "72cac877",
   "metadata": {},
   "source": [
    "Random Over-sampling of the vulnerable samples"
   ]
  },
  {
   "cell_type": "code",
   "execution_count": 158,
   "id": "81adcdad",
   "metadata": {},
   "outputs": [
    {
     "name": "stdout",
     "output_type": "stream",
     "text": [
      "Class distribution  0    391\n",
      "1     28\n",
      "dtype: int64\n",
      "Minority class  1\n",
      "Targeted number of minority class 391\n",
      "Expected class distribution {0: 391, 1: 391}\n"
     ]
    }
   ],
   "source": [
    "# Apply random under-sampling with the specified strategy\n",
    "class_counts = pd.Series(y_train_resampled).value_counts()\n",
    "print(\"Class distribution \", class_counts)\n",
    "minority_class = class_counts.idxmin()\n",
    "print(\"Minority class \", minority_class)\n",
    "target_count = class_counts.iloc[0] #int(class_counts.iloc[1] * 2) \n",
    "print(\"Targeted number of minority class\", target_count)\n",
    "print(\"Expected class distribution\", {0:class_counts[0], 1:target_count})\n",
    "\n",
    "# over\n",
    "sampling_strategy = {minority_class: target_count}        \n",
    "ros = RandomOverSampler(random_state=seed, sampling_strategy=sampling_strategy)\n",
    "x_train_resampled, y_train_resampled = ros.fit_resample(x_train_resampled, y_train_resampled) "
   ]
  },
  {
   "cell_type": "markdown",
   "id": "6f3973a7",
   "metadata": {},
   "source": [
    "SMOTE Over-sampling of the vulnerable samples"
   ]
  },
  {
   "cell_type": "code",
   "execution_count": null,
   "id": "92dbd212",
   "metadata": {},
   "outputs": [],
   "source": []
  },
  {
   "cell_type": "markdown",
   "id": "20b81e26",
   "metadata": {},
   "source": [
    "ADASYN Over-sampling of the vulnerable samples"
   ]
  },
  {
   "cell_type": "code",
   "execution_count": null,
   "id": "935c448f",
   "metadata": {},
   "outputs": [],
   "source": []
  },
  {
   "cell_type": "code",
   "execution_count": 159,
   "id": "64abdac7",
   "metadata": {},
   "outputs": [],
   "source": [
    "# Shuffle the resampled data while preserving the correspondence between features and labels\n",
    "x_train_resampled, y_train_resampled = shuffle(x_train_resampled, y_train_resampled, random_state=seed)\n",
    "\n",
    "# rename\n",
    "X_train = x_train_resampled\n",
    "Y_train = y_train_resampled"
   ]
  },
  {
   "cell_type": "markdown",
   "id": "2b6a5d19",
   "metadata": {},
   "source": [
    "<b>ML model selection</b>"
   ]
  },
  {
   "cell_type": "code",
   "execution_count": 160,
   "id": "17875e1b",
   "metadata": {},
   "outputs": [],
   "source": [
    "userModels = [\"RF\", \"SVM\", \"DT\", \"NB\", \"KNN\", \"LR\"]\n",
    "userModel = userModels[0]\n",
    "\n",
    "if userModel == \"svm\":\n",
    "    myModel = SVC(kernel='rbf', gamma=100)\n",
    "elif userModel == \"RF\":\n",
    "    myModel = RandomForestClassifier(n_estimators=100, bootstrap = True, max_features = 'sqrt', class_weight=class_weights)\n",
    "elif userModel == \"DT\":\n",
    "    myModel = tree.DecisionTreeClassifier(max_depth=120)\n",
    "elif userModel == \"NB\":\n",
    "    myModel = GaussianNB()"
   ]
  },
  {
   "cell_type": "markdown",
   "id": "14cdd437",
   "metadata": {},
   "source": [
    "<b>Hyperparameter tuning - Validation</b>"
   ]
  },
  {
   "cell_type": "code",
   "execution_count": 162,
   "id": "8313ce34",
   "metadata": {},
   "outputs": [
    {
     "name": "stdout",
     "output_type": "stream",
     "text": [
      "TP= 0\n",
      "TN= 86\n",
      "FP= 1\n",
      "FN= 3\n",
      "Accuracy:95.56%\n",
      "Precision:0.00%\n",
      "Recall:0.00%\n",
      "F1 score:0.00%\n",
      "Roc_Auc score:49.43%\n",
      "F2 score:nan%\n",
      "              precision    recall  f1-score   support\n",
      "\n",
      "           0       0.97      0.99      0.98        87\n",
      "           1       0.00      0.00      0.00         3\n",
      "\n",
      "    accuracy                           0.96        90\n",
      "   macro avg       0.48      0.49      0.49        90\n",
      "weighted avg       0.93      0.96      0.94        90\n",
      "\n"
     ]
    },
    {
     "name": "stderr",
     "output_type": "stream",
     "text": [
      "D:\\anaconda3\\envs\\tfgpu\\lib\\site-packages\\ipykernel_launcher.py:14: RuntimeWarning: invalid value encountered in double_scalars\n",
      "  \n"
     ]
    },
    {
     "data": {
      "image/png": "[encoded data removed]",
      "text/plain": [
       "<Figure size 432x288 with 2 Axes>"
      ]
     },
     "metadata": {
      "needs_background": "light"
     },
     "output_type": "display_data"
    }
   ],
   "source": [
    "# Training\n",
    "myModel.fit(X_train, Y_train) # y_train.ravel()\n",
    "\n",
    "# Predicting\n",
    "predictions = myModel.predict(x_val)\n",
    "#predScores = myModel.predict_proba(x_val)\n",
    "\n",
    "# Evaluation\n",
    "accuracy = accuracy_score(y_val, predictions)\n",
    "precision = precision_score(y_val, predictions)\n",
    "recall = recall_score(y_val, predictions)\n",
    "f1 = f1_score(y_val, predictions)\n",
    "roc_auc = roc_auc_score(y_val, predictions)\n",
    "f2 = 5*precision*recall / (4*precision+recall)\n",
    "\n",
    "cm = confusion_matrix(y_val, predictions, labels=[0, 1])\n",
    "#print(cm)\n",
    "sns.heatmap(cm, annot=True)\n",
    "tn, fp, fn, tp = cm.ravel()\n",
    "\n",
    "print(\"TP=\",tp)\n",
    "print(\"TN=\",tn)\n",
    "print(\"FP=\",fp)\n",
    "print(\"FN=\",fn)\n",
    "\n",
    "print(\"Accuracy:%.2f%%\"%(accuracy*100))\n",
    "print(\"Precision:%.2f%%\"%(precision*100))\n",
    "print(\"Recall:%.2f%%\"%(recall*100))\n",
    "print(\"F1 score:%.2f%%\"%(f1*100))\n",
    "print(\"Roc_Auc score:%.2f%%\"%(roc_auc*100))\n",
    "print(\"F2 score:%.2f%%\"%(f2*100))\n",
    "print(classification_report(y_val, predictions))"
   ]
  },
  {
   "cell_type": "markdown",
   "id": "df04455b",
   "metadata": {},
   "source": [
    "<b>Evaluation</b>"
   ]
  },
  {
   "cell_type": "code",
   "execution_count": 18,
   "id": "ba43f7e3",
   "metadata": {},
   "outputs": [],
   "source": [
    "# # Training\n",
    "# myModel.fit(x_train_val, y_train_val) # y_train.ravel()\n",
    "\n",
    "# # Predicting\n",
    "# predictions = myModel.predict(x_test)\n",
    "# #predScores = myModel.predict_proba(x_test)\n",
    "\n",
    "# # Evaluation\n",
    "# accuracy = accuracy_score(y_test, predictions)\n",
    "# precision = precision_score(y_test, predictions)\n",
    "# recall = recall_score(y_test, predictions)\n",
    "# f1 = f1_score(y_test, predictions)\n",
    "# roc_auc = roc_auc_score(y_test, predictions)\n",
    "# f2 = 5*precision*recall / (4*precision+recall)\n",
    "\n",
    "# cm = confusion_matrix(y_test, predictions, labels=[0, 1])\n",
    "# #print(cm)\n",
    "# sns.heatmap(cm, annot=True)\n",
    "# tn, fp, fn, tp = cm.ravel()\n",
    "\n",
    "# print(\"TP=\",tp)\n",
    "# print(\"TN=\",tn)\n",
    "# print(\"FP=\",fp)\n",
    "# print(\"FN=\",fn)\n",
    "\n",
    "# print(\"Accuracy:%.2f%%\"%(accuracy*100))\n",
    "# print(\"Precision:%.2f%%\"%(precision*100))\n",
    "# print(\"Recall:%.2f%%\"%(recall*100))\n",
    "# print(\"F1 score:%.2f%%\"%(f1*100))\n",
    "# print(\"Roc_Auc score:%.2f%%\"%(roc_auc*100))\n",
    "# print(\"F2 score:%.2f%%\"%(f2*100))\n",
    "# print(classification_report(Y_test, predictions))"
   ]
  },
  {
   "cell_type": "code",
   "execution_count": null,
   "id": "433ec372",
   "metadata": {},
   "outputs": [],
   "source": []
  }
 ],
 "metadata": {
  "kernelspec": {
   "display_name": "Python 3 (ipykernel)",
   "language": "python",
   "name": "python3"
  },
  "language_info": {
   "codemirror_mode": {
    "name": "ipython",
    "version": 3
   },
   "file_extension": ".py",
   "mimetype": "text/x-python",
   "name": "python",
   "nbconvert_exporter": "python",
   "pygments_lexer": "ipython3",
   "version": "3.7.13"
  }
 },
 "nbformat": 4,
 "nbformat_minor": 5
}
