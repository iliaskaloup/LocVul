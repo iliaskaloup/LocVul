{
 "cells": [
  {
   "cell_type": "code",
   "execution_count": 1,
   "id": "5d6039aa",
   "metadata": {},
   "outputs": [],
   "source": [
    "import os\n",
    "import json\n",
    "import numpy as np\n",
    "import random\n",
    "import csv\n",
    "import re\n",
    "\n",
    "import pandas as pd\n",
    "import csv\n",
    "import matplotlib.pyplot as plt\n",
    "import math\n",
    "import numpy as np\n",
    "from collections import Counter\n"
   ]
  },
  {
   "cell_type": "code",
   "execution_count": 2,
   "id": "f5123dab",
   "metadata": {},
   "outputs": [],
   "source": [
    "seed = 123\n",
    "np.random.seed(seed)\n",
    "random.seed(seed)"
   ]
  },
  {
   "cell_type": "code",
   "execution_count": 3,
   "id": "eb5567c2",
   "metadata": {},
   "outputs": [],
   "source": [
    "# tokenSelector c/c++\n",
    "\n",
    "def replace_strings_and_numericals(source_code, strings, numericals):\n",
    "    \n",
    "    if strings == 0:\n",
    "        # Replace strings with \"STR$ID\"\n",
    "        modified_code = re.sub(r'(\\\"[^\\\"]*\\\"|\\'.*?\\')', '\"STR$ID\"', source_code)\n",
    "    else:\n",
    "        modified_code = source_code\n",
    "    \n",
    "    if numericals == 0:\n",
    "        # Replace numerical values with \"NUM%ID\"\n",
    "        modified_code = re.sub(r'\\b\\d+\\b', 'NUM%ID', modified_code)\n",
    "    \n",
    "    return modified_code\n",
    "\n",
    "def remove_import_statements(source_code):\n",
    "    # Remove #include statements\n",
    "    modified_code = re.sub(r'^\\s*#include\\s+.+?(\\n|$)', '', source_code, flags=re.MULTILINE)\n",
    "    \n",
    "    return modified_code\n",
    "\n",
    "def remove_comments(source_code):\n",
    "    # Remove single-line comments\n",
    "    modified_code = re.sub(r'\\/\\/.*', '', source_code)\n",
    "    \n",
    "    # Remove multi-line comments\n",
    "    modified_code = re.sub(r'\\/\\*[\\s\\S]*?\\*\\/', '', modified_code)\n",
    "    \n",
    "    return modified_code\n",
    "\n",
    "def convert_to_lowercase(source_code):\n",
    "    # Convert all letters to lowercase\n",
    "    return source_code.lower()\n",
    "\n",
    "def remove_blank_lines(source_code):\n",
    "    # Remove blank lines\n",
    "    return re.sub(r'^\\s*\\n', '', source_code, flags=re.MULTILINE)\n",
    "\n",
    "def remove_rare_tokens(strings, threshold):\n",
    "    # Step 1: Count the occurrence of each token\n",
    "    token_counts = Counter()\n",
    "    for string in strings:\n",
    "        tokens = string.split()  # Assuming tokens are separated by whitespace\n",
    "        token_counts.update(tokens)\n",
    "\n",
    "    # Step 2: Identify rare tokens\n",
    "    rare_tokens = set(token for token, count in token_counts.items() if count < threshold)\n",
    "\n",
    "    # Step 3: Remove rare tokens from strings\n",
    "    filtered_strings = []\n",
    "    for string in strings:\n",
    "        tokens = string.split()\n",
    "        filtered_tokens = [token for token in tokens if token not in rare_tokens]\n",
    "        filtered_string = ' '.join(filtered_tokens)\n",
    "        filtered_strings.append(filtered_string)\n",
    "\n",
    "    return filtered_strings\n",
    "\n",
    "def remove_often_tokens(strings, threshold):\n",
    "    # Step 1: Count the occurrence of each token\n",
    "    token_counts = Counter()\n",
    "    for string in strings:\n",
    "        tokens = string.split()  # Assuming tokens are separated by whitespace\n",
    "        token_counts.update(tokens)\n",
    "\n",
    "    # Step 2: Identify often tokens\n",
    "    often_tokens = set(token for token, count in token_counts.items() if count >= threshold)\n",
    "\n",
    "    # Step 3: Remove often tokens from strings\n",
    "    filtered_strings = []\n",
    "    for string in strings:\n",
    "        tokens = string.split()\n",
    "        filtered_tokens = [token for token in tokens if token not in often_tokens]\n",
    "        filtered_string = ' '.join(filtered_tokens)\n",
    "        filtered_strings.append(filtered_string)\n",
    "\n",
    "    return filtered_strings\n",
    "\n",
    "def count_token_appearances(strings):\n",
    "    # Step 1: Count the occurrence of each token\n",
    "    token_counts = Counter()\n",
    "    for string in strings:\n",
    "        tokens = string.split()  # Assuming tokens are separated by whitespace\n",
    "        token_counts.update(tokens)\n",
    "\n",
    "    return token_counts\n",
    "\n",
    "def dataTokenization(dataset, comments, strings, numericals, headers, rare, often):    \n",
    "    \n",
    "    for i in range(len(dataset)):\n",
    "        \n",
    "        source_code = dataset[i]\n",
    "        \n",
    "        source_code = replace_strings_and_numericals(source_code, strings, numericals)\n",
    "        \n",
    "        if headers == 0:\n",
    "            source_code = remove_import_statements(source_code)\n",
    "        \n",
    "        if comments == 0:\n",
    "            source_code = remove_comments(source_code)\n",
    "        \n",
    "        source_code = convert_to_lowercase(source_code)\n",
    "        \n",
    "        source_code = remove_blank_lines(source_code)\n",
    "        \n",
    "        dataset[i] = source_code\n",
    "        \n",
    "    token_counts = count_token_appearances(dataset)\n",
    "    ordered_token_counts = token_counts.most_common()\n",
    "    \n",
    "    if rare == 0:\n",
    "        dataset = remove_rare_tokens(dataset, threshold=10)\n",
    "            \n",
    "    if often == 0:\n",
    "        dataset = remove_often_tokens(dataset, threshold=10479)\n",
    "        \n",
    "    return dataset, ordered_token_counts\n",
    "\n"
   ]
  },
  {
   "cell_type": "code",
   "execution_count": 4,
   "id": "723e37f8",
   "metadata": {},
   "outputs": [],
   "source": [
    "# dataAnalyzer\n",
    "\n",
    "def uniqueWords(word_list):\n",
    "    # Concatenate all strings in the list into one big string\n",
    "    big_string = ' '.join(word_list)\n",
    "    \n",
    "    # Split the big string into individual words\n",
    "    all_words = big_string.split()\n",
    "    \n",
    "    # Find unique words\n",
    "    unique_words = list(set(all_words))\n",
    "    \n",
    "    # Count the occurrences of each word\n",
    "    word_counts = Counter(all_words)\n",
    "    \n",
    "    # Create DataFrame from word_counts\n",
    "    word_counts_df = pd.DataFrame(word_counts.items(), columns=['Word', 'Count']).sort_values(by='Count', ascending=False)\n",
    "    \n",
    "    return all_words, unique_words, word_counts_df\n",
    "\n",
    "def labelFrequencies(data):\n",
    "    values = []\n",
    "    for i in range(len(data)):\n",
    "        values.append(data[i])\n",
    "    serVal = pd.DataFrame(values)\n",
    "    return serVal\n",
    "\n",
    "def getLengths(string_list):\n",
    "    # Initialize an empty list to store lengths\n",
    "    lengths = []\n",
    "\n",
    "    # Iterate over each string in the list\n",
    "    for string in string_list:\n",
    "        # Split the string into tokens (words)\n",
    "        tokens = string.split()\n",
    "        # Calculate the length (number of tokens) of the string\n",
    "        length = len(tokens)\n",
    "        # Append the length to the lengths list\n",
    "        lengths.append(length)\n",
    "\n",
    "    return lengths\n",
    "\n",
    "def optLength(data):    \n",
    "    #find the words, the unique words and their frequencies       \n",
    "    allWords, uniques, tokenFreq = uniqueWords(data[\"func\"])\n",
    "\n",
    "    #     #write uniques to file\n",
    "    #     textfile = open(\"uniques.txt\", \"w\", encoding='utf-8')\n",
    "    #     for element in uniques:\n",
    "    #         print(element)\n",
    "    #         textfile.write(element + \"\\n\")\n",
    "    #     textfile.close()\n",
    "\n",
    "    #check balance\n",
    "    labels = labelFrequencies(data[\"vul\"])\n",
    "    labelFreq = labels[0].value_counts()\n",
    "    print(\"labels balance:\\n\",labelFreq)\n",
    "\n",
    "    # find the length of each class file\n",
    "    lens = getLengths(data[\"func\"])\n",
    "\n",
    "    avgLen = np.mean(lens)\n",
    "    print(\"avg of lengths = \", avgLen)\n",
    "    print(\"max of lengths = \", max(lens))\n",
    "    print(\"min of lengths = \", min(lens))\n",
    "\n",
    "    len_sorted = sorted(lens)\n",
    "\n",
    "    med = np.median(len_sorted)\n",
    "    print(\"median= \", med)\n",
    "\n",
    "    plt.plot(len_sorted)\n",
    "    plt.show()\n",
    "\n",
    "    stdev = np.std(len_sorted)\n",
    "    print(\"standard deviation = \", stdev)\n",
    "\n",
    "    split_point = int(med + 2*stdev)\n",
    "    print(\"median + 2*st.d= \", split_point)\n",
    "    max_len_std = len_sorted[split_point-1]\n",
    "    print(\"max length selected, based on median + 2*st.d: \", max_len_std)\n",
    "\n",
    "    #boxplot = len_sorted.boxplot(column=[0])\n",
    "    plt.boxplot(len_sorted)\n",
    "    plt.show()\n",
    "\n",
    "    # finding the 1st and 3rd quartiles\n",
    "    q1 = np.quantile(len_sorted, 0.25)\n",
    "    q3 = np.quantile(len_sorted, 0.75)\n",
    "    # finding the iqr region\n",
    "    iqr = q3-q1\n",
    "    # finding upper and lower whiskers\n",
    "    upper_bound = q3+(1.5*iqr)\n",
    "    lower_bound = q1-(1.5*iqr)\n",
    "    print(iqr, upper_bound, lower_bound)\n",
    "\n",
    "    len_sorted = np.array(len_sorted)\n",
    "    outliers = len_sorted[(len_sorted <= lower_bound) | (len_sorted >= upper_bound)]\n",
    "    split_point = len(len_sorted) - len(outliers)\n",
    "    print(\"IQR-based splitting point: \", split_point)\n",
    "    max_len_iqr = len_sorted[split_point-1]\n",
    "    print(\"max length selected, based on IQR: \", max_len_iqr)\n",
    "\n",
    "    #reshape dataset\n",
    "    max_len = max_len_iqr\n",
    "    data['length'] = lens\n",
    "\n",
    "    filtered_data = data[data['length'] < max_len]\n",
    "    \n",
    "    return filtered_data\n",
    "\n"
   ]
  },
  {
   "cell_type": "code",
   "execution_count": 5,
   "id": "5646f1a4",
   "metadata": {
    "scrolled": true
   },
   "outputs": [
    {
     "name": "stdout",
     "output_type": "stream",
     "text": [
      "labels balance:\n",
      " 0    188636\n",
      "1     10900\n",
      "Name: 0, dtype: int64\n",
      "avg of lengths =  91.94152934808756\n",
      "max of lengths =  15441\n",
      "min of lengths =  1\n",
      "median=  35.0\n"
     ]
    },
    {
     "data": {
      "image/png": "[encoded data removed]",
      "text/plain": [
       "<Figure size 432x288 with 1 Axes>"
      ]
     },
     "metadata": {
      "needs_background": "light"
     },
     "output_type": "display_data"
    },
    {
     "name": "stdout",
     "output_type": "stream",
     "text": [
      "standard deviation =  240.74262256204736\n",
      "median + 2*st.d=  516\n",
      "max length selected, based on median + 2*st.d:  2\n"
     ]
    },
    {
     "data": {
      "image/png": "[encoded data removed]",
      "text/plain": [
       "<Figure size 432x288 with 1 Axes>"
      ]
     },
     "metadata": {
      "needs_background": "light"
     },
     "output_type": "display_data"
    },
    {
     "name": "stdout",
     "output_type": "stream",
     "text": [
      "71.0 192.5 -91.5\n",
      "IQR-based splitting point:  178562\n",
      "max length selected, based on IQR:  192\n",
      "labels balance:\n",
      " 0    77173\n",
      "1     3939\n",
      "Name: 0, dtype: int64\n",
      "avg of lengths =  37.310743169937865\n",
      "max of lengths =  5094\n",
      "min of lengths =  1\n",
      "median=  18.0\n"
     ]
    },
    {
     "data": {
      "image/png": "[encoded data removed]",
      "text/plain": [
       "<Figure size 432x288 with 1 Axes>"
      ]
     },
     "metadata": {
      "needs_background": "light"
     },
     "output_type": "display_data"
    },
    {
     "name": "stdout",
     "output_type": "stream",
     "text": [
      "standard deviation =  79.16451851801159\n",
      "median + 2*st.d=  176\n",
      "max length selected, based on median + 2*st.d:  2\n"
     ]
    },
    {
     "data": {
      "image/png": "[encoded data removed]",
      "text/plain": [
       "<Figure size 432x288 with 1 Axes>"
      ]
     },
     "metadata": {
      "needs_background": "light"
     },
     "output_type": "display_data"
    },
    {
     "name": "stdout",
     "output_type": "stream",
     "text": [
      "29.0 81.5 -34.5\n",
      "IQR-based splitting point:  73377\n",
      "max length selected, based on IQR:  81\n",
      "labels balance:\n",
      " 0    46855\n",
      "1     1961\n",
      "Name: 0, dtype: int64\n",
      "avg of lengths =  96.75073746312684\n",
      "max of lengths =  5497\n",
      "min of lengths =  1\n",
      "median=  51.0\n"
     ]
    },
    {
     "data": {
      "image/png": "[encoded data removed]",
      "text/plain": [
       "<Figure size 432x288 with 1 Axes>"
      ]
     },
     "metadata": {
      "needs_background": "light"
     },
     "output_type": "display_data"
    },
    {
     "name": "stdout",
     "output_type": "stream",
     "text": [
      "standard deviation =  146.2942522963433\n",
      "median + 2*st.d=  343\n",
      "max length selected, based on median + 2*st.d:  7\n"
     ]
    },
    {
     "data": {
      "image/png": "[encoded data removed]",
      "text/plain": [
       "<Figure size 432x288 with 1 Axes>"
      ]
     },
     "metadata": {
      "needs_background": "light"
     },
     "output_type": "display_data"
    },
    {
     "name": "stdout",
     "output_type": "stream",
     "text": [
      "86.0 239.0 -105.0\n",
      "IQR-based splitting point:  44487\n",
      "max length selected, based on IQR:  238\n"
     ]
    }
   ],
   "source": [
    "comments = 1 # at zero -> delete\n",
    "strings = 1\n",
    "numericals = 1\n",
    "headers = 1\n",
    "rare = 1 # at zero remove rare\n",
    "often = 1 # at zero remove too often\n",
    "\n",
    "df_full = pd.read_csv(os.path.join('..','data', 'full_flat.csv'))\n",
    "df_chrome = pd.read_csv(os.path.join('..','data', 'chrome_flat.csv'))\n",
    "df_linux = pd.read_csv(os.path.join('..','data', 'linux_flat.csv'))\n",
    "\n",
    "#sequences = tokenSelector.dataTokenization(dataset, filename, comments, strings, numericals, headers)\n",
    "df_full[\"func\"], ordered_token_counts = dataTokenization(df_full['func'].tolist(), comments, strings, numericals, headers, rare, often)\n",
    "df_chrome[\"func\"], ordered_token_counts = dataTokenization(df_chrome['func'].tolist(), comments, strings, numericals, headers, rare, often)\n",
    "df_linux[\"func\"], ordered_token_counts = dataTokenization(df_linux['func'].tolist(), comments, strings, numericals, headers, rare, often)\n",
    "\n",
    "# data analysis\n",
    "full_reduced = optLength(df_full)\n",
    "chrome_reduced = optLength(df_chrome)\n",
    "linux_reduced = optLength(df_linux)\n",
    "\n",
    "# store projects' dataframes with reduced lenght in csv files\n",
    "full_reduced.to_csv(os.path.join('..','data', 'full_data_reduced.csv'), index=False)\n",
    "chrome_reduced.to_csv(os.path.join('..','data', 'chrome_data_reduced.csv'), index=False)\n",
    "linux_reduced.to_csv(os.path.join('..','data', 'linux_data_reduced.csv'), index=False)\n",
    "\n",
    "# read them\n",
    "full = pd.read_csv(os.path.join('..','data', 'full_data_reduced.csv'))\n",
    "chrome = pd.read_csv(os.path.join('..','data', 'chrome_data_reduced.csv'))\n",
    "linux = pd.read_csv(os.path.join('..','data', 'linux_data_reduced.csv'))"
   ]
  },
  {
   "cell_type": "code",
   "execution_count": 10,
   "id": "55f54559",
   "metadata": {},
   "outputs": [
    {
     "data": {
      "text/plain": [
       "('=', 284713)"
      ]
     },
     "execution_count": 10,
     "metadata": {},
     "output_type": "execute_result"
    }
   ],
   "source": [
    "ordered_token_counts[0]"
   ]
  }
 ],
 "metadata": {
  "kernelspec": {
   "display_name": "Python 3 (ipykernel)",
   "language": "python",
   "name": "python3"
  },
  "language_info": {
   "codemirror_mode": {
    "name": "ipython",
    "version": 3
   },
   "file_extension": ".py",
   "mimetype": "text/x-python",
   "name": "python",
   "nbconvert_exporter": "python",
   "pygments_lexer": "ipython3",
   "version": "3.7.13"
  }
 },
 "nbformat": 4,
 "nbformat_minor": 5
}
