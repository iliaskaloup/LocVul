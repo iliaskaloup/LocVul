{
 "cells": [
  {
   "cell_type": "code",
   "execution_count": 1,
   "id": "b75d92e3",
   "metadata": {},
   "outputs": [
    {
     "name": "stderr",
     "output_type": "stream",
     "text": [
      "D:\\anaconda3\\envs\\tfgpu\\lib\\site-packages\\tqdm\\auto.py:22: TqdmWarning: IProgress not found. Please update jupyter and ipywidgets. See https://ipywidgets.readthedocs.io/en/stable/user_install.html\n",
      "  from .autonotebook import tqdm as notebook_tqdm\n"
     ]
    }
   ],
   "source": [
    "import pandas as pd\n",
    "import json, os\n",
    "\n",
    "import tensorflow as tf\n",
    "import numpy as np\n",
    "import csv\n",
    "from transformers import AutoTokenizer, TFAutoModel, TFAutoModelForSequenceClassification #, BertModel, BertTokenizer, TFBertForSequenceClassification\n",
    "import matplotlib.pyplot as plt\n",
    "import random\n",
    "from tensorflow.keras.callbacks import CSVLogger\n",
    "from tensorflow.keras.callbacks import EarlyStopping\n",
    "import tensorflow.keras.backend as K\n",
    "from collections import OrderedDict\n",
    "import time\n",
    "from sklearn.metrics import accuracy_score, recall_score, f1_score, precision_score, \\\n",
    "roc_auc_score, confusion_matrix, classification_report\n",
    "from sklearn.model_selection import StratifiedKFold\n",
    "import random\n",
    "import io\n",
    "\n",
    "from tensorflow.keras.models import Sequential\n",
    "from tensorflow.keras.models import Sequential\n",
    "from tensorflow.keras.layers import Dense, Activation, Dropout\n",
    "from tensorflow.keras import regularizers\n",
    "from tensorflow.keras import layers\n",
    "from tensorflow.keras.layers import LSTM, SimpleRNN\n",
    "from tensorflow.keras.layers import GRU\n",
    "from tensorflow.keras.layers import Masking\n",
    "from tensorflow.keras.layers import Embedding, MaxPool1D\n",
    "from tensorflow.keras.callbacks import CSVLogger\n",
    "from tensorflow.keras.callbacks import EarlyStopping, ModelCheckpoint\n",
    "from tensorflow.keras.models import load_model\n",
    "from tensorflow.keras import optimizers\n",
    "from tensorflow.keras.constraints import max_norm\n",
    "from tensorflow.keras.layers import Bidirectional, BatchNormalization\n",
    "from tensorflow.keras.layers import LeakyReLU\n",
    "from tensorflow.keras.initializers import glorot_uniform, RandomUniform, lecun_uniform, Constant, TruncatedNormal\n",
    "from tensorflow.python.keras.preprocessing.text import Tokenizer\n",
    "from tensorflow.python.keras.preprocessing.sequence import pad_sequences\n",
    "from collections import OrderedDict\n",
    "from sklearn.model_selection import StratifiedKFold\n",
    "from tensorflow.keras.layers import Conv1D\n",
    "from tensorflow.keras.layers import MaxPooling1D, GlobalMaxPool1D, Flatten\n",
    "import tensorflow.keras.backend as K\n",
    "\n",
    "from tensorflow.keras.losses import CategoricalCrossentropy\n",
    "from tensorflow.keras.metrics import CategoricalAccuracy\n",
    "from tensorflow.keras.utils import to_categorical\n",
    "from tensorflow.keras.layers import Input, Dense, GlobalMaxPool1D\n",
    "\n",
    "from sklearn.metrics import classification_report\n",
    "from keras_preprocessing.text import tokenizer_from_json\n",
    "\n",
    "import nltk\n",
    "from nltk.tokenize import word_tokenize\n",
    "\n",
    "import seaborn as sns\n",
    "from sklearn.model_selection import train_test_split\n",
    "from sklearn.svm import SVC  \n",
    "from sklearn.naive_bayes import GaussianNB\n",
    "from sklearn import tree\n",
    "from sklearn.ensemble import RandomForestClassifier\n",
    "from imblearn.over_sampling import RandomOverSampler, SMOTE, ADASYN\n",
    "from imblearn.under_sampling import RandomUnderSampler\n",
    "from sklearn.utils import shuffle\n",
    "\n",
    "from sklearn.utils.class_weight import compute_class_weight\n",
    "from tensorflow.keras.regularizers import l1_l2\n"
   ]
  },
  {
   "cell_type": "code",
   "execution_count": 2,
   "id": "a4cbca1a",
   "metadata": {},
   "outputs": [],
   "source": [
    "seed = 123\n",
    "np.random.seed(seed)\n",
    "random.seed(seed)\n",
    "tf.random.set_seed(seed)"
   ]
  },
  {
   "cell_type": "code",
   "execution_count": 3,
   "id": "30a24011",
   "metadata": {},
   "outputs": [],
   "source": [
    "embeddings = [\"w2v\", \"ft\", \"bert\", \"codebert\"]\n",
    "embedding = embeddings[3]"
   ]
  },
  {
   "cell_type": "markdown",
   "id": "6059895e",
   "metadata": {},
   "source": [
    "Choose a project among Chrome and Linux or the full dataset"
   ]
  },
  {
   "cell_type": "code",
   "execution_count": 4,
   "id": "c6d86c04",
   "metadata": {},
   "outputs": [],
   "source": [
    "#data = pd.read_csv(os.path.join('..','data', 'full_data_reduced.csv'))\n",
    "data = pd.read_csv(os.path.join('..','data', 'chrome_data_reduced.csv'))\n",
    "#data = pd.read_csv(os.path.join('..','data', 'linux_data_reduced.csv'))"
   ]
  },
  {
   "cell_type": "markdown",
   "id": "38c5b1cf",
   "metadata": {},
   "source": [
    "Shuffle the dataset before starting operating on it"
   ]
  },
  {
   "cell_type": "code",
   "execution_count": 5,
   "id": "60a95914",
   "metadata": {},
   "outputs": [],
   "source": [
    "data = data.sample(frac=1, random_state=seed).reset_index(drop=True)"
   ]
  },
  {
   "cell_type": "code",
   "execution_count": 6,
   "id": "c8597edf",
   "metadata": {},
   "outputs": [
    {
     "name": "stdout",
     "output_type": "stream",
     "text": [
      "                                                func  vul  length\n",
      "0    midimanagerusbtest() : message_loop_(new bas...    0      14\n",
      "1  void renderframehostimpl::cancelblockedrequest...    0       8\n",
      "2  void renderthreadimpl::removeobserver(renderth...    0       7\n",
      "3  void webstorestandaloneinstaller::initinstalld...    0       7\n",
      "4  omniboxstate::omniboxstate(const omniboxeditmo...    0      15\n"
     ]
    }
   ],
   "source": [
    "print(data.head())"
   ]
  },
  {
   "cell_type": "code",
   "execution_count": 7,
   "id": "baebd02b",
   "metadata": {},
   "outputs": [
    {
     "data": {
      "text/plain": [
       "80"
      ]
     },
     "execution_count": 7,
     "metadata": {},
     "output_type": "execute_result"
    }
   ],
   "source": [
    "np.max(data[\"length\"])"
   ]
  },
  {
   "cell_type": "code",
   "execution_count": 8,
   "id": "485b09ae",
   "metadata": {},
   "outputs": [
    {
     "name": "stdout",
     "output_type": "stream",
     "text": [
      "Maximum number of words: 80\n"
     ]
    }
   ],
   "source": [
    "word_counts = data[\"func\"].apply(lambda x: len(x.split()))\n",
    "max_length = word_counts.max()\n",
    "print(\"Maximum number of words:\", max_length)\n"
   ]
  },
  {
   "cell_type": "code",
   "execution_count": 9,
   "id": "69061a3f",
   "metadata": {},
   "outputs": [
    {
     "name": "stdout",
     "output_type": "stream",
     "text": [
      "0    70232\n",
      "1     3000\n",
      "Name: vul, dtype: int64\n",
      "Vulnerability Percentage:  4.271557124957284 %\n"
     ]
    }
   ],
   "source": [
    "vc = data[\"vul\"].value_counts()\n",
    "\n",
    "print(vc)\n",
    "\n",
    "print(\"Vulnerability Percentage: \", (vc[1] / vc[0])*100, '%')"
   ]
  },
  {
   "cell_type": "markdown",
   "id": "9251f04f",
   "metadata": {},
   "source": [
    "Train-val-test split"
   ]
  },
  {
   "cell_type": "code",
   "execution_count": 10,
   "id": "3ebe5717",
   "metadata": {},
   "outputs": [],
   "source": [
    "# split data into train and test and then train into train and val (90% train, 10% test and then 90% train and 10% val)\n",
    "shuffle_seeders = [seed, 10, 15, 20, 25, 30, 35, 40, 45, 50]\n",
    "shuffle_seeder = shuffle_seeders[0]\n",
    "\n",
    "x_train_val, x_test, y_train_val, y_test = train_test_split(data[\"func\"].tolist(), data[\"vul\"].tolist(), stratify = data[\"vul\"].tolist(), test_size=0.1, random_state=shuffle_seeder)\n",
    "\n",
    "x_train, x_val, y_train, y_val = train_test_split(x_train_val, y_train_val, stratify = y_train_val, test_size=0.1, random_state=shuffle_seeder)\n"
   ]
  },
  {
   "cell_type": "markdown",
   "id": "003c0c5a",
   "metadata": {},
   "source": [
    "<b>Handling imbalanced data</b>"
   ]
  },
  {
   "cell_type": "markdown",
   "id": "0931d2fe",
   "metadata": {},
   "source": [
    "Class weighting"
   ]
  },
  {
   "cell_type": "code",
   "execution_count": 11,
   "id": "3b76ec17",
   "metadata": {},
   "outputs": [
    {
     "name": "stdout",
     "output_type": "stream",
     "text": [
      "{0: 1, 1: 1}\n"
     ]
    }
   ],
   "source": [
    "class_weights = {0:1, 1:1}\n",
    "#class_weights = {0:len(data) / (len(vc) * vc[0]), 1:len(data) / (len(vc) * vc[1])} #total observations / (number of classes * observations in class)\n",
    "#class_weights = dict(enumerate(compute_class_weight(class_weight='balanced', classes=np.unique(y_train), y=y_train)))\n",
    "print(class_weights)"
   ]
  },
  {
   "cell_type": "markdown",
   "id": "97f96c2e",
   "metadata": {},
   "source": [
    "Under-sampling of the clean samples"
   ]
  },
  {
   "cell_type": "code",
   "execution_count": 12,
   "id": "e4ffcbc9",
   "metadata": {},
   "outputs": [
    {
     "data": {
      "text/plain": [
       "(59317, 1)"
      ]
     },
     "execution_count": 12,
     "metadata": {},
     "output_type": "execute_result"
    }
   ],
   "source": [
    "x_train = np.array(x_train)\n",
    "x_train = x_train.reshape(-1, 1)\n",
    "x_train.shape"
   ]
  },
  {
   "cell_type": "code",
   "execution_count": 13,
   "id": "fb3a86da",
   "metadata": {},
   "outputs": [
    {
     "name": "stdout",
     "output_type": "stream",
     "text": [
      "Class distribution  0    56887\n",
      "1     2430\n",
      "dtype: int64\n",
      "Majority class  0\n",
      "Targeted number of majority class 28443\n",
      "Class distribution after under-sampling 0    28443\n",
      "1     2430\n",
      "dtype: int64\n"
     ]
    }
   ],
   "source": [
    "# Apply under-sampling with the specified strategy\n",
    "class_counts = pd.Series(y_train).value_counts()\n",
    "print(\"Class distribution \", class_counts)\n",
    "majority_class = class_counts.idxmax()\n",
    "print(\"Majority class \", majority_class)\n",
    "target_count = int(class_counts.iloc[0] / 2) \n",
    "print(\"Targeted number of majority class\", target_count)\n",
    "\n",
    "# under\n",
    "sampling_strategy = {majority_class: target_count}        \n",
    "rus = RandomUnderSampler(random_state=seed, sampling_strategy=sampling_strategy)\n",
    "x_train_resampled, y_train_resampled = rus.fit_resample(x_train, y_train) \n",
    "print(\"Class distribution after under-sampling\", pd.Series(y_train_resampled).value_counts())"
   ]
  },
  {
   "cell_type": "markdown",
   "id": "2bc44591",
   "metadata": {},
   "source": [
    "Random Over-sampling of the vulnerable samples"
   ]
  },
  {
   "cell_type": "code",
   "execution_count": 14,
   "id": "b82781c2",
   "metadata": {},
   "outputs": [
    {
     "name": "stdout",
     "output_type": "stream",
     "text": [
      "Class distribution  0    28443\n",
      "1     2430\n",
      "dtype: int64\n",
      "Minority class  1\n",
      "Targeted number of minority class 28443\n",
      "Class distribution after over-sampling 0    28443\n",
      "1    28443\n",
      "dtype: int64\n"
     ]
    }
   ],
   "source": [
    "# Apply random over-sampling with the specified strategy\n",
    "class_counts = pd.Series(y_train_resampled).value_counts()\n",
    "print(\"Class distribution \", class_counts)\n",
    "minority_class = class_counts.idxmin()\n",
    "print(\"Minority class \", minority_class)\n",
    "target_count = class_counts.iloc[0] #int(class_counts.iloc[1] * 2) \n",
    "print(\"Targeted number of minority class\", target_count)\n",
    "\n",
    "# over\n",
    "sampling_strategy = {minority_class: target_count}        \n",
    "ros = RandomOverSampler(random_state=seed, sampling_strategy=sampling_strategy)\n",
    "x_train_resampled, y_train_resampled = ros.fit_resample(x_train_resampled, y_train_resampled) \n",
    "print(\"Class distribution after over-sampling\", pd.Series(y_train_resampled).value_counts())"
   ]
  },
  {
   "cell_type": "markdown",
   "id": "2b1312fc",
   "metadata": {},
   "source": [
    "Synthetic Minority Over-sampling of the vulnerable samples"
   ]
  },
  {
   "cell_type": "code",
   "execution_count": 15,
   "id": "318e0b4b",
   "metadata": {},
   "outputs": [],
   "source": [
    "# smote = SMOTE(random_state=seed, sampling_strategy='auto')  # 'auto' means it will resample to have the same number of samples as the majority class\n",
    "# x_train_resampled, y_train_resampled = smote.fit_resample(x_train_resampled, y_train_resampled)\n",
    "\n",
    "# # Class distribution after SMOTE\n",
    "# class_counts_after_smote = pd.Series(y_train_resampled).value_counts()\n",
    "# print(\"Class distribution after SMOTE\", class_counts_after_smote)"
   ]
  },
  {
   "cell_type": "markdown",
   "id": "41404d2b",
   "metadata": {},
   "source": [
    "Adaptive Synthetic Sampling with ADASYN - Over-sampling of the vulnerable samples"
   ]
  },
  {
   "cell_type": "code",
   "execution_count": 16,
   "id": "7a6b054b",
   "metadata": {},
   "outputs": [],
   "source": [
    "# adasyn = ADASYN(random_state=seed, sampling_strategy='auto')  # 'auto' means it will resample to have the same number of samples as the majority class\n",
    "# x_train_resampled, y_train_resampled = adasyn.fit_resample(x_train_resampled, y_train_resampled)\n",
    "\n",
    "# # Class distribution after ADASYN\n",
    "# class_counts_after_adasyn = pd.Series(y_train_resampled).value_counts()\n",
    "# print(\"Class distribution after ADASYN\", class_counts_after_adasyn)"
   ]
  },
  {
   "cell_type": "code",
   "execution_count": 17,
   "id": "65e6517a",
   "metadata": {},
   "outputs": [],
   "source": [
    "# Shuffle the resampled data while preserving the correspondence between features and labels\n",
    "x_train_resampled, y_train_resampled = shuffle(x_train_resampled, y_train_resampled, random_state=seed)\n",
    "\n",
    "# rename\n",
    "X_train = x_train_resampled\n",
    "Y_train = y_train_resampled"
   ]
  },
  {
   "cell_type": "markdown",
   "id": "b8d8f5db",
   "metadata": {},
   "source": [
    "BERT pre-trained embeddings"
   ]
  },
  {
   "cell_type": "code",
   "execution_count": 18,
   "id": "e2f89d3a",
   "metadata": {},
   "outputs": [],
   "source": [
    "if embedding == \"bert\":\n",
    "    model_variation = \"bert-base-uncased\" # \"roberta-base\"\n",
    "    tokenizer = AutoTokenizer.from_pretrained(model_variation)\n",
    "    bert = TFAutoModel.from_pretrained(model_variation)"
   ]
  },
  {
   "cell_type": "code",
   "execution_count": 19,
   "id": "3ef02bd9",
   "metadata": {},
   "outputs": [],
   "source": [
    "if embedding == \"bert\":\n",
    "    bert_embeddings = bert.get_input_embeddings()\n",
    "    embedding_matrix = bert_embeddings.weights[0].numpy()\n",
    "    num_words = len(embedding_matrix)\n",
    "    print(num_words)\n",
    "    dim = len(embedding_matrix[0])\n",
    "    print(dim)"
   ]
  },
  {
   "cell_type": "code",
   "execution_count": 20,
   "id": "7ab68807",
   "metadata": {},
   "outputs": [],
   "source": [
    "if embedding == \"bert\":\n",
    "    sentences = X_train.tolist()\n",
    "    sequences = [tokenizer.encode(sente[0], truncation=True, add_special_tokens=False, return_tensors=\"tf\").numpy() for sente in sentences] # Tokenize the complete sentences\n"
   ]
  },
  {
   "cell_type": "code",
   "execution_count": 21,
   "id": "1d09c00f",
   "metadata": {},
   "outputs": [],
   "source": [
    "if embedding == \"bert\":\n",
    "    lines_pad_x_train = []\n",
    "    for seq in sequences:\n",
    "        lines_pad_x_train.append(seq[0])\n",
    "\n",
    "    lines_pad_x_train = pad_sequences(lines_pad_x_train, padding = 'post', maxlen = 512)\n",
    "    lines_pad_x_train"
   ]
  },
  {
   "cell_type": "code",
   "execution_count": 22,
   "id": "f66a1dbb",
   "metadata": {},
   "outputs": [],
   "source": [
    "if embedding == \"bert\":\n",
    "    sentences = x_val\n",
    "    sequences = [tokenizer.encode(sente, truncation=True, add_special_tokens=False, return_tensors=\"tf\").numpy() for sente in sentences] # Tokenize the complete sentences\n"
   ]
  },
  {
   "cell_type": "code",
   "execution_count": 23,
   "id": "63675629",
   "metadata": {},
   "outputs": [],
   "source": [
    "if embedding == \"bert\":\n",
    "    lines_pad_x_val = []\n",
    "    for seq in sequences:\n",
    "        lines_pad_x_val.append(seq[0])\n",
    "\n",
    "    lines_pad_x_val = pad_sequences(lines_pad_x_val, padding = 'post', maxlen = 512)\n",
    "    lines_pad_x_val"
   ]
  },
  {
   "cell_type": "markdown",
   "id": "e2e7efba",
   "metadata": {},
   "source": [
    "CodeBERT pre-trained CPP embeddings"
   ]
  },
  {
   "cell_type": "code",
   "execution_count": 24,
   "id": "7c8c38dd",
   "metadata": {},
   "outputs": [
    {
     "name": "stderr",
     "output_type": "stream",
     "text": [
      "Some layers from the model checkpoint at microsoft/codebert-base-mlm were not used when initializing TFRobertaModel: ['lm_head']\n",
      "- This IS expected if you are initializing TFRobertaModel from the checkpoint of a model trained on another task or with another architecture (e.g. initializing a BertForSequenceClassification model from a BertForPreTraining model).\n",
      "- This IS NOT expected if you are initializing TFRobertaModel from the checkpoint of a model that you expect to be exactly identical (initializing a BertForSequenceClassification model from a BertForSequenceClassification model).\n",
      "All the layers of TFRobertaModel were initialized from the model checkpoint at microsoft/codebert-base-mlm.\n",
      "If your task is similar to the task the model of the checkpoint was trained on, you can already use TFRobertaModel for predictions without further training.\n"
     ]
    }
   ],
   "source": [
    "if embedding == \"codebert\":\n",
    "    model_variation = \"microsoft/codebert-base-mlm\" # \"neulab/codebert-cpp\"\n",
    "    tokenizer = AutoTokenizer.from_pretrained(model_variation, do_lower_case=False) # , do_lower_case=True\n",
    "    codebert = TFAutoModel.from_pretrained(model_variation) # , from_pt=True"
   ]
  },
  {
   "cell_type": "code",
   "execution_count": 25,
   "id": "ea203cd9",
   "metadata": {},
   "outputs": [
    {
     "name": "stdout",
     "output_type": "stream",
     "text": [
      "50265\n",
      "768\n"
     ]
    }
   ],
   "source": [
    "if embedding == \"codebert\":\n",
    "    codebert_embeddings = codebert.get_input_embeddings()\n",
    "    embedding_matrix = codebert_embeddings.weights[0].numpy()\n",
    "    num_words = len(embedding_matrix)\n",
    "    print(num_words)\n",
    "    dim = len(embedding_matrix[0])\n",
    "    print(dim)"
   ]
  },
  {
   "cell_type": "code",
   "execution_count": 26,
   "id": "fd3d25a0",
   "metadata": {},
   "outputs": [],
   "source": [
    "if embedding == \"codebert\":\n",
    "    sentences = X_train.tolist()\n",
    "    sequences = [tokenizer(sente[0], return_tensors=\"tf\", truncation=True, add_special_tokens=False) for sente in sentences]"
   ]
  },
  {
   "cell_type": "code",
   "execution_count": 27,
   "id": "cc259d29",
   "metadata": {},
   "outputs": [],
   "source": [
    "def padSequences(sequences, max_len):\n",
    "    lines_pad = []\n",
    "    for sequence in sequences:\n",
    "        seq = sequence['input_ids'].numpy()[0]\n",
    "        if len(seq) < max_len:\n",
    "            for i in range(len(seq), max_len):\n",
    "                seq = np.append(seq, 0)\n",
    "        lines_pad.append(seq)\n",
    "    return lines_pad\n"
   ]
  },
  {
   "cell_type": "code",
   "execution_count": 28,
   "id": "7586bb38",
   "metadata": {},
   "outputs": [],
   "source": [
    "def get_max_len(sequences):\n",
    "    max_len = 0\n",
    "    \n",
    "    for seq in sequences:\n",
    "        if len(seq['input_ids'].numpy()[0]) > max_len:\n",
    "            max_len = len(seq['input_ids'].numpy()[0])\n",
    "    \n",
    "    return max_len"
   ]
  },
  {
   "cell_type": "code",
   "execution_count": 29,
   "id": "83c1e0de",
   "metadata": {},
   "outputs": [
    {
     "name": "stdout",
     "output_type": "stream",
     "text": [
      "512\n"
     ]
    }
   ],
   "source": [
    "if embedding == \"codebert\":\n",
    "    max_len = get_max_len(sequences)\n",
    "    print(max_len)"
   ]
  },
  {
   "cell_type": "code",
   "execution_count": 30,
   "id": "e1277690",
   "metadata": {},
   "outputs": [],
   "source": [
    "if embedding == \"codebert\":\n",
    "    lines_pad_x_train = padSequences(sequences, max_len)\n",
    "    lines_pad_x_train = [arr.tolist() for arr in lines_pad_x_train]\n",
    "    lines_pad_x_train = np.array(lines_pad_x_train)"
   ]
  },
  {
   "cell_type": "code",
   "execution_count": 31,
   "id": "8e01ab97",
   "metadata": {},
   "outputs": [],
   "source": [
    "if embedding == \"codebert\":\n",
    "    sentences = x_val\n",
    "    sequences = [tokenizer(sente, return_tensors=\"tf\", truncation=True, add_special_tokens=False) for sente in sentences]"
   ]
  },
  {
   "cell_type": "code",
   "execution_count": 32,
   "id": "3e1a627f",
   "metadata": {},
   "outputs": [],
   "source": [
    "if embedding == \"codebert\":\n",
    "    lines_pad_x_val = padSequences(sequences, max_len)\n",
    "    lines_pad_x_val = [arr.tolist() for arr in lines_pad_x_val]\n",
    "    lines_pad_x_val = np.array(lines_pad_x_val)"
   ]
  },
  {
   "cell_type": "markdown",
   "id": "1dd9fa37",
   "metadata": {},
   "source": [
    "Functions for Deep Learnig"
   ]
  },
  {
   "cell_type": "code",
   "execution_count": 33,
   "id": "1cbeaf59",
   "metadata": {},
   "outputs": [],
   "source": [
    "# Evaluation functions\n",
    "def recall_metric(y_true, y_pred):\n",
    "        true_positives = K.sum(K.round(K.clip(y_true * y_pred, 0, 1)))\n",
    "        possible_positives = K.sum(K.round(K.clip(y_true, 0, 1)))\n",
    "        recall = (true_positives + K.epsilon()) / (possible_positives + K.epsilon())\n",
    "        return recall\n",
    "\n",
    "def precision_metric(y_true, y_pred):\n",
    "        true_positives = K.sum(K.round(K.clip(y_true * y_pred, 0, 1)))\n",
    "        predicted_positives = K.sum(K.round(K.clip(y_pred, 0, 1)))\n",
    "        precision = (true_positives + K.epsilon()) / (predicted_positives + K.epsilon())\n",
    "        return precision\n",
    "\n",
    "def f1_metric(y_true, y_pred):\n",
    "\n",
    "    prec = precision_metric(y_true, y_pred)\n",
    "    rec = recall_metric(y_true, y_pred)\n",
    "    f1 = 2*((prec*rec)/(prec+rec+K.epsilon()))\n",
    "    return f1\n",
    "\n",
    "def f2_metric(y_true, y_pred):\n",
    "\n",
    "    prec = precision_metric(y_true, y_pred)\n",
    "    rec = recall_metric(y_true, y_pred)\n",
    "    f2 = 5*((prec*rec)/(4*prec+rec+K.epsilon()))\n",
    "    return f2\n",
    "\n",
    "def f2_loss(y_true, y_pred):\n",
    "\n",
    "    y_true = tf.cast(y_true, tf.float32)\n",
    "    tp = K.sum(K.cast(y_true*y_pred, 'float'), axis=0)\n",
    "    #tn = K.sum(K.cast((1-y_true)*(1-y_pred), 'float'), axis=0)\n",
    "    fp = K.sum(K.cast((1-y_true)*y_pred, 'float'), axis=0)\n",
    "    fn = K.sum(K.cast(y_true*(1-y_pred), 'float'), axis=0)\n",
    "\n",
    "    p = tp / (tp + fp + K.epsilon())\n",
    "    r = tp / (tp + fn + K.epsilon())\n",
    "\n",
    "    f2 = 5*p*r / (4*p+r+K.epsilon())\n",
    "    f2 = tf.where(tf.math.is_nan(f2), tf.zeros_like(f2), f2)\n",
    "    \n",
    "    return 1 - K.mean(f2)"
   ]
  },
  {
   "cell_type": "code",
   "execution_count": 34,
   "id": "5b991073",
   "metadata": {},
   "outputs": [],
   "source": [
    "# Deep Learning Models - Classifiers\n",
    "def buildLstm(max_len, top_words, dim, seed, embedding_matrix, learning_rate=0.001):\n",
    "    model=Sequential()\n",
    "    kernel_initializer = glorot_uniform() # glorot_uniform, RandomUniform, lecun_uniform, Constant, TruncatedNormal\n",
    "    model.add(Embedding(input_dim=top_words, output_dim=dim, input_length=None, weights=[embedding_matrix], mask_zero=True, trainable=False))\n",
    "    model.add(GRU(500, activation='tanh', dropout=0.2, return_sequences=True, stateful=False, kernel_constraint=max_norm(3), bias_constraint=max_norm(3), kernel_initializer=kernel_initializer)) # , recurrent_constraint=max_norm(3)\n",
    "    model.add(GRU(100, activation='tanh', dropout=0.1, return_sequences=True, stateful=False, kernel_initializer=kernel_initializer))\n",
    "    model.add(GRU(200, activation='tanh', dropout=0.1, stateful=False, kernel_initializer=kernel_initializer))\n",
    "    #model.add(SimpleRNN(300, dropout=0.3, stateful=False))\n",
    "    #model.add(Bidirectional(LSTM(300, dropout=0.3, stateful=False)))\n",
    "    #model.add(GRU(300, dropout=0.3, stateful=False))\n",
    "    model.add(BatchNormalization()) # default momentum=0.99\n",
    "    model.add(Dense(1, activation='sigmoid', kernel_initializer=kernel_initializer))\n",
    "    #model.add(Dropout(0.2))\n",
    "    \n",
    "    #optimizer = optimizers.SGD(lr=learning_rate, decay=0.1, momentum=0.2, nesterov=True)\n",
    "    #optimizer = optimizers.RMSprop(lr=learning_rate, rho=0.9, epsilon=1e-8, decay=0.0)\n",
    "    #optimizer = optimizers.Adagrad(lr=learning_rate, epsilon=None, decay=0.004)\n",
    "    #optimizer = optimizers.Nadam(lr=learning_rate, beta_1=0.9, beta_2=0.999, epsilon=None, schedule_decay=0.004)\n",
    "    optimizer = optimizers.Adam(learning_rate=learning_rate) # default 0.001\n",
    "    \n",
    "    model.compile(loss=\"binary_crossentropy\", optimizer=optimizer, metrics=[f2_metric])  \n",
    "    return model\n",
    "\n",
    "def buildCnn(max_len, top_words, dim, seed, embedding_matrix):\n",
    "    cnn_model = Sequential()\n",
    "    cnn_model.add(Embedding(top_words, dim, input_length=None, weights=[embedding_matrix], mask_zero=True, trainable=False))\n",
    "    cnn_model.add(Conv1D(filters = 128, kernel_size = 5, activation = 'relu'))\n",
    "    '''cnn_model.add(MaxPooling1D(pool_size = 5))\n",
    "    cnn_model.add(Conv1D(filters = 128, kernel_size = 5, activation = 'relu'))\n",
    "    cnn_model.add(MaxPooling1D(pool_size = 5))\n",
    "    cnn_model.add(Conv1D(filters = 128, kernel_size = 5, activation = 'relu'))'''\n",
    "    cnn_model.add(GlobalMaxPool1D())\n",
    "    #cnn_model.add(Dense(units = 128, activation = 'relu'))\n",
    "    cnn_model.add(Dense(units = 1, activation = 'sigmoid'))\n",
    "    cnn_model.compile(loss = \"binary_crossentropy\", optimizer = \"adam\", metrics=[f2_metric])\n",
    "    return cnn_model\n",
    "\n",
    "def buildLstmCNN(max_len, top_words, dim, seed, embedding_matrix, learning_rate=0.001):\n",
    "    model = Sequential()\n",
    "    kernel_initializer = glorot_uniform()\n",
    "\n",
    "    # Embedding Layer\n",
    "    model.add(Embedding(input_dim=top_words, output_dim=dim, input_length=None, weights=[embedding_matrix], mask_zero=True, trainable=False))\n",
    "\n",
    "    # LSTM/GRU Layers\n",
    "    model.add(GRU(500, activation='tanh', dropout=0.2, return_sequences=True, stateful=False, kernel_constraint=max_norm(3), bias_constraint=max_norm(3), kernel_initializer=kernel_initializer))\n",
    "    model.add(GRU(100, activation='tanh', dropout=0.1, return_sequences=True, stateful=False, kernel_initializer=kernel_initializer))\n",
    "    model.add(GRU(200, activation='tanh', dropout=0.1, return_sequences=True, stateful=False, kernel_initializer=kernel_initializer))\n",
    "    \n",
    "    # CNN Layers\n",
    "    model.add(Conv1D(filters=128, kernel_size=5, activation='relu', kernel_initializer=kernel_initializer)) \n",
    "    model.add(GlobalMaxPool1D())\n",
    "\n",
    "    # Fully Connected Layers\n",
    "    #model.add(Dense(64, activation='relu', kernel_initializer=kernel_initializer))\n",
    "    # Classification layer\n",
    "    model.add(Dense(1, activation='sigmoid', kernel_initializer=kernel_initializer))\n",
    "\n",
    "    optimizer = optimizers.Adam(learning_rate=learning_rate)\n",
    "    model.compile(loss=\"binary_crossentropy\", optimizer=optimizer, metrics=[f2_metric])\n",
    "\n",
    "    return model\n"
   ]
  },
  {
   "cell_type": "markdown",
   "id": "67a63be2",
   "metadata": {},
   "source": [
    "Training"
   ]
  },
  {
   "cell_type": "code",
   "execution_count": 35,
   "id": "fe521ece",
   "metadata": {},
   "outputs": [],
   "source": [
    "y_train = np.array(Y_train)\n",
    "y_val = np.array(y_val)"
   ]
  },
  {
   "cell_type": "code",
   "execution_count": 36,
   "id": "0d232a7c",
   "metadata": {
    "scrolled": false
   },
   "outputs": [
    {
     "name": "stdout",
     "output_type": "stream",
     "text": [
      "Training...\n",
      "Model: \"sequential\"\n",
      "_________________________________________________________________\n",
      "Layer (type)                 Output Shape              Param #   \n",
      "=================================================================\n",
      "embedding (Embedding)        (None, None, 768)         38603520  \n",
      "_________________________________________________________________\n",
      "gru (GRU)                    (None, None, 500)         1905000   \n",
      "_________________________________________________________________\n",
      "gru_1 (GRU)                  (None, None, 100)         180600    \n",
      "_________________________________________________________________\n",
      "gru_2 (GRU)                  (None, None, 200)         181200    \n",
      "_________________________________________________________________\n",
      "conv1d (Conv1D)              (None, None, 128)         76928     \n",
      "_________________________________________________________________\n",
      "global_max_pooling1d (Global (None, 128)               0         \n",
      "_________________________________________________________________\n",
      "dense (Dense)                (None, 1)                 129       \n",
      "=================================================================\n",
      "Total params: 40,947,377\n",
      "Trainable params: 2,343,857\n",
      "Non-trainable params: 38,603,520\n",
      "_________________________________________________________________\n",
      "model summary\\m None\n",
      "WARNING:tensorflow:From D:\\anaconda3\\envs\\tfgpu\\lib\\site-packages\\tensorflow\\python\\ops\\array_ops.py:5049: calling gather (from tensorflow.python.ops.array_ops) with validate_indices is deprecated and will be removed in a future version.\n",
      "Instructions for updating:\n",
      "The `validate_indices` argument has no effect. Indices are always validated on CPU and never validated on GPU.\n",
      "Epoch 1/100\n",
      "889/889 [==============================] - 191s 201ms/step - loss: 0.3473 - f2_metric: 0.8446 - val_loss: 0.2496 - val_f2_metric: 0.62078 - loss: 0. - ETA: 2:23 - loss: 0.5544 - f2_metric: - ETA: 2:22 - loss: 0.5508 - - ETA: 2:18 - loss: 0.5425  - ETA: 2:14 - loss: 0.534 - ETA: 1:53 - loss: 0.4866 - f2_me - ETA: 1:51 - loss: 0.4824 - f2_me - ETA: 1:48 - loss: 0.4796 - f2_metric - ETA: 1:47 - loss: 0.4772 - f2_metric: - ETA: 1:46 - loss: 0.4754 - f2_metric: 0.75 - ETA: 1:45 - loss: 0.4747 - f2_m - E - ETA: 1:35 - los - ETA: 1:29 - loss: 0.4506 - f2_metric - ETA: 1:27 - loss: 0.4490 - f2_m - ETA: 1:25 - loss: 0.4458 - f2_metric: 0.7 - ETA: 1:25 - loss: 0.4453 - f2_metric: 0.777 - ETA: 1:24 - loss: 0.4451 - f2_metric - ETA: 1:23 - loss: 0.4432 - f2_met - ETA: 1:21 - loss: 0.4409 - f2_metric: 0.78 - ETA: 1:20 - loss: 0.4404 - f2_metric: 0 - ETA: 1:19 - loss: 0.4392 - f2_metric: 0 - ETA: 1:18 - loss: 0.4382 - f2_metric: - ETA: 1:08 - loss: 0.4239 - f2_metric - ETA: 1:07 - loss: 0.4221 - f2_metric: 0.793 - ETA: 1:06 - loss: 0.4217 - f2 - ETA: 13s - loss: 0.3611 - f2_metric:  - ETA: 1 - ETA: 9s - los - ETA: 3s - loss: 0.350\n",
      "\n",
      "Epoch 00001: val_f2_metric improved from -inf to 0.62075, saving model to best_model.h5\n",
      "Epoch 2/100\n",
      "889/889 [==============================] - 177s 199ms/step - loss: 0.1391 - f2_metric: 0.9689 - val_loss: 0.1939 - val_f2_metric: 0.6769 2:42 - loss: 0.1973 - f2_metric: 0 - ETA: 2:43 - loss: 0.1 - ETA: 2:39 - loss: 0.1962 - f2_metric: 0. - ETA: 2:38 - loss: 0.1935 - f2_metric: 0. - ETA: - ETA: 2:30 - loss: 0.1794 - f2_metri - ETA: 2:29  - ETA: 2:23 - loss: 0.1856 - f2_metric: 0.94 - ETA: 2:23 - loss: 0.1854 - f2_metric: 0.948 - ETA: 2:22 - loss: 0.1854 - ETA: 2:19 - loss: 0.1813 - f2_metric: 0.95 - ETA: 2 - ETA: 2:11 - loss: 0.1741 - f2_met - ETA: 2:09 - loss:  - ETA: 2:05 - loss: 0 - ETA: 2:00 - loss: 0.1 - ETA: 1:56 - loss: 0.1629 - ETA: 1:52 - loss -  - ETA: 6s - loss: 0.1403 - f2_metric: 0.96 - ETA: 6s -\n",
      "\n",
      "Epoch 00002: val_f2_metric improved from 0.62075 to 0.67685, saving model to best_model.h5\n",
      "Epoch 3/100\n",
      "889/889 [==============================] - 177s 199ms/step - loss: 0.1012 - f2_metric: 0.9824 - val_loss: 0.1838 - val_f2_metric: 0.6904loss: 0.0898 - - ETA: 2:43 - loss: 0.0934 - f2_me - ETA: 2:40 - loss: 0.0950 - - ETA: 2:36 - loss: 0.0932 - f2_metric: 0.985 - ETA: 2:36 - loss: 0.09 - ETA: 2:31 - loss: 0.0964 - f2 - ETA: 2:28 - loss: 0.0979 - f2_metric: 0 - ETA: 2:19 - loss: 0.1054 - f2_metric: 0. - - ETA: 2:09 - loss: 0.1108 - f2_metric: 0. - ETA - ETA: 2:01 - loss: 0 - ETA: 1:56 - loss: 0.1131 - - ETA: 1:52 - loss: - ETA: 1:47 - loss - ETA: 1:42 - loss - ETA: 1:37 - loss: 0.1139 - f2_metric: 0 - ETA: 1:36 - - ETA: 1:29 - loss: 0.1121 - f2_metric: - ETA: 1:28 - loss: 0.1119 - f2_me - ETA: 1:26 - loss: 0.1118 -  - ETA: 1:22 - - ETA: 1:16 - loss: 0.1096 - f2_metric: 0 - ETA: 1:15 - loss: 0.1100 - f2_metric: 0.98 - ETA: 1:15 - loss: 0.1101 - f2_metric: 0.980 - ETA: 1:14 - loss: - ETA: 4s - loss: 0.1020 - f2_metric: 0. - ETA: 3s - loss: 0.1018 - f2 - ETA: 0s - loss: 0.1014 - f2_metric: 0\n",
      "\n",
      "Epoch 00003: val_f2_metric improved from 0.67685 to 0.69045, saving model to best_model.h5\n",
      "Epoch 4/100\n",
      "889/889 [==============================] - 177s 199ms/step - loss: 0.0823 - f2_metric: 0.9861 - val_loss: 0.1658 - val_f2_metric: 0.6639- ETA: 2:38 - loss: 0.0875 - f2_me - ETA: 2:36 - loss - ETA: 2:31 - loss: 0.0 - ET - ETA: 2:08 - los - ETA: 2:03 -  - ETA: 1:57 - loss: 0.0805 - f2_metr - ETA: 1:55 - loss: 0.08 - ETA: 1:51 - loss: 0.0810 - f2_met - ETA: 1:49 - loss: 0.0815 -  - ETA: 1:45 - loss: 0.0821  - ETA: 1:42 - loss: 0.0823  - ETA: 1:38 - loss: 0.0837 - f2_metric: 0.984 - ETA: 1:38 - loss: 0.0837 - f2_me -  - ETA: 16s - loss: 0.0830 - f2_metric: 0.98 - ETA: 16s - loss: 0.08 - ETA: 13s - loss: 0.0831 - f - ETA: 12s - loss: 0.0831 - f2_me - ETA: 11s - loss: 0.083\n",
      "\n",
      "Epoch 00004: val_f2_metric did not improve from 0.69045\n",
      "Epoch 5/100\n",
      "889/889 [==============================] - 178s 201ms/step - loss: 0.0695 - f2_metric: 0.9882 - val_loss: 0.1533 - val_f2_metric: 0.6370- loss: 0.0553 - f2_ - ETA: 2:36 - l - - ETA: 2:22 - loss: 0.0595 - f2_metric: 0. - ETA: 2: - ETA: 2:14 - loss: 0.0628 - f2_metric: 0.99 - ETA: 2:14  - E - ETA: 1:41 - loss: 0.0642 - f2_metric: 0 - ETA: 1:40 - loss: 0.0642 - f - ETA: 1:36 - loss: 0.0647 - f2_metric: - ETA: 1:35 - loss: 0.0647 - f2_m - ETA: 1:33 - loss: 0.06 - ETA: 1:28 - loss: 0.0651 - f2_me - ETA: 1:26 - loss: 0. - ETA: 1:22 - loss: 0.0653 - f2_metric: 0. - ETA: 1:21  - ETA: 1:14 - loss: 0.0653 - f2_metric: 0.989 - ETA: 1:05 - loss: 0.0677 - ETA: 1:01 - loss: 0.0688 - f2_m - ETA: 59s - loss: 0.0690 - f2_metric: 0.98 - ETA: 59s - loss: 0.0690 - f2_metric:  - ETA: 58s - loss: 0.0694 - f2_ - ETA: 13s - loss:  - ETA: 2s - loss: 0.0691 - f2_\n",
      "\n",
      "Epoch 00005: val_f2_metric did not improve from 0.69045\n",
      "Epoch 6/100\n",
      "889/889 [==============================] - 177s 199ms/step - loss: 0.0613 - f2_metric: 0.9891 - val_loss: 0.2071 - val_f2_metric: 0.64810 - ETA: 2:20 - loss - ETA: 2:15 - loss: 0.05 - ETA: 1:44 - loss: 0.0589 - f2_metric: - ETA: 1:4 - ETA: 1:36 - loss: 0.0587 - f2_metric - ETA: 1:35 - loss: 0.0591 - f - ETA: 1:32 - loss: 0.0585 - f2_met - ETA: 1:30 - loss: 0.0588  - ETA: 1:26 -  - ETA: 17s - loss: 0.0617 - f2_metr - ETA: 16s  - E\n",
      "\n",
      "Epoch 00006: val_f2_metric did not improve from 0.69045\n",
      "Epoch 7/100\n",
      "889/889 [==============================] - 177s 200ms/step - loss: 0.0525 - f2_metric: 0.9903 - val_loss: 0.1702 - val_f2_metric: 0.6443 0.0501 - f2_m - ETA: 2:39 - loss: 0.0515 - f2_metri - ETA: 2:37 - loss: 0.0486 - f2_metric: 0.99 - ETA: 2:37 - loss: 0.04 - ETA: 2:33 - loss: 0.0489 -  - ETA: 2:29 - loss: 0.0491 - f - ETA: 2:26 - loss: 0.0 - E - ETA: 1:47 - lo - ETA: 1:41 - loss - ETA: 1:36 - loss: 0.0493 - f2 - ETA: 1:33 - loss: 0.0485 - f2 - ETA: 1:30 - loss: 0.0486 - f2_metr - ETA: 1:2 - ETA: 1:21 - loss: 0.0496 - - ETA: 1:18 - loss: 0.0499 - ETA: 1:14 - ETA: 1:07  - ETA: 51s - loss: 0.0525 - f2_me - ETA: 50s - loss: 0.0524 - f2_ - ETA: 44s - loss: 0.0518 - f2_metr - ETA: 43s - loss: 0.0520 - f2_metric - ETA: 43s - loss: 0.0520 - f - ETA: 41s - loss: 0.0518 - ETA: 35s - loss - ETA: 32s - loss: 0.05 - ETA: 30s - loss: 0.0528 - f2_ - ETA:  - ETA: 25s - loss:  - ETA: 23s  - ETA: 19 - ETA:  - - ETA\n",
      "\n",
      "Epoch 00007: val_f2_metric did not improve from 0.69045\n",
      "Epoch 8/100\n"
     ]
    },
    {
     "name": "stdout",
     "output_type": "stream",
     "text": [
      "889/889 [==============================] - 178s 200ms/step - loss: 0.0460 - f2_metric: 0.9903 - val_loss: 0.2004 - val_f2_metric: 0.6299 - ETA: 2:34 - loss: 0.027 - ETA: 2:31 - loss: 0.0297 - f2_metric:  - ETA: 2:29 - loss: 0.0307  - ETA: 2:26 - loss: 0.030 - ETA: 2:23 - loss: 0.0344 - f2_metric: - ETA: 2:22 - lo - ETA: 2:17 - loss: 0.0330 - f2_ - ETA: 2:14 -  - ETA: 2:08 - loss: 0.0356 - f2_metr - ETA: 2:06 - loss: 0.0354 - ETA: 1:54 - loss: - ETA: 1:49 - loss:  - ETA:  - ETA: 1:37 - loss: 0.0420 - f2_metric: 0. - ETA: 1:36 - loss: 0.0422 - f2_metric: 0.99 - ETA: 1:35 - loss: 0.0421 - f2_metric: 0.991 - ETA: 1:35 - loss: - ETA: 1:30 - loss: 0. - ETA: 1:25 - loss: 0.0451 -  - ETA: 1:22 - loss: 0.04 - ETA: 1:18 -  - ETA: 1:03 - loss: 0.0465 - f2_metric: 0 - ETA:  - E - ETA: 48 - ETA: 45s - loss: 0.04 - ETA: 43s - loss: 0.0461 - f2_metric:  - ETA: 42s - loss: 0.046 - ETA: 1s - loss: 0.0462 - f2_metr\n",
      "\n",
      "Epoch 00008: val_f2_metric did not improve from 0.69045\n",
      "Epoch 9/100\n",
      "889/889 [==============================] - 177s 199ms/step - loss: 0.0412 - f2_metric: 0.9914 - val_loss: 0.2625 - val_f2_metric: 0.6482c: - E - ETA: 12s - loss: 0.0413 - f2_metric: 0.99 - E - ETA: 7s - loss: 0.0413 - ETA: 3s - loss: 0.0414 \n",
      "\n",
      "Epoch 00009: val_f2_metric did not improve from 0.69045\n",
      "Epoch 10/100\n",
      "889/889 [==============================] - 178s 200ms/step - loss: 0.0344 - f2_metric: 0.9924 - val_loss: 0.1968 - val_f2_metric: 0.538948 - loss: 0.0318 - f2_met - ETA: 2:45 - loss: 0.0314 - f2_metric: 0.99 - ETA: 2:44 - loss: 0.0290 - f2_ - ETA: 2:42 - loss: 0.0277 - f2_metric: 0.99 - ETA: 2:42 - loss: 0.0307 - f2_metric: 0.9 - ETA: 2:41 - loss: 0.0334 - ETA: 2:38 - loss: 0.0329 - f2_metri - ETA: 2:36 - loss: 0.0337 - f2_metr - ETA: 2:07 - loss: 0.0345 - f2_metric: 0.99 - - ETA: 1:58 - loss: 0.0367 - f2_ - ETA: 1:56 - loss: 0.0369 - f2_metric:  - ETA: 1:27 - loss:\n",
      "\n",
      "Epoch 00010: val_f2_metric did not improve from 0.69045\n",
      "Epoch 11/100\n",
      "889/889 [==============================] - 178s 200ms/step - loss: 0.0284 - f2_metric: 0.9935 - val_loss: 0.2363 - val_f2_metric: 0.6328 ETA: 2:30 - loss: 0.0332 - f - ETA: 2:27 - loss: 0.0316 - - ETA: 2:23 - loss: 0.0308 - f2_metric: 0.99 - ETA: 2:23 - loss: 0.0304 - f2_metric: - ETA: 2:22 - ETA: 2:06 - loss: 0.0276 - f2_metric: 0. - ETA: 2:05 - loss: 0.0277 - f2_metric: 0 - ETA: 2:05 - loss: 0 - ETA: 2:00 - loss: 0.0281 - f2_metric: 0.99 - ETA: 1:59 - loss: 0.0280 - f2_met - ETA: 1:57 - loss: 0.0277 - - ETA: 1:54 - loss: 0.0287 - f2_metric: 0. - ETA: 1:53 - loss: 0.0284 - f2_metric: 0. - ETA: - ETA: 1:45 - loss - ETA: 1:39 - loss: 0.0271  - ETA: 1:35 - loss: 0.0268 - f2_metri - ETA: 1:34 - loss: 0 - ETA: 1:29 - loss - ETA: 1:15 - loss: 0.0264 - - ETA: 1: - ETA: 53s - loss: 0.0274 - f2_me - ETA: 52 - E - - ETA: 18s - loss: 0.0276 - ETA: 12s - lo - ETA: 8s - loss: 0.0278 - f2_metric: - ETA:  - ETA: 0s - loss: 0.0283 - f2_metric: 0.9\n",
      "\n",
      "Epoch 00011: val_f2_metric did not improve from 0.69045\n",
      "Epoch 12/100\n",
      "889/889 [==============================] - 179s 201ms/step - loss: 0.0267 - f2_metric: 0.9935 - val_loss: 0.2054 - val_f2_metric: 0.576145 - f2_metric: 0 - ETA: 1:37 - loss: 0.0243 - f2_ - ETA: 1:35 - loss: 0.0243 - f2 - ETA: 1:32 - loss: 0.0242 -  - ETA: 1:19 - ETA: 1:13 - loss: 0.0239 - f2_metric: 0. - ETA: 1:12 - loss: 0.0238 -  - ETA: 1 - ETA:  - ETA: 57s - loss:  - ETA: 54s - loss: 0. - ETA: 38s - loss - ETA: 36s - loss: 0.02 - ETA: 25s - loss\n",
      "\n",
      "Epoch 00012: val_f2_metric did not improve from 0.69045\n",
      "Epoch 13/100\n",
      "889/889 [==============================] - 179s 201ms/step - loss: 0.0241 - f2_metric: 0.9944 - val_loss: 0.2513 - val_f2_metric: 0.6272loss: 0.0234 - f2_metric:  - ETA - ETA: 2:31 - loss: 0. - ETA: 2:27 - loss:  - ETA: 2:04 - lo - ETA: 1:58 - loss: 0.0205 - ETA: 1:54 - loss: 0.0203 - - ETA: 1:51 -  - ETA:  - ETA: 1:28 - loss: 0.0203 - f2_metri - ETA: 1:26 - loss: 0 - ET - ETA: 17s - loss: 0.0230 - f2_ - ETA: 16s - loss - ETA: 13s - loss: 0.0231 - f2_metri - ETA: 6s\n",
      "\n",
      "Epoch 00013: val_f2_metric did not improve from 0.69045\n",
      "Epoch 00013: early stopping\n",
      "TP= 238\n",
      "TN= 6037\n",
      "FP= 284\n",
      "FN= 32\n",
      "Accuracy:95.21%\n",
      "Precision:45.59%\n",
      "Recall:88.15%\n",
      "F1 score:60.10%\n",
      "Roc_Auc score:91.83%\n",
      "F2 score:74.28%\n",
      "              precision    recall  f1-score   support\n",
      "\n",
      "           0       0.99      0.96      0.97      6321\n",
      "           1       0.46      0.88      0.60       270\n",
      "\n",
      "    accuracy                           0.95      6591\n",
      "   macro avg       0.73      0.92      0.79      6591\n",
      "weighted avg       0.97      0.95      0.96      6591\n",
      "\n",
      "Cross Validation is completed after 2349905\n"
     ]
    },
    {
     "data": {
      "image/png": "[encoded data removed]",
      "text/plain": [
       "<Figure size 432x288 with 2 Axes>"
      ]
     },
     "metadata": {
      "needs_background": "light"
     },
     "output_type": "display_data"
    }
   ],
   "source": [
    "nb_epoch = 100\n",
    "BS = 64\n",
    "print(\"Training...\")\n",
    "milli_sec1 = int(round(time.time() * 1000))\n",
    "\n",
    "userModel = \"lstmCnn\"#\"lstm\"\n",
    "\n",
    "if userModel == \"cnn\":\n",
    "    myModel = buildCnn(max_len, num_words, dim, seed, embedding_matrix) \n",
    "elif userModel == \"lstm\":\n",
    "    myModel = buildLstm(max_len, num_words, dim, seed, embedding_matrix)\n",
    "elif userModel == \"lstmCnn\":\n",
    "    myModel = buildLstmCNN(max_len, num_words, dim, seed, embedding_matrix)\n",
    "    \n",
    "print(\"model summary\\m\", myModel.summary())\n",
    "csv_logger = CSVLogger('log.csv', append=True, separator=',')\n",
    "es = EarlyStopping(monitor='val_f2_metric', mode='max', verbose=1, patience=10)\n",
    "mc = ModelCheckpoint('best_model.h5', monitor='val_f2_metric', mode='max', verbose=1, save_best_only=True)\n",
    "\n",
    "history = myModel.fit(lines_pad_x_train, y_train, validation_data=(lines_pad_x_val, y_val), epochs = nb_epoch, batch_size = BS, shuffle=True, verbose=1, callbacks=[csv_logger,es,mc], class_weight=class_weights)\n",
    "\n",
    "#load best model\n",
    "#model = load_model('best_model.h5')\n",
    "myModel.load_weights(\"best_model.h5\")\n",
    "\n",
    "scores = myModel.evaluate(lines_pad_x_val, y_val, verbose=0)\n",
    "#predictions = myModel.predict_classes(X_test, verbose=0)\n",
    "predScores = myModel.predict(lines_pad_x_val)\n",
    "predictions = (predScores > 0.5).astype(\"int32\")\n",
    "\n",
    "accuracy=accuracy_score(y_val, predictions)\n",
    "precision=precision_score(y_val, predictions)\n",
    "recall=recall_score(y_val, predictions)\n",
    "f1=f1_score(y_val, predictions)\n",
    "roc_auc=roc_auc_score(y_val, predictions)\n",
    "f2=5*precision*recall / (4*precision+recall)\n",
    "\n",
    "cm = confusion_matrix(y_val, predictions, labels=[0, 1])\n",
    "#print(cm)\n",
    "sns.heatmap(cm, annot=True)\n",
    "tn, fp, fn, tp = cm.ravel()\n",
    "\n",
    "print(\"TP=\",tp)\n",
    "print(\"TN=\",tn)\n",
    "print(\"FP=\",fp)\n",
    "print(\"FN=\",fn)\n",
    "\n",
    "acc = ((tp+tn)/(tp+tn+fp+fn))\n",
    "\n",
    "print(\"Accuracy:%.2f%%\"%(acc*100))\n",
    "print(\"Precision:%.2f%%\"%(precision*100))\n",
    "print(\"Recall:%.2f%%\"%(recall*100))\n",
    "print(\"F1 score:%.2f%%\"%(f1*100))\n",
    "print(\"Roc_Auc score:%.2f%%\"%(roc_auc*100))\n",
    "print(\"F2 score:%.2f%%\"%(f2*100))\n",
    "print(classification_report(y_val, predictions))\n",
    "\n",
    "milli_sec2 = int(round(time.time() * 1000))\n",
    "print(\"Cross Validation is completed after\", milli_sec2-milli_sec1)"
   ]
  }
 ],
 "metadata": {
  "kernelspec": {
   "display_name": "Python 3 (ipykernel)",
   "language": "python",
   "name": "python3"
  },
  "language_info": {
   "codemirror_mode": {
    "name": "ipython",
    "version": 3
   },
   "file_extension": ".py",
   "mimetype": "text/x-python",
   "name": "python",
   "nbconvert_exporter": "python",
   "pygments_lexer": "ipython3",
   "version": "3.7.13"
  }
 },
 "nbformat": 4,
 "nbformat_minor": 5
}
