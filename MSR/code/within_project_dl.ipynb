{
 "cells": [
  {
   "cell_type": "code",
   "execution_count": 1,
   "id": "b75d92e3",
   "metadata": {},
   "outputs": [
    {
     "name": "stderr",
     "output_type": "stream",
     "text": [
      "D:\\anaconda3\\envs\\tfgpu\\lib\\site-packages\\tqdm\\auto.py:22: TqdmWarning: IProgress not found. Please update jupyter and ipywidgets. See https://ipywidgets.readthedocs.io/en/stable/user_install.html\n",
      "  from .autonotebook import tqdm as notebook_tqdm\n"
     ]
    }
   ],
   "source": [
    "import pandas as pd\n",
    "import json, os\n",
    "\n",
    "import tensorflow as tf\n",
    "import numpy as np\n",
    "import csv\n",
    "from transformers import AutoTokenizer, TFAutoModel, TFAutoModelForSequenceClassification #, BertModel, BertTokenizer, TFBertForSequenceClassification\n",
    "import matplotlib.pyplot as plt\n",
    "import random\n",
    "from tensorflow.keras.callbacks import CSVLogger\n",
    "from tensorflow.keras.callbacks import EarlyStopping\n",
    "import tensorflow.keras.backend as K\n",
    "from collections import OrderedDict\n",
    "import time\n",
    "from sklearn.metrics import accuracy_score, recall_score, f1_score, precision_score, \\\n",
    "roc_auc_score, confusion_matrix, classification_report\n",
    "from sklearn.model_selection import StratifiedKFold\n",
    "import random\n",
    "import io\n",
    "\n",
    "from tensorflow.keras.models import Sequential\n",
    "from tensorflow.keras.models import Sequential\n",
    "from tensorflow.keras.layers import Dense, Activation, Dropout\n",
    "from tensorflow.keras import regularizers\n",
    "from tensorflow.keras import layers\n",
    "from tensorflow.keras.layers import LSTM, SimpleRNN\n",
    "from tensorflow.keras.layers import GRU\n",
    "from tensorflow.keras.layers import Masking\n",
    "from tensorflow.keras.layers import Embedding, MaxPool1D\n",
    "from tensorflow.keras.callbacks import CSVLogger\n",
    "from tensorflow.keras.callbacks import EarlyStopping, ModelCheckpoint\n",
    "from tensorflow.keras.models import load_model\n",
    "from tensorflow.keras import optimizers\n",
    "from tensorflow.keras.constraints import max_norm\n",
    "from tensorflow.keras.layers import Bidirectional, BatchNormalization\n",
    "from tensorflow.keras.layers import LeakyReLU\n",
    "from tensorflow.keras.initializers import glorot_uniform, RandomUniform, lecun_uniform, Constant, TruncatedNormal\n",
    "from tensorflow.python.keras.preprocessing.text import Tokenizer\n",
    "from tensorflow.python.keras.preprocessing.sequence import pad_sequences\n",
    "from collections import OrderedDict\n",
    "from sklearn.model_selection import StratifiedKFold\n",
    "from tensorflow.keras.layers import Conv1D\n",
    "from tensorflow.keras.layers import MaxPooling1D, GlobalMaxPool1D\n",
    "import tensorflow.keras.backend as K\n",
    "\n",
    "from tensorflow.keras.losses import CategoricalCrossentropy\n",
    "from tensorflow.keras.metrics import CategoricalAccuracy\n",
    "from tensorflow.keras.utils import to_categorical\n",
    "from tensorflow.keras.layers import Input, Dense, GlobalMaxPool1D\n",
    "\n",
    "from sklearn.metrics import classification_report\n",
    "from keras_preprocessing.text import tokenizer_from_json\n",
    "\n",
    "import nltk\n",
    "from nltk.tokenize import word_tokenize\n",
    "\n",
    "import seaborn as sns\n",
    "from sklearn.model_selection import train_test_split\n",
    "from sklearn.svm import SVC  \n",
    "from sklearn.naive_bayes import GaussianNB\n",
    "from sklearn import tree\n",
    "from sklearn.ensemble import RandomForestClassifier\n",
    "from imblearn.over_sampling import RandomOverSampler, SMOTE, ADASYN\n",
    "from imblearn.under_sampling import RandomUnderSampler\n",
    "from sklearn.utils import shuffle\n",
    "\n",
    "from sklearn.utils.class_weight import compute_class_weight\n",
    "from tensorflow.keras.regularizers import l1_l2\n"
   ]
  },
  {
   "cell_type": "code",
   "execution_count": 2,
   "id": "a4cbca1a",
   "metadata": {},
   "outputs": [],
   "source": [
    "seed = 123\n",
    "np.random.seed(seed)\n",
    "random.seed(seed)\n",
    "tf.random.set_seed(seed)"
   ]
  },
  {
   "cell_type": "code",
   "execution_count": 3,
   "id": "30a24011",
   "metadata": {},
   "outputs": [],
   "source": [
    "embeddings = [\"w2v\", \"ft\", \"bert\", \"codebert\"]\n",
    "embedding = embeddings[3]"
   ]
  },
  {
   "cell_type": "markdown",
   "id": "6059895e",
   "metadata": {},
   "source": [
    "Choose a project among Chrome and Linux or the full dataset"
   ]
  },
  {
   "cell_type": "code",
   "execution_count": 4,
   "id": "c6d86c04",
   "metadata": {},
   "outputs": [],
   "source": [
    "#data = pd.read_csv(os.path.join('..','data', 'full_data_reduced.csv'))\n",
    "data = pd.read_csv(os.path.join('..','data', 'chrome_data_reduced.csv'))\n",
    "#data = pd.read_csv(os.path.join('..','data', 'linux_data_reduced.csv'))"
   ]
  },
  {
   "cell_type": "markdown",
   "id": "38c5b1cf",
   "metadata": {},
   "source": [
    "Shuffle the dataset before starting operating on it"
   ]
  },
  {
   "cell_type": "code",
   "execution_count": 5,
   "id": "60a95914",
   "metadata": {},
   "outputs": [],
   "source": [
    "data = data.sample(frac=1, random_state=seed).reset_index(drop=True)"
   ]
  },
  {
   "cell_type": "code",
   "execution_count": 6,
   "id": "c8597edf",
   "metadata": {},
   "outputs": [
    {
     "name": "stdout",
     "output_type": "stream",
     "text": [
      "                                                func  vul  length\n",
      "0    midimanagerusbtest() : message_loop_(new bas...    0      14\n",
      "1  void renderframehostimpl::cancelblockedrequest...    0       8\n",
      "2  void renderthreadimpl::removeobserver(renderth...    0       7\n",
      "3  void webstorestandaloneinstaller::initinstalld...    0       7\n",
      "4  omniboxstate::omniboxstate(const omniboxeditmo...    0      15\n"
     ]
    }
   ],
   "source": [
    "print(data.head())"
   ]
  },
  {
   "cell_type": "code",
   "execution_count": 7,
   "id": "baebd02b",
   "metadata": {},
   "outputs": [
    {
     "data": {
      "text/plain": [
       "80"
      ]
     },
     "execution_count": 7,
     "metadata": {},
     "output_type": "execute_result"
    }
   ],
   "source": [
    "np.max(data[\"length\"])"
   ]
  },
  {
   "cell_type": "code",
   "execution_count": 8,
   "id": "485b09ae",
   "metadata": {},
   "outputs": [
    {
     "name": "stdout",
     "output_type": "stream",
     "text": [
      "Maximum number of words: 80\n"
     ]
    }
   ],
   "source": [
    "word_counts = data[\"func\"].apply(lambda x: len(x.split()))\n",
    "max_length = word_counts.max()\n",
    "print(\"Maximum number of words:\", max_length)\n"
   ]
  },
  {
   "cell_type": "code",
   "execution_count": 9,
   "id": "69061a3f",
   "metadata": {},
   "outputs": [
    {
     "name": "stdout",
     "output_type": "stream",
     "text": [
      "0    70232\n",
      "1     3000\n",
      "Name: vul, dtype: int64\n",
      "Vulnerability Percentage:  4.271557124957284 %\n"
     ]
    }
   ],
   "source": [
    "vc = data[\"vul\"].value_counts()\n",
    "\n",
    "print(vc)\n",
    "\n",
    "print(\"Vulnerability Percentage: \", (vc[1] / vc[0])*100, '%')"
   ]
  },
  {
   "cell_type": "markdown",
   "id": "9251f04f",
   "metadata": {},
   "source": [
    "Train-val-test split"
   ]
  },
  {
   "cell_type": "code",
   "execution_count": 10,
   "id": "3ebe5717",
   "metadata": {},
   "outputs": [],
   "source": [
    "# split data into train and test and then train into train and val (90% train, 10% test and then 90% train and 10% val)\n",
    "shuffle_seeders = [seed, 10, 15, 20, 25, 30, 35, 40, 45, 50]\n",
    "shuffle_seeder = shuffle_seeders[0]\n",
    "\n",
    "x_train_val, x_test, y_train_val, y_test = train_test_split(data[\"func\"].tolist(), data[\"vul\"].tolist(), stratify = data[\"vul\"].tolist(), test_size=0.1, random_state=shuffle_seeder)\n",
    "\n",
    "x_train, x_val, y_train, y_val = train_test_split(x_train_val, y_train_val, stratify = y_train_val, test_size=0.1, random_state=shuffle_seeder)\n"
   ]
  },
  {
   "cell_type": "markdown",
   "id": "003c0c5a",
   "metadata": {},
   "source": [
    "<b>Handling imbalanced data</b>"
   ]
  },
  {
   "cell_type": "markdown",
   "id": "0931d2fe",
   "metadata": {},
   "source": [
    "Class weighting"
   ]
  },
  {
   "cell_type": "code",
   "execution_count": 11,
   "id": "3b76ec17",
   "metadata": {},
   "outputs": [
    {
     "name": "stdout",
     "output_type": "stream",
     "text": [
      "{0: 1, 1: 1}\n"
     ]
    }
   ],
   "source": [
    "class_weights = {0:1, 1:1}\n",
    "#class_weights = {0:len(data) / (len(vc) * vc[0]), 1:len(data) / (len(vc) * vc[1])} #total observations / (number of classes * observations in class)\n",
    "#class_weights = dict(enumerate(compute_class_weight(class_weight='balanced', classes=np.unique(y_train), y=y_train)))\n",
    "print(class_weights)"
   ]
  },
  {
   "cell_type": "markdown",
   "id": "97f96c2e",
   "metadata": {},
   "source": [
    "Under-sampling of the clean samples"
   ]
  },
  {
   "cell_type": "code",
   "execution_count": 12,
   "id": "e4ffcbc9",
   "metadata": {},
   "outputs": [
    {
     "data": {
      "text/plain": [
       "(59317, 1)"
      ]
     },
     "execution_count": 12,
     "metadata": {},
     "output_type": "execute_result"
    }
   ],
   "source": [
    "x_train = np.array(x_train)\n",
    "x_train = x_train.reshape(-1, 1)\n",
    "x_train.shape"
   ]
  },
  {
   "cell_type": "code",
   "execution_count": 13,
   "id": "fb3a86da",
   "metadata": {},
   "outputs": [
    {
     "name": "stdout",
     "output_type": "stream",
     "text": [
      "Class distribution  0    56887\n",
      "1     2430\n",
      "dtype: int64\n",
      "Majority class  0\n",
      "Targeted number of majority class 28443\n",
      "Class distribution after under-sampling 0    28443\n",
      "1     2430\n",
      "dtype: int64\n"
     ]
    }
   ],
   "source": [
    "# Apply under-sampling with the specified strategy\n",
    "class_counts = pd.Series(y_train).value_counts()\n",
    "print(\"Class distribution \", class_counts)\n",
    "majority_class = class_counts.idxmax()\n",
    "print(\"Majority class \", majority_class)\n",
    "target_count = int(class_counts.iloc[0] / 2) \n",
    "print(\"Targeted number of majority class\", target_count)\n",
    "\n",
    "# under\n",
    "sampling_strategy = {majority_class: target_count}        \n",
    "rus = RandomUnderSampler(random_state=seed, sampling_strategy=sampling_strategy)\n",
    "x_train_resampled, y_train_resampled = rus.fit_resample(x_train, y_train) \n",
    "print(\"Class distribution after under-sampling\", pd.Series(y_train_resampled).value_counts())"
   ]
  },
  {
   "cell_type": "markdown",
   "id": "2bc44591",
   "metadata": {},
   "source": [
    "Random Over-sampling of the vulnerable samples"
   ]
  },
  {
   "cell_type": "code",
   "execution_count": 14,
   "id": "b82781c2",
   "metadata": {},
   "outputs": [
    {
     "name": "stdout",
     "output_type": "stream",
     "text": [
      "Class distribution  0    28443\n",
      "1     2430\n",
      "dtype: int64\n",
      "Minority class  1\n",
      "Targeted number of minority class 28443\n",
      "Class distribution after over-sampling 0    28443\n",
      "1    28443\n",
      "dtype: int64\n"
     ]
    }
   ],
   "source": [
    "# Apply random over-sampling with the specified strategy\n",
    "class_counts = pd.Series(y_train_resampled).value_counts()\n",
    "print(\"Class distribution \", class_counts)\n",
    "minority_class = class_counts.idxmin()\n",
    "print(\"Minority class \", minority_class)\n",
    "target_count = class_counts.iloc[0] #int(class_counts.iloc[1] * 2) \n",
    "print(\"Targeted number of minority class\", target_count)\n",
    "\n",
    "# over\n",
    "sampling_strategy = {minority_class: target_count}        \n",
    "ros = RandomOverSampler(random_state=seed, sampling_strategy=sampling_strategy)\n",
    "x_train_resampled, y_train_resampled = ros.fit_resample(x_train_resampled, y_train_resampled) \n",
    "print(\"Class distribution after over-sampling\", pd.Series(y_train_resampled).value_counts())"
   ]
  },
  {
   "cell_type": "markdown",
   "id": "2b1312fc",
   "metadata": {},
   "source": [
    "Synthetic Minority Over-sampling of the vulnerable samples"
   ]
  },
  {
   "cell_type": "code",
   "execution_count": 15,
   "id": "318e0b4b",
   "metadata": {},
   "outputs": [],
   "source": [
    "# smote = SMOTE(random_state=seed, sampling_strategy='auto')  # 'auto' means it will resample to have the same number of samples as the majority class\n",
    "# x_train_resampled, y_train_resampled = smote.fit_resample(x_train_resampled, y_train_resampled)\n",
    "\n",
    "# # Class distribution after SMOTE\n",
    "# class_counts_after_smote = pd.Series(y_train_resampled).value_counts()\n",
    "# print(\"Class distribution after SMOTE\", class_counts_after_smote)"
   ]
  },
  {
   "cell_type": "markdown",
   "id": "41404d2b",
   "metadata": {},
   "source": [
    "Adaptive Synthetic Sampling with ADASYN - Over-sampling of the vulnerable samples"
   ]
  },
  {
   "cell_type": "code",
   "execution_count": 16,
   "id": "7a6b054b",
   "metadata": {},
   "outputs": [],
   "source": [
    "# adasyn = ADASYN(random_state=seed, sampling_strategy='auto')  # 'auto' means it will resample to have the same number of samples as the majority class\n",
    "# x_train_resampled, y_train_resampled = adasyn.fit_resample(x_train_resampled, y_train_resampled)\n",
    "\n",
    "# # Class distribution after ADASYN\n",
    "# class_counts_after_adasyn = pd.Series(y_train_resampled).value_counts()\n",
    "# print(\"Class distribution after ADASYN\", class_counts_after_adasyn)"
   ]
  },
  {
   "cell_type": "code",
   "execution_count": 17,
   "id": "65e6517a",
   "metadata": {},
   "outputs": [],
   "source": [
    "# Shuffle the resampled data while preserving the correspondence between features and labels\n",
    "x_train_resampled, y_train_resampled = shuffle(x_train_resampled, y_train_resampled, random_state=seed)\n",
    "\n",
    "# rename\n",
    "X_train = x_train_resampled\n",
    "Y_train = y_train_resampled"
   ]
  },
  {
   "cell_type": "markdown",
   "id": "b8d8f5db",
   "metadata": {},
   "source": [
    "BERT pre-trained embeddings"
   ]
  },
  {
   "cell_type": "code",
   "execution_count": 18,
   "id": "e2f89d3a",
   "metadata": {},
   "outputs": [],
   "source": [
    "if embedding == \"bert\":\n",
    "    model_variation = \"bert-base-uncased\" # \"roberta-base\"\n",
    "    tokenizer = AutoTokenizer.from_pretrained(model_variation)\n",
    "    bert = TFAutoModel.from_pretrained(model_variation)"
   ]
  },
  {
   "cell_type": "code",
   "execution_count": 19,
   "id": "3ef02bd9",
   "metadata": {},
   "outputs": [],
   "source": [
    "if embedding == \"bert\":\n",
    "    bert_embeddings = bert.get_input_embeddings()\n",
    "    embedding_matrix = bert_embeddings.weights[0].numpy()\n",
    "    num_words = len(embedding_matrix)\n",
    "    print(num_words)\n",
    "    dim = len(embedding_matrix[0])\n",
    "    print(dim)"
   ]
  },
  {
   "cell_type": "code",
   "execution_count": 20,
   "id": "7ab68807",
   "metadata": {},
   "outputs": [],
   "source": [
    "if embedding == \"bert\":\n",
    "    sentences = X_train.tolist()\n",
    "    sequences = [tokenizer.encode(sente[0], truncation=True, add_special_tokens=False, return_tensors=\"tf\").numpy() for sente in sentences] # Tokenize the complete sentences\n"
   ]
  },
  {
   "cell_type": "code",
   "execution_count": 21,
   "id": "1d09c00f",
   "metadata": {},
   "outputs": [],
   "source": [
    "if embedding == \"bert\":\n",
    "    lines_pad_x_train = []\n",
    "    for seq in sequences:\n",
    "        lines_pad_x_train.append(seq[0])\n",
    "\n",
    "    lines_pad_x_train = pad_sequences(lines_pad_x_train, padding = 'post', maxlen = 512)\n",
    "    lines_pad_x_train"
   ]
  },
  {
   "cell_type": "code",
   "execution_count": 22,
   "id": "f66a1dbb",
   "metadata": {},
   "outputs": [],
   "source": [
    "if embedding == \"bert\":\n",
    "    sentences = x_val\n",
    "    sequences = [tokenizer.encode(sente, truncation=True, add_special_tokens=False, return_tensors=\"tf\").numpy() for sente in sentences] # Tokenize the complete sentences\n"
   ]
  },
  {
   "cell_type": "code",
   "execution_count": 23,
   "id": "63675629",
   "metadata": {},
   "outputs": [],
   "source": [
    "if embedding == \"bert\":\n",
    "    lines_pad_x_val = []\n",
    "    for seq in sequences:\n",
    "        lines_pad_x_val.append(seq[0])\n",
    "\n",
    "    lines_pad_x_val = pad_sequences(lines_pad_x_val, padding = 'post', maxlen = 512)\n",
    "    lines_pad_x_val"
   ]
  },
  {
   "cell_type": "markdown",
   "id": "e2e7efba",
   "metadata": {},
   "source": [
    "CodeBERT pre-trained CPP embeddings"
   ]
  },
  {
   "cell_type": "code",
   "execution_count": 24,
   "id": "7c8c38dd",
   "metadata": {},
   "outputs": [
    {
     "name": "stderr",
     "output_type": "stream",
     "text": [
      "Some layers from the model checkpoint at microsoft/codebert-base-mlm were not used when initializing TFRobertaModel: ['lm_head']\n",
      "- This IS expected if you are initializing TFRobertaModel from the checkpoint of a model trained on another task or with another architecture (e.g. initializing a BertForSequenceClassification model from a BertForPreTraining model).\n",
      "- This IS NOT expected if you are initializing TFRobertaModel from the checkpoint of a model that you expect to be exactly identical (initializing a BertForSequenceClassification model from a BertForSequenceClassification model).\n",
      "All the layers of TFRobertaModel were initialized from the model checkpoint at microsoft/codebert-base-mlm.\n",
      "If your task is similar to the task the model of the checkpoint was trained on, you can already use TFRobertaModel for predictions without further training.\n"
     ]
    }
   ],
   "source": [
    "if embedding == \"codebert\":\n",
    "    model_variation = \"microsoft/codebert-base-mlm\" # \"neulab/codebert-cpp\"\n",
    "    tokenizer = AutoTokenizer.from_pretrained(model_variation, do_lower_case=False) # , do_lower_case=True\n",
    "    codebert = TFAutoModel.from_pretrained(model_variation) # , from_pt=True"
   ]
  },
  {
   "cell_type": "code",
   "execution_count": 25,
   "id": "ea203cd9",
   "metadata": {},
   "outputs": [
    {
     "name": "stdout",
     "output_type": "stream",
     "text": [
      "50265\n",
      "768\n"
     ]
    }
   ],
   "source": [
    "if embedding == \"codebert\":\n",
    "    codebert_embeddings = codebert.get_input_embeddings()\n",
    "    embedding_matrix = codebert_embeddings.weights[0].numpy()\n",
    "    num_words = len(embedding_matrix)\n",
    "    print(num_words)\n",
    "    dim = len(embedding_matrix[0])\n",
    "    print(dim)"
   ]
  },
  {
   "cell_type": "code",
   "execution_count": 26,
   "id": "fd3d25a0",
   "metadata": {},
   "outputs": [],
   "source": [
    "if embedding == \"codebert\":\n",
    "    sentences = X_train.tolist()\n",
    "    sequences = [tokenizer(sente[0], return_tensors=\"tf\", truncation=True, add_special_tokens=False) for sente in sentences]"
   ]
  },
  {
   "cell_type": "code",
   "execution_count": 27,
   "id": "cc259d29",
   "metadata": {},
   "outputs": [],
   "source": [
    "def padSequences(sequences, max_len):\n",
    "    lines_pad = []\n",
    "    for sequence in sequences:\n",
    "        seq = sequence['input_ids'].numpy()[0]\n",
    "        if len(seq) < max_len:\n",
    "            for i in range(len(seq), max_len):\n",
    "                seq = np.append(seq, 0)\n",
    "        lines_pad.append(seq)\n",
    "    return lines_pad\n"
   ]
  },
  {
   "cell_type": "code",
   "execution_count": 28,
   "id": "7586bb38",
   "metadata": {},
   "outputs": [],
   "source": [
    "def get_max_len(sequences):\n",
    "    max_len = 0\n",
    "    \n",
    "    for seq in sequences:\n",
    "        if len(seq['input_ids'].numpy()[0]) > max_len:\n",
    "            max_len = len(seq['input_ids'].numpy()[0])\n",
    "    \n",
    "    return max_len"
   ]
  },
  {
   "cell_type": "code",
   "execution_count": 29,
   "id": "83c1e0de",
   "metadata": {},
   "outputs": [
    {
     "name": "stdout",
     "output_type": "stream",
     "text": [
      "512\n"
     ]
    }
   ],
   "source": [
    "if embedding == \"codebert\":\n",
    "    max_len = get_max_len(sequences)\n",
    "    print(max_len)"
   ]
  },
  {
   "cell_type": "code",
   "execution_count": 30,
   "id": "e1277690",
   "metadata": {},
   "outputs": [],
   "source": [
    "if embedding == \"codebert\":\n",
    "    lines_pad_x_train = padSequences(sequences, max_len)\n",
    "    lines_pad_x_train = [arr.tolist() for arr in lines_pad_x_train]\n",
    "    lines_pad_x_train = np.array(lines_pad_x_train)"
   ]
  },
  {
   "cell_type": "code",
   "execution_count": 31,
   "id": "8e01ab97",
   "metadata": {},
   "outputs": [],
   "source": [
    "if embedding == \"codebert\":\n",
    "    sentences = x_val\n",
    "    sequences = [tokenizer(sente, return_tensors=\"tf\", truncation=True, add_special_tokens=False) for sente in sentences]"
   ]
  },
  {
   "cell_type": "code",
   "execution_count": 32,
   "id": "3e1a627f",
   "metadata": {},
   "outputs": [],
   "source": [
    "if embedding == \"codebert\":\n",
    "    lines_pad_x_val = padSequences(sequences, max_len)\n",
    "    lines_pad_x_val = [arr.tolist() for arr in lines_pad_x_val]\n",
    "    lines_pad_x_val = np.array(lines_pad_x_val)"
   ]
  },
  {
   "cell_type": "markdown",
   "id": "1dd9fa37",
   "metadata": {},
   "source": [
    "Functions for Deep Learnig"
   ]
  },
  {
   "cell_type": "code",
   "execution_count": 33,
   "id": "1cbeaf59",
   "metadata": {},
   "outputs": [],
   "source": [
    "# Evaluation functions\n",
    "def recall_metric(y_true, y_pred):\n",
    "        true_positives = K.sum(K.round(K.clip(y_true * y_pred, 0, 1)))\n",
    "        possible_positives = K.sum(K.round(K.clip(y_true, 0, 1)))\n",
    "        recall = (true_positives + K.epsilon()) / (possible_positives + K.epsilon())\n",
    "        return recall\n",
    "\n",
    "def precision_metric(y_true, y_pred):\n",
    "        true_positives = K.sum(K.round(K.clip(y_true * y_pred, 0, 1)))\n",
    "        predicted_positives = K.sum(K.round(K.clip(y_pred, 0, 1)))\n",
    "        precision = (true_positives + K.epsilon()) / (predicted_positives + K.epsilon())\n",
    "        return precision\n",
    "\n",
    "def f1_metric(y_true, y_pred):\n",
    "\n",
    "    prec = precision_metric(y_true, y_pred)\n",
    "    rec = recall_metric(y_true, y_pred)\n",
    "    f1 = 2*((prec*rec)/(prec+rec+K.epsilon()))\n",
    "    return f1\n",
    "\n",
    "def f2_metric(y_true, y_pred):\n",
    "\n",
    "    prec = precision_metric(y_true, y_pred)\n",
    "    rec = recall_metric(y_true, y_pred)\n",
    "    f2 = 5*((prec*rec)/(4*prec+rec+K.epsilon()))\n",
    "    return f2"
   ]
  },
  {
   "cell_type": "code",
   "execution_count": 34,
   "id": "5b991073",
   "metadata": {},
   "outputs": [],
   "source": [
    "# Deep Learning Models - Classifiers\n",
    "def buildLstm(max_len, top_words, dim, seed, embedding_matrix, learning_rate=0.001):\n",
    "    model=Sequential()\n",
    "    kernel_initializer = glorot_uniform() # glorot_uniform, RandomUniform, lecun_uniform, Constant, TruncatedNormal\n",
    "    #model.add(Embedding(input_dim=top_words+1, output_dim=dim, input_length=None, mask_zero=True))\n",
    "    model.add(Embedding(input_dim=top_words, output_dim=dim, input_length=None, weights=[embedding_matrix], mask_zero=True, trainable=False))\n",
    "    #model.add(SimpleRNN(300, dropout=0.3, stateful=False))\n",
    "    model.add(LSTM(500, activation='tanh', dropout=0.2, return_sequences=True, stateful=False, kernel_constraint=max_norm(3), bias_constraint=max_norm(3), kernel_initializer=kernel_initializer)) # , recurrent_constraint=max_norm(3)\n",
    "    model.add(LSTM(100, activation='tanh', dropout=0.1, return_sequences=True, kernel_initializer=kernel_initializer))\n",
    "    model.add(LSTM(200, activation='tanh', dropout=0.1, stateful=False, kernel_initializer=kernel_initializer))\n",
    "    #model.add(Bidirectional(LSTM(300, dropout=0.3, stateful=False)))\n",
    "    #model.add(GRU(300, dropout=0.3, stateful=False))\n",
    "    model.add(BatchNormalization()) # default momentum=0.99\n",
    "    model.add(Dense(1, activation='sigmoid', kernel_initializer=kernel_initializer))\n",
    "    #model.add(Dropout(0.2))\n",
    "    \n",
    "    #optimizer = optimizers.SGD(lr=learning_rate, decay=0.1, momentum=0.2, nesterov=True)\n",
    "    #optimizer = optimizers.RMSprop(lr=learning_rate, rho=0.9, epsilon=1e-8, decay=0.0)\n",
    "    #optimizer = optimizers.Adagrad(lr=learning_rate, epsilon=None, decay=0.004)\n",
    "    #optimizer = optimizers.Nadam(lr=learning_rate, beta_1=0.9, beta_2=0.999, epsilon=None, schedule_decay=0.004)\n",
    "    optimizer = optimizers.Adam(learning_rate=learning_rate) # default 0.001\n",
    "    \n",
    "    model.compile(loss='binary_crossentropy', optimizer=optimizer, metrics=[f2_metric])  \n",
    "    return model\n",
    "\n",
    "def buildCnn(max_len, top_words, dim, seed, embedding_matrix):\n",
    "    cnn_model = Sequential()\n",
    "    cnn_model.add(Embedding(top_words, dim, input_length=None, weights=[embedding_matrix], mask_zero=True, trainable=False))\n",
    "    cnn_model.add(Conv1D(filters = 128, kernel_size = 5, activation = 'relu'))\n",
    "    '''cnn_model.add(MaxPooling1D(pool_size = 5))\n",
    "    cnn_model.add(Conv1D(filters = 128, kernel_size = 5, activation = 'relu'))\n",
    "    cnn_model.add(MaxPooling1D(pool_size = 5))\n",
    "    cnn_model.add(Conv1D(filters = 128, kernel_size = 5, activation = 'relu'))'''\n",
    "    cnn_model.add(GlobalMaxPool1D())\n",
    "    #cnn_model.add(Dense(units = 128, activation = 'relu'))\n",
    "    cnn_model.add(Dense(units = 1, activation = 'sigmoid'))\n",
    "    cnn_model.compile(loss = \"binary_crossentropy\", optimizer = \"adam\", metrics=[f2_metric])\n",
    "    return cnn_model\n"
   ]
  },
  {
   "cell_type": "markdown",
   "id": "67a63be2",
   "metadata": {},
   "source": [
    "Training"
   ]
  },
  {
   "cell_type": "code",
   "execution_count": 35,
   "id": "fe521ece",
   "metadata": {},
   "outputs": [],
   "source": [
    "y_train = np.array(Y_train)\n",
    "y_val = np.array(y_val)"
   ]
  },
  {
   "cell_type": "code",
   "execution_count": 36,
   "id": "0d232a7c",
   "metadata": {},
   "outputs": [
    {
     "name": "stdout",
     "output_type": "stream",
     "text": [
      "Training...\n",
      "Model: \"sequential\"\n",
      "_________________________________________________________________\n",
      "Layer (type)                 Output Shape              Param #   \n",
      "=================================================================\n",
      "embedding (Embedding)        (None, None, 768)         38603520  \n",
      "_________________________________________________________________\n",
      "lstm (LSTM)                  (None, None, 500)         2538000   \n",
      "_________________________________________________________________\n",
      "lstm_1 (LSTM)                (None, None, 100)         240400    \n",
      "_________________________________________________________________\n",
      "lstm_2 (LSTM)                (None, 200)               240800    \n",
      "_________________________________________________________________\n",
      "batch_normalization (BatchNo (None, 200)               800       \n",
      "_________________________________________________________________\n",
      "dense (Dense)                (None, 1)                 201       \n",
      "=================================================================\n",
      "Total params: 41,623,721\n",
      "Trainable params: 3,019,801\n",
      "Non-trainable params: 38,603,920\n",
      "_________________________________________________________________\n",
      "model summary\\m None\n",
      "WARNING:tensorflow:From D:\\anaconda3\\envs\\tfgpu\\lib\\site-packages\\tensorflow\\python\\ops\\array_ops.py:5049: calling gather (from tensorflow.python.ops.array_ops) with validate_indices is deprecated and will be removed in a future version.\n",
      "Instructions for updating:\n",
      "The `validate_indices` argument has no effect. Indices are always validated on CPU and never validated on GPU.\n",
      "Epoch 1/100\n",
      "889/889 [==============================] - 202s 216ms/step - loss: 0.4695 - f2_metric: 0.7536 - val_loss: 0.5448 - val_f2_metric: 0.3230- loss: 0.5646 - f2_metric - ETA: 2:30 - loss: 0.56 - ETA: 2:25 - loss: 0.5571 - f2_ - ETA: 2:22 - lo - ETA: 1:48 - loss: 0.51 - ETA: 1:44 - loss: 0.5177 - f2_metric: 0.7 - ETA: 1:43 - loss: 0.517 - ETA: 1:39 - loss: 0.5152 - f2_metri - ETA: 1:37 - loss: 0.5132 - f2 - - ETA: 1:15 - loss: 0.4961 - f2_metr - ETA: 1:13 - - ETA: 1:07 - loss: 0.4912 - f2_me - ETA: 1:04 - loss: 0.4893 - f2_metric: 0.731 - ETA: 1:04 - l - ETA - ETA: 40s -  - ETA: 37s - loss: 0.4758 - f2_metr - ETA: 36s - loss:  - ETA: 24s - loss: 0.4737 - f - ETA: 23s - loss:  - ETA: 15s - loss: 0.4737 - f2_metr - ETA: 14s - loss: 0.4734 - f2_metric:  - ETA: 14s - loss: 0.4732 - f2_metri - ETA: 6s\n",
      "\n",
      "Epoch 00001: val_f2_metric improved from -inf to 0.32303, saving model to best_model.h5\n",
      "Epoch 2/100\n",
      "889/889 [==============================] - 191s 215ms/step - loss: 0.2505 - f2_metric: 0.9141 - val_loss: 0.2598 - val_f2_metric: 0.5839ETA: 2:42 - loss: 0.38 - ETA: 2:39 - loss: 0.3861 - f2_metric:  - ETA: 2:37 - - ETA: 2:31 - loss: 0.3 - - ETA: 2:17 - loss: 0.3519 - f2_ - ETA: 2:15 - lo - ETA: 1:59  - ETA: 1:52 - loss: 0.3093 - f2_metric: 0.87 - ETA: 1:52 -  -  - ETA: 3s - loss: 0.2520 -\n",
      "\n",
      "Epoch 00002: val_f2_metric improved from 0.32303 to 0.58389, saving model to best_model.h5\n",
      "Epoch 3/100\n",
      "889/889 [==============================] - 191s 215ms/step - loss: 0.2386 - f2_metric: 0.9114 - val_loss: 0.1573 - val_f2_metric: 0.3286 loss: 0.1811 - f2_metric: 0.95 - ETA: 1:33 - loss: 0.1814 - f2_m - ETA: 1:30 - los - ETA: 1:15 - loss: 0.1 - ETA: 1:10 - loss: 0.1783 - f2_metri - ETA: 1:08 - loss:  - ETA: 9s - loss: 0 - ETA: 3s - loss: 0.2341 - f2_metric: 0 - ETA: 2s - loss: 0.2351 - f2\n",
      "\n",
      "Epoch 00003: val_f2_metric did not improve from 0.58389\n",
      "Epoch 4/100\n",
      "889/889 [==============================] - 191s 215ms/step - loss: 0.2179 - f2_metric: 0.9307 - val_loss: 0.2074 - val_f2_metric: 0.6411metric: - ETA: 2:44 - loss: 0.4184 -  - ETA: 2:30 - loss: 0.3 - ETA: 2:25 - loss: 0.3626 - f2_m - ETA: 2:22 - loss: 0.3542 - f2_met - ETA: 2:20 - lo - ETA: 2:14 - loss: 0.3336 - f2_metric: 0.8 - ETA: 2:13 - loss: 0.3326 - f2_metric: - ETA: 2:12 - loss: 0.3277 - f2_ - ETA: 2:09 - loss: 0.3230 - f2_met - ETA: 2 - ETA: 6s - \n",
      "\n",
      "Epoch 00004: val_f2_metric improved from 0.58389 to 0.64109, saving model to best_model.h5\n",
      "Epoch 5/100\n",
      "889/889 [==============================] - 191s 214ms/step - loss: 0.1364 - f2_metric: 0.9756 - val_loss: 0.2900 - val_f2_metric: 0.5978364 - f2_metric: 0. - ETA: 0s - loss: 0.1364 - f2_metric: 0.975\n",
      "\n",
      "Epoch 00005: val_f2_metric did not improve from 0.64109\n",
      "Epoch 6/100\n",
      "889/889 [==============================] - 191s 215ms/step - loss: 0.1181 - f2_metric: 0.9813 - val_loss: 0.1840 - val_f2_metric: 0.6342 2:54 - loss: 0.1166 - f2_metric:  - ETA: 2:5 - ETA: 2:33 - loss: 0.1192 - f2_metric: 0. - ETA: 2:32 - loss: 0.1197 - f - ETA: 2:29 - loss: 0.1212 - f2_metric - E - ETA: 2:09 - loss: 0.117 - ETA: 1:45 - loss: 0.1192 - f2_metric: - ETA: 1:44 - ETA: 1:36 - loss: 0 - ETA: 13s - loss: 0.1187 - - E - ETA: 5s - loss: 0.1188 - f2_metric:  - ETA: 4s - loss: 0.1188 - f2_metric: - ETA: 2s - loss: 0.1183 - f2_metric: 0 - ETA: 1s - loss: 0.1184 - f2_metri\n",
      "\n",
      "Epoch 00006: val_f2_metric did not improve from 0.64109\n",
      "Epoch 7/100\n",
      "889/889 [==============================] - 191s 215ms/step - loss: 0.1064 - f2_metric: 0.9837 - val_loss: 0.2062 - val_f2_metric: 0.6523 - f2_metr - - ETA: 2:29 - loss: 0.1124 - f2_metric: 0.9 - ETA: 2:28 - loss: 0.1120 - - ETA: 2:24 - loss: 0.1112 - f2_m - ETA: 2:22 - ETA: 2:15 - loss:  - ETA: 2:09 - loss: 0.1074 - f2_metri - ETA: 2:07 - loss: 0.1077 - f2_metric: 0 - ETA: 2:06 - loss: 0.1081 - f2_metric: 0. - ETA: 2:06 - loss: 0.1081 - f2_metr - ETA: 2:04 - loss: - ETA: 1:5 - ETA: 1:50 - loss: 0.1060 - f2_metric: 0. - ETA: 1:50 - loss: 0.1064 - f2_m - ETA: 1:47  - ETA: 1:21 -  - ETA: 1:05 - loss: 0.1079 - f2_ - ETA: 1:02 - loss: 0.1079 - f2_metric: 0.9 - ETA: 1:01 - loss: 0.1078 - f2_metric: 0.9 - ET - ETA: 56s - loss: 0.1078 - f2_metric: 0. - ETA: 55s - loss: 0.1081 - f2_metr - ETA: 54s  - ETA: 46s -  - ETA: 33s - loss: 0.1068 - f2_metric:  - ETA: 23s - loss: 0.1064 - f2_metric: 0.98 - ETA: 23s - loss: 0.1062 - f2_me - ETA - ETA: - ETA: 8s - loss:  - ETA: 3s - loss: 0.1062 -\n",
      "\n",
      "Epoch 00007: val_f2_metric improved from 0.64109 to 0.65226, saving model to best_model.h5\n",
      "Epoch 8/100\n",
      "889/889 [==============================] - 191s 215ms/step - loss: 0.0985 - f2_metric: 0.9851 - val_loss: 0.2165 - val_f2_metric: 0.63742:54 - loss: 0.0803 - f2_metric: 0.9 - ETA: 2:53 - loss - ETA: 2:47 - E - ETA: 2:31 - loss: 0.0847 -  - ETA: 2:28 - loss: 0.0862 - f2_m - ETA: 2:25 - loss: 0.0868 - f2_me - ETA: 2:23 - loss: 0.0869 - - ETA: 2:19 - loss: 0.0875 -  - ETA: 2:06 - loss: 0.0913 - f2_metric:  - ETA: 2:05 - loss: 0.0914 - f2_ - ETA: 2:02 - loss: 0.0921 - f2_metric - ETA: 2:00 - loss: 0.0929 - f - ETA: 1:57 - - ETA: 1:50 - loss: 0.0951 - f2_metric: 0 - ETA: 1:49 - loss: 0.0947 - - ETA: 1:45 - loss: 0.0957 - f - ETA: 1:42 - loss: 0.0953 - f2_metric: 0.9 - ETA: 1:41 - loss: 0.0 - E - ETA: 4s - loss: 0.\n",
      "\n",
      "Epoch 00008: val_f2_metric did not improve from 0.65226\n",
      "Epoch 9/100\n",
      "889/889 [==============================] - 191s 215ms/step - loss: 0.0940 - f2_metric: 0.9866 - val_loss: 0.1828 - val_f2_metric: 0.63339 - f2_metric:  - ETA: 2:46 - loss: 0.0950 - - ETA: 2 - ETA: 2:35 - loss: 0.0897 - f2_metri - ETA: 2:34 - loss: 0.0921 - f2_met - ETA: 2:32 - loss: 0.0910 - f2_metr - ETA: 2:30 - loss: 0.0919 - f2_m - ETA: 2:27 - loss: - ETA: 2: - ETA: 2:14 - loss: 0.0937 - f2_metric: 0.98 - ETA: 2:14 - loss: 0.0938 - f2_metric - ETA: 2:12 - los - ETA: 2:06 - loss: 0.09 - ETA: 18s - loss: 0.09 - E - ETA: 5s - loss: 0.0946 - f2_metr - ETA: 3s - loss: 0.0944 - \n",
      "\n",
      "Epoch 00009: val_f2_metric did not improve from 0.65226\n",
      "Epoch 10/100\n",
      "889/889 [==============================] - 191s 215ms/step - loss: 0.0903 - f2_metric: 0.9867 - val_loss: 0.2034 - val_f2_metric: 0.613657 - loss: 0.0927 - f2_metric - ETA: 1:55 - loss: 0.0924 - f2_ - ETA: 1:52 - loss: 0. - ETA: 4s - loss: 0.0904 -  - ETA: 1s - loss: 0.0904 - f2_metric: \n",
      "\n",
      "Epoch 00010: val_f2_metric did not improve from 0.65226\n",
      "Epoch 11/100\n"
     ]
    },
    {
     "name": "stdout",
     "output_type": "stream",
     "text": [
      "889/889 [==============================] - 191s 215ms/step - loss: 0.0812 - f2_metric: 0.9887 - val_loss: 0.1809 - val_f2_metric: 0.6178 f2_m - ETA: 2:22 - loss: 0.080 - ETA: 2:09 - loss: 0.0816 - f2_metric:  - ETA: 2:07 - loss: 0.0 - ETA: 2:03 - loss: 0.0828 - - ETA: 1:59 - loss: 0. - ETA: 1:54 - loss:  - ETA: 1:49 - loss: 0.0795  - ETA: 1:16 - loss:  - ETA: 6s - loss: 0.0813 - f2_ - ETA: 3s - loss: 0.0814 - f2_met - ETA: 1s - loss: 0.0814 - f2_metric:\n",
      "\n",
      "Epoch 00011: val_f2_metric did not improve from 0.65226\n",
      "Epoch 12/100\n",
      "889/889 [==============================] - 191s 215ms/step - loss: 0.0752 - f2_metric: 0.9893 - val_loss: 0.2029 - val_f2_metric: 0.6455metric: 0.9 - ETA: 1:57 - loss: 0.0785 - f2_metric:  - ETA: 1:56 - - ETA: 1: - ETA: 1:22 - loss: 0.0766 - f2_met - ETA: 6s - loss: 0.0756 - f2_ - ETA: 3s - loss: 0.0754 - \n",
      "\n",
      "Epoch 00012: val_f2_metric did not improve from 0.65226\n",
      "Epoch 13/100\n",
      "889/889 [==============================] - 191s 215ms/step - loss: 0.0784 - f2_metric: 0.9850 - val_loss: 0.2087 - val_f2_metric: 0.64309 - loss: 0.0714 - f2_metric: 0. - ETA: 2:48 - loss: 0.0677 - f2_metric: 0.9 - E - ETA: 2:39 - loss: 0.0644 - f2_metric: 0.992 - ETA: 2:39 - - ETA: 2:23 - loss: 0.0676 - f2_metric: 0.99 - - ETA: 2:13 - loss: 0.0695 - f2_m - ETA: 2:10 - los - ETA - ETA - ETA: 26s - loss: 0.0796 - f2_ - ETA: 25s - loss: 0.07 - ETA: 22s  - E - ETA: 14s - loss: 0.0785 - ETA: 12s - l - ETA: 9s - loss: 0.0785 - f2_metric - ETA: 8s - loss: 0.0786 -  - ETA: 4s - loss: 0.0790 - f2_metric: 0. - ETA: 3s - loss: 0.0789 - f2_ - ETA: 0s - loss: 0.0787 - f2_metric: 0\n",
      "\n",
      "Epoch 00013: val_f2_metric did not improve from 0.65226\n",
      "Epoch 14/100\n",
      "889/889 [==============================] - 190s 214ms/step - loss: 0.0658 - f2_metric: 0.9909 - val_loss: 0.1898 - val_f2_metric: 0.64232_metr - ETA: 0s - loss: 0.0658 - f2_metric: 0.\n",
      "\n",
      "Epoch 00014: val_f2_metric did not improve from 0.65226\n",
      "Epoch 15/100\n",
      "889/889 [==============================] - 191s 214ms/step - loss: 0.0613 - f2_metric: 0.9912 - val_loss: 0.1973 - val_f2_metric: 0.6194etric: - ETA: 2:16 - loss: 0.0526 - f2_metric: 0. - ETA: 2:15 - l - ETA: 2:0 - ETA: 1:43 - loss: 0.0585 - f2_metr - ETA: 1:31 - loss: 0.0583 - f2_metric:  - ETA: 1:30 - loss: 0.0587 -  - ETA: 1 - ETA: 5s - loss: 0.06 - ETA: 1s - loss: 0.0611 - f2_metric: \n",
      "\n",
      "Epoch 00015: val_f2_metric did not improve from 0.65226\n",
      "Epoch 16/100\n",
      "889/889 [==============================] - 191s 214ms/step - loss: 0.0577 - f2_metric: 0.9915 - val_loss: 0.1864 - val_f2_metric: 0.6120\n",
      "\n",
      "Epoch 00016: val_f2_metric did not improve from 0.65226\n",
      "Epoch 17/100\n",
      "889/889 [==============================] - 191s 214ms/step - loss: 0.0572 - f2_metric: 0.9919 - val_loss: 0.1795 - val_f2_metric: 0.6037 0.0575 -\n",
      "\n",
      "Epoch 00017: val_f2_metric did not improve from 0.65226\n",
      "Epoch 00017: early stopping\n",
      "TP= 243\n",
      "TN= 5939\n",
      "FP= 382\n",
      "FN= 27\n",
      "Accuracy:93.79%\n",
      "Precision:38.88%\n",
      "Recall:90.00%\n",
      "F1 score:54.30%\n",
      "Roc_Auc score:91.98%\n",
      "F2 score:71.26%\n",
      "              precision    recall  f1-score   support\n",
      "\n",
      "           0       1.00      0.94      0.97      6321\n",
      "           1       0.39      0.90      0.54       270\n",
      "\n",
      "    accuracy                           0.94      6591\n",
      "   macro avg       0.69      0.92      0.75      6591\n",
      "weighted avg       0.97      0.94      0.95      6591\n",
      "\n",
      "Cross Validation is completed after 3285851\n"
     ]
    },
    {
     "data": {
      "image/png": "[encoded data removed]",
      "text/plain": [
       "<Figure size 432x288 with 2 Axes>"
      ]
     },
     "metadata": {
      "needs_background": "light"
     },
     "output_type": "display_data"
    }
   ],
   "source": [
    "nb_epoch = 100\n",
    "BS = 64\n",
    "print(\"Training...\")\n",
    "milli_sec1 = int(round(time.time() * 1000))\n",
    "\n",
    "userModel = \"lstm\"\n",
    "\n",
    "if userModel == \"cnn\":\n",
    "    myModel = buildCnn(max_len, num_words, dim, seed, embedding_matrix) \n",
    "elif userModel == \"lstm\":\n",
    "    myModel = buildLstm(max_len, num_words, dim, seed, embedding_matrix)\n",
    "    \n",
    "print(\"model summary\\m\", myModel.summary())\n",
    "csv_logger = CSVLogger('log.csv', append=True, separator=',')\n",
    "es = EarlyStopping(monitor='val_f2_metric', mode='max', verbose=1, patience=10)\n",
    "mc = ModelCheckpoint('best_model.h5', monitor='val_f2_metric', mode='max', verbose=1, save_best_only=True)\n",
    "\n",
    "history = myModel.fit(lines_pad_x_train, y_train, validation_data=(lines_pad_x_val, y_val), epochs = nb_epoch, batch_size = BS, shuffle=True, verbose=1, callbacks=[csv_logger,es,mc], class_weight=class_weights)\n",
    "\n",
    "#load best model\n",
    "#model = load_model('best_model.h5')\n",
    "myModel.load_weights(\"best_model.h5\")\n",
    "\n",
    "scores = myModel.evaluate(lines_pad_x_val, y_val, verbose=0)\n",
    "#predictions = myModel.predict_classes(X_test, verbose=0)\n",
    "predScores = myModel.predict(lines_pad_x_val)\n",
    "predictions = (predScores > 0.5).astype(\"int32\")\n",
    "\n",
    "accuracy=accuracy_score(y_val, predictions)\n",
    "precision=precision_score(y_val, predictions)\n",
    "recall=recall_score(y_val, predictions)\n",
    "f1=f1_score(y_val, predictions)\n",
    "roc_auc=roc_auc_score(y_val, predictions)\n",
    "f2=5*precision*recall / (4*precision+recall)\n",
    "\n",
    "cm = confusion_matrix(y_val, predictions, labels=[0, 1])\n",
    "#print(cm)\n",
    "sns.heatmap(cm, annot=True)\n",
    "tn, fp, fn, tp = cm.ravel()\n",
    "\n",
    "print(\"TP=\",tp)\n",
    "print(\"TN=\",tn)\n",
    "print(\"FP=\",fp)\n",
    "print(\"FN=\",fn)\n",
    "\n",
    "acc = ((tp+tn)/(tp+tn+fp+fn))\n",
    "\n",
    "print(\"Accuracy:%.2f%%\"%(acc*100))\n",
    "print(\"Precision:%.2f%%\"%(precision*100))\n",
    "print(\"Recall:%.2f%%\"%(recall*100))\n",
    "print(\"F1 score:%.2f%%\"%(f1*100))\n",
    "print(\"Roc_Auc score:%.2f%%\"%(roc_auc*100))\n",
    "print(\"F2 score:%.2f%%\"%(f2*100))\n",
    "print(classification_report(y_val, predictions))\n",
    "\n",
    "milli_sec2 = int(round(time.time() * 1000))\n",
    "print(\"Cross Validation is completed after\", milli_sec2-milli_sec1)"
   ]
  }
 ],
 "metadata": {
  "kernelspec": {
   "display_name": "Python 3 (ipykernel)",
   "language": "python",
   "name": "python3"
  },
  "language_info": {
   "codemirror_mode": {
    "name": "ipython",
    "version": 3
   },
   "file_extension": ".py",
   "mimetype": "text/x-python",
   "name": "python",
   "nbconvert_exporter": "python",
   "pygments_lexer": "ipython3",
   "version": "3.7.13"
  }
 },
 "nbformat": 4,
 "nbformat_minor": 5
}
