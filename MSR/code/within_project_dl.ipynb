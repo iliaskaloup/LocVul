{
 "cells": [
  {
   "cell_type": "code",
   "execution_count": 1,
   "id": "b75d92e3",
   "metadata": {},
   "outputs": [
    {
     "name": "stderr",
     "output_type": "stream",
     "text": [
      "D:\\anaconda3\\envs\\tfgpu\\lib\\site-packages\\tqdm\\auto.py:22: TqdmWarning: IProgress not found. Please update jupyter and ipywidgets. See https://ipywidgets.readthedocs.io/en/stable/user_install.html\n",
      "  from .autonotebook import tqdm as notebook_tqdm\n"
     ]
    }
   ],
   "source": [
    "import pandas as pd\n",
    "import json, os\n",
    "\n",
    "import tensorflow as tf\n",
    "import numpy as np\n",
    "import csv\n",
    "from transformers import AutoTokenizer, TFAutoModel, TFAutoModelForSequenceClassification #, BertModel, BertTokenizer, TFBertForSequenceClassification\n",
    "import matplotlib.pyplot as plt\n",
    "import random\n",
    "from tensorflow.keras.callbacks import CSVLogger\n",
    "from tensorflow.keras.callbacks import EarlyStopping\n",
    "import tensorflow.keras.backend as K\n",
    "from collections import OrderedDict\n",
    "import time\n",
    "from sklearn.metrics import accuracy_score, recall_score, f1_score, precision_score, \\\n",
    "roc_auc_score, confusion_matrix, classification_report\n",
    "from sklearn.model_selection import StratifiedKFold\n",
    "import random\n",
    "import io\n",
    "\n",
    "from tensorflow.keras.models import Sequential\n",
    "from tensorflow.keras.models import Sequential\n",
    "from tensorflow.keras.layers import Dense, Activation, Dropout\n",
    "from tensorflow.keras import regularizers\n",
    "from tensorflow.keras import layers\n",
    "from tensorflow.keras.layers import LSTM, SimpleRNN\n",
    "from tensorflow.keras.layers import GRU\n",
    "from tensorflow.keras.layers import Masking\n",
    "from tensorflow.keras.layers import Embedding, MaxPool1D\n",
    "from tensorflow.keras.callbacks import CSVLogger\n",
    "from tensorflow.keras.callbacks import EarlyStopping, ModelCheckpoint\n",
    "from tensorflow.keras.models import load_model\n",
    "from tensorflow.keras import optimizers\n",
    "from tensorflow.keras.constraints import max_norm\n",
    "from tensorflow.keras.layers import Bidirectional, BatchNormalization\n",
    "from tensorflow.keras.layers import LeakyReLU\n",
    "from tensorflow.keras.initializers import glorot_uniform, RandomUniform, lecun_uniform, Constant\n",
    "from tensorflow.python.keras.preprocessing.text import Tokenizer\n",
    "from tensorflow.python.keras.preprocessing.sequence import pad_sequences\n",
    "from collections import OrderedDict\n",
    "from sklearn.model_selection import StratifiedKFold\n",
    "from tensorflow.keras.layers import Conv1D\n",
    "from tensorflow.keras.layers import MaxPooling1D, GlobalMaxPool1D\n",
    "import tensorflow.keras.backend as K\n",
    "\n",
    "from tensorflow.keras.optimizers import Adam\n",
    "from tensorflow.keras.initializers import TruncatedNormal\n",
    "from tensorflow.keras.losses import CategoricalCrossentropy\n",
    "from tensorflow.keras.metrics import CategoricalAccuracy\n",
    "from tensorflow.keras.utils import to_categorical\n",
    "from tensorflow.keras.layers import Input, Dense, GlobalMaxPool1D\n",
    "\n",
    "from sklearn.metrics import classification_report\n",
    "from keras_preprocessing.text import tokenizer_from_json\n",
    "\n",
    "import nltk\n",
    "from nltk.tokenize import word_tokenize\n",
    "\n",
    "import seaborn as sns\n",
    "from sklearn.model_selection import train_test_split\n",
    "from sklearn.svm import SVC  \n",
    "from sklearn.naive_bayes import GaussianNB\n",
    "from sklearn import tree\n",
    "from sklearn.ensemble import RandomForestClassifier\n",
    "from imblearn.over_sampling import RandomOverSampler, SMOTE, ADASYN\n",
    "from imblearn.under_sampling import RandomUnderSampler\n",
    "from sklearn.utils import shuffle\n",
    "\n",
    "from sklearn.utils.class_weight import compute_class_weight\n",
    "from tensorflow.keras.regularizers import l1_l2\n"
   ]
  },
  {
   "cell_type": "code",
   "execution_count": 2,
   "id": "a4cbca1a",
   "metadata": {},
   "outputs": [],
   "source": [
    "seed = 123\n",
    "np.random.seed(seed)\n",
    "random.seed(seed)\n",
    "tf.random.set_seed(seed)"
   ]
  },
  {
   "cell_type": "code",
   "execution_count": 3,
   "id": "30a24011",
   "metadata": {},
   "outputs": [],
   "source": [
    "embeddings = [\"w2v\", \"ft\", \"bert\", \"codebert\"]\n",
    "embedding = embeddings[3]"
   ]
  },
  {
   "cell_type": "markdown",
   "id": "6059895e",
   "metadata": {},
   "source": [
    "Choose a project among Chrome and Linux or the full dataset"
   ]
  },
  {
   "cell_type": "code",
   "execution_count": 4,
   "id": "c6d86c04",
   "metadata": {},
   "outputs": [],
   "source": [
    "#data = pd.read_csv(os.path.join('..','data', 'full_data_reduced.csv'))\n",
    "data = pd.read_csv(os.path.join('..','data', 'chrome_data_reduced.csv'))\n",
    "#data = pd.read_csv(os.path.join('..','data', 'linux_data_reduced.csv'))"
   ]
  },
  {
   "cell_type": "markdown",
   "id": "38c5b1cf",
   "metadata": {},
   "source": [
    "Shuffle the dataset before starting operating on it"
   ]
  },
  {
   "cell_type": "code",
   "execution_count": 5,
   "id": "60a95914",
   "metadata": {},
   "outputs": [],
   "source": [
    "data = data.sample(frac=1, random_state=seed).reset_index(drop=True)"
   ]
  },
  {
   "cell_type": "code",
   "execution_count": 6,
   "id": "c8597edf",
   "metadata": {},
   "outputs": [
    {
     "name": "stdout",
     "output_type": "stream",
     "text": [
      "                                                func  vul  length\n",
      "0    midimanagerusbtest() : message_loop_(new bas...    0      14\n",
      "1  void renderframehostimpl::cancelblockedrequest...    0       8\n",
      "2  void renderthreadimpl::removeobserver(renderth...    0       7\n",
      "3  void webstorestandaloneinstaller::initinstalld...    0       7\n",
      "4  omniboxstate::omniboxstate(const omniboxeditmo...    0      15\n"
     ]
    }
   ],
   "source": [
    "print(data.head())"
   ]
  },
  {
   "cell_type": "code",
   "execution_count": 7,
   "id": "baebd02b",
   "metadata": {},
   "outputs": [
    {
     "data": {
      "text/plain": [
       "80"
      ]
     },
     "execution_count": 7,
     "metadata": {},
     "output_type": "execute_result"
    }
   ],
   "source": [
    "np.max(data[\"length\"])"
   ]
  },
  {
   "cell_type": "code",
   "execution_count": 8,
   "id": "485b09ae",
   "metadata": {},
   "outputs": [
    {
     "name": "stdout",
     "output_type": "stream",
     "text": [
      "Maximum number of words: 80\n"
     ]
    }
   ],
   "source": [
    "word_counts = data[\"func\"].apply(lambda x: len(x.split()))\n",
    "max_length = word_counts.max()\n",
    "print(\"Maximum number of words:\", max_length)\n"
   ]
  },
  {
   "cell_type": "code",
   "execution_count": 9,
   "id": "69061a3f",
   "metadata": {},
   "outputs": [
    {
     "name": "stdout",
     "output_type": "stream",
     "text": [
      "0    70232\n",
      "1     3000\n",
      "Name: vul, dtype: int64\n",
      "Vulnerability Percentage:  4.271557124957284 %\n"
     ]
    }
   ],
   "source": [
    "vc = data[\"vul\"].value_counts()\n",
    "\n",
    "print(vc)\n",
    "\n",
    "print(\"Vulnerability Percentage: \", (vc[1] / vc[0])*100, '%')"
   ]
  },
  {
   "cell_type": "markdown",
   "id": "9251f04f",
   "metadata": {},
   "source": [
    "Train-val-test split"
   ]
  },
  {
   "cell_type": "code",
   "execution_count": 10,
   "id": "3ebe5717",
   "metadata": {},
   "outputs": [],
   "source": [
    "# split data into train and test and then train into train and val (90% train, 10% test and then 90% train and 10% val)\n",
    "shuffle_seeders = [seed, 10, 15, 20, 25, 30, 35, 40, 45, 50]\n",
    "shuffle_seeder = shuffle_seeders[0]\n",
    "\n",
    "x_train_val, x_test, y_train_val, y_test = train_test_split(data[\"func\"].tolist(), data[\"vul\"].tolist(), stratify = data[\"vul\"].tolist(), test_size=0.1, random_state=shuffle_seeder)\n",
    "\n",
    "x_train, x_val, y_train, y_val = train_test_split(x_train_val, y_train_val, stratify = y_train_val, test_size=0.1, random_state=shuffle_seeder)\n"
   ]
  },
  {
   "cell_type": "markdown",
   "id": "003c0c5a",
   "metadata": {},
   "source": [
    "<b>Handling imbalanced data</b>"
   ]
  },
  {
   "cell_type": "markdown",
   "id": "0931d2fe",
   "metadata": {},
   "source": [
    "Class weighting"
   ]
  },
  {
   "cell_type": "code",
   "execution_count": 11,
   "id": "3b76ec17",
   "metadata": {},
   "outputs": [
    {
     "name": "stdout",
     "output_type": "stream",
     "text": [
      "{0: 1, 1: 1}\n"
     ]
    }
   ],
   "source": [
    "class_weights = {0:1, 1:1}\n",
    "#class_weights = {0:len(data) / (len(vc) * vc[0]), 1:len(data) / (len(vc) * vc[1])} #total observations / (number of classes * observations in class)\n",
    "#class_weights = dict(enumerate(compute_class_weight(class_weight='balanced', classes=np.unique(y_train), y=y_train)))\n",
    "print(class_weights)"
   ]
  },
  {
   "cell_type": "markdown",
   "id": "97f96c2e",
   "metadata": {},
   "source": [
    "Under-sampling of the clean samples"
   ]
  },
  {
   "cell_type": "code",
   "execution_count": 12,
   "id": "e4ffcbc9",
   "metadata": {},
   "outputs": [
    {
     "data": {
      "text/plain": [
       "(59317, 1)"
      ]
     },
     "execution_count": 12,
     "metadata": {},
     "output_type": "execute_result"
    }
   ],
   "source": [
    "x_train = np.array(x_train)\n",
    "x_train = x_train.reshape(-1, 1)\n",
    "x_train.shape"
   ]
  },
  {
   "cell_type": "code",
   "execution_count": 13,
   "id": "fb3a86da",
   "metadata": {},
   "outputs": [
    {
     "name": "stdout",
     "output_type": "stream",
     "text": [
      "Class distribution  0    56887\n",
      "1     2430\n",
      "dtype: int64\n",
      "Majority class  0\n",
      "Targeted number of majority class 28443\n",
      "Class distribution after under-sampling 0    28443\n",
      "1     2430\n",
      "dtype: int64\n"
     ]
    }
   ],
   "source": [
    "# Apply under-sampling with the specified strategy\n",
    "class_counts = pd.Series(y_train).value_counts()\n",
    "print(\"Class distribution \", class_counts)\n",
    "majority_class = class_counts.idxmax()\n",
    "print(\"Majority class \", majority_class)\n",
    "target_count = int(class_counts.iloc[0] / 2) \n",
    "print(\"Targeted number of majority class\", target_count)\n",
    "\n",
    "# under\n",
    "sampling_strategy = {majority_class: target_count}        \n",
    "rus = RandomUnderSampler(random_state=seed, sampling_strategy=sampling_strategy)\n",
    "x_train_resampled, y_train_resampled = rus.fit_resample(x_train, y_train) \n",
    "print(\"Class distribution after under-sampling\", pd.Series(y_train_resampled).value_counts())"
   ]
  },
  {
   "cell_type": "markdown",
   "id": "2bc44591",
   "metadata": {},
   "source": [
    "Random Over-sampling of the vulnerable samples"
   ]
  },
  {
   "cell_type": "code",
   "execution_count": 14,
   "id": "b82781c2",
   "metadata": {},
   "outputs": [
    {
     "name": "stdout",
     "output_type": "stream",
     "text": [
      "Class distribution  0    28443\n",
      "1     2430\n",
      "dtype: int64\n",
      "Minority class  1\n",
      "Targeted number of minority class 28443\n",
      "Class distribution after over-sampling 0    28443\n",
      "1    28443\n",
      "dtype: int64\n"
     ]
    }
   ],
   "source": [
    "# Apply random over-sampling with the specified strategy\n",
    "class_counts = pd.Series(y_train_resampled).value_counts()\n",
    "print(\"Class distribution \", class_counts)\n",
    "minority_class = class_counts.idxmin()\n",
    "print(\"Minority class \", minority_class)\n",
    "target_count = class_counts.iloc[0] #int(class_counts.iloc[1] * 2) \n",
    "print(\"Targeted number of minority class\", target_count)\n",
    "\n",
    "# over\n",
    "sampling_strategy = {minority_class: target_count}        \n",
    "ros = RandomOverSampler(random_state=seed, sampling_strategy=sampling_strategy)\n",
    "x_train_resampled, y_train_resampled = ros.fit_resample(x_train_resampled, y_train_resampled) \n",
    "print(\"Class distribution after over-sampling\", pd.Series(y_train_resampled).value_counts())"
   ]
  },
  {
   "cell_type": "markdown",
   "id": "2b1312fc",
   "metadata": {},
   "source": [
    "Synthetic Minority Over-sampling of the vulnerable samples"
   ]
  },
  {
   "cell_type": "code",
   "execution_count": 15,
   "id": "318e0b4b",
   "metadata": {},
   "outputs": [],
   "source": [
    "# smote = SMOTE(random_state=seed, sampling_strategy='auto')  # 'auto' means it will resample to have the same number of samples as the majority class\n",
    "# x_train_resampled, y_train_resampled = smote.fit_resample(x_train_resampled, y_train_resampled)\n",
    "\n",
    "# # Class distribution after SMOTE\n",
    "# class_counts_after_smote = pd.Series(y_train_resampled).value_counts()\n",
    "# print(\"Class distribution after SMOTE\", class_counts_after_smote)"
   ]
  },
  {
   "cell_type": "markdown",
   "id": "41404d2b",
   "metadata": {},
   "source": [
    "Adaptive Synthetic Sampling with ADASYN - Over-sampling of the vulnerable samples"
   ]
  },
  {
   "cell_type": "code",
   "execution_count": 16,
   "id": "7a6b054b",
   "metadata": {},
   "outputs": [],
   "source": [
    "# adasyn = ADASYN(random_state=seed, sampling_strategy='auto')  # 'auto' means it will resample to have the same number of samples as the majority class\n",
    "# x_train_resampled, y_train_resampled = adasyn.fit_resample(x_train_resampled, y_train_resampled)\n",
    "\n",
    "# # Class distribution after ADASYN\n",
    "# class_counts_after_adasyn = pd.Series(y_train_resampled).value_counts()\n",
    "# print(\"Class distribution after ADASYN\", class_counts_after_adasyn)"
   ]
  },
  {
   "cell_type": "code",
   "execution_count": 17,
   "id": "65e6517a",
   "metadata": {},
   "outputs": [],
   "source": [
    "# Shuffle the resampled data while preserving the correspondence between features and labels\n",
    "x_train_resampled, y_train_resampled = shuffle(x_train_resampled, y_train_resampled, random_state=seed)\n",
    "\n",
    "# rename\n",
    "X_train = x_train_resampled\n",
    "Y_train = y_train_resampled"
   ]
  },
  {
   "cell_type": "markdown",
   "id": "b8d8f5db",
   "metadata": {},
   "source": [
    "BERT pre-trained embeddings"
   ]
  },
  {
   "cell_type": "code",
   "execution_count": 18,
   "id": "e2f89d3a",
   "metadata": {},
   "outputs": [],
   "source": [
    "if embedding == \"bert\":\n",
    "    model_variation = \"bert-base-uncased\" # \"roberta-base\"\n",
    "    tokenizer = AutoTokenizer.from_pretrained(model_variation)\n",
    "    bert = TFAutoModel.from_pretrained(model_variation)"
   ]
  },
  {
   "cell_type": "code",
   "execution_count": 19,
   "id": "3ef02bd9",
   "metadata": {},
   "outputs": [],
   "source": [
    "if embedding == \"bert\":\n",
    "    bert_embeddings = bert.get_input_embeddings()\n",
    "    embedding_matrix = bert_embeddings.weights[0].numpy()\n",
    "    num_words = len(embedding_matrix)\n",
    "    print(num_words)\n",
    "    dim = len(embedding_matrix[0])\n",
    "    print(dim)"
   ]
  },
  {
   "cell_type": "code",
   "execution_count": 20,
   "id": "7ab68807",
   "metadata": {},
   "outputs": [],
   "source": [
    "if embedding == \"bert\":\n",
    "    sentences = X_train.tolist()\n",
    "    sequences = [tokenizer.encode(sente[0], truncation=True, add_special_tokens=False, return_tensors=\"tf\").numpy() for sente in sentences] # Tokenize the complete sentences\n"
   ]
  },
  {
   "cell_type": "code",
   "execution_count": 21,
   "id": "1d09c00f",
   "metadata": {},
   "outputs": [],
   "source": [
    "if embedding == \"bert\":\n",
    "    lines_pad_x_train = []\n",
    "    for seq in sequences:\n",
    "        lines_pad_x_train.append(seq[0])\n",
    "\n",
    "    lines_pad_x_train = pad_sequences(lines_pad_x_train, padding = 'post', maxlen = 512)\n",
    "    lines_pad_x_train"
   ]
  },
  {
   "cell_type": "code",
   "execution_count": 22,
   "id": "f66a1dbb",
   "metadata": {},
   "outputs": [],
   "source": [
    "if embedding == \"bert\":\n",
    "    sentences = x_val\n",
    "    sequences = [tokenizer.encode(sente, truncation=True, add_special_tokens=False, return_tensors=\"tf\").numpy() for sente in sentences] # Tokenize the complete sentences\n"
   ]
  },
  {
   "cell_type": "code",
   "execution_count": 23,
   "id": "63675629",
   "metadata": {},
   "outputs": [],
   "source": [
    "if embedding == \"bert\":\n",
    "    lines_pad_x_val = []\n",
    "    for seq in sequences:\n",
    "        lines_pad_x_val.append(seq[0])\n",
    "\n",
    "    lines_pad_x_val = pad_sequences(lines_pad_x_val, padding = 'post', maxlen = 512)\n",
    "    lines_pad_x_val"
   ]
  },
  {
   "cell_type": "markdown",
   "id": "e2e7efba",
   "metadata": {},
   "source": [
    "CodeBERT pre-trained CPP embeddings"
   ]
  },
  {
   "cell_type": "code",
   "execution_count": 24,
   "id": "7c8c38dd",
   "metadata": {},
   "outputs": [
    {
     "name": "stderr",
     "output_type": "stream",
     "text": [
      "Some layers from the model checkpoint at microsoft/codebert-base-mlm were not used when initializing TFRobertaModel: ['lm_head']\n",
      "- This IS expected if you are initializing TFRobertaModel from the checkpoint of a model trained on another task or with another architecture (e.g. initializing a BertForSequenceClassification model from a BertForPreTraining model).\n",
      "- This IS NOT expected if you are initializing TFRobertaModel from the checkpoint of a model that you expect to be exactly identical (initializing a BertForSequenceClassification model from a BertForSequenceClassification model).\n",
      "All the layers of TFRobertaModel were initialized from the model checkpoint at microsoft/codebert-base-mlm.\n",
      "If your task is similar to the task the model of the checkpoint was trained on, you can already use TFRobertaModel for predictions without further training.\n"
     ]
    }
   ],
   "source": [
    "if embedding == \"codebert\":\n",
    "    model_variation = \"microsoft/codebert-base-mlm\" # \"neulab/codebert-cpp\"\n",
    "    tokenizer = AutoTokenizer.from_pretrained(model_variation, do_lower_case=False) # , do_lower_case=True\n",
    "    codebert = TFAutoModel.from_pretrained(model_variation) # , from_pt=True"
   ]
  },
  {
   "cell_type": "code",
   "execution_count": 25,
   "id": "ea203cd9",
   "metadata": {},
   "outputs": [
    {
     "name": "stdout",
     "output_type": "stream",
     "text": [
      "50265\n",
      "768\n"
     ]
    }
   ],
   "source": [
    "if embedding == \"codebert\":\n",
    "    codebert_embeddings = codebert.get_input_embeddings()\n",
    "    embedding_matrix = codebert_embeddings.weights[0].numpy()\n",
    "    num_words = len(embedding_matrix)\n",
    "    print(num_words)\n",
    "    dim = len(embedding_matrix[0])\n",
    "    print(dim)"
   ]
  },
  {
   "cell_type": "code",
   "execution_count": 26,
   "id": "fd3d25a0",
   "metadata": {},
   "outputs": [],
   "source": [
    "if embedding == \"codebert\":\n",
    "    sentences = X_train.tolist()\n",
    "    sequences = [tokenizer(sente[0], return_tensors=\"tf\", truncation=True, add_special_tokens=False) for sente in sentences]"
   ]
  },
  {
   "cell_type": "code",
   "execution_count": 27,
   "id": "cc259d29",
   "metadata": {},
   "outputs": [],
   "source": [
    "def padSequences(sequences, max_len):\n",
    "    lines_pad = []\n",
    "    for sequence in sequences:\n",
    "        seq = sequence['input_ids'].numpy()[0]\n",
    "        if len(seq) < max_len:\n",
    "            for i in range(len(seq), max_len):\n",
    "                seq = np.append(seq, 0)\n",
    "        lines_pad.append(seq)\n",
    "    return lines_pad\n"
   ]
  },
  {
   "cell_type": "code",
   "execution_count": 28,
   "id": "7586bb38",
   "metadata": {},
   "outputs": [],
   "source": [
    "def get_max_len(sequences):\n",
    "    max_len = 0\n",
    "    \n",
    "    for seq in sequences:\n",
    "        if len(seq['input_ids'].numpy()[0]) > max_len:\n",
    "            max_len = len(seq['input_ids'].numpy()[0])\n",
    "    \n",
    "    return max_len"
   ]
  },
  {
   "cell_type": "code",
   "execution_count": 29,
   "id": "83c1e0de",
   "metadata": {},
   "outputs": [
    {
     "name": "stdout",
     "output_type": "stream",
     "text": [
      "512\n"
     ]
    }
   ],
   "source": [
    "if embedding == \"codebert\":\n",
    "    max_len = get_max_len(sequences)\n",
    "    print(max_len)"
   ]
  },
  {
   "cell_type": "code",
   "execution_count": 30,
   "id": "e1277690",
   "metadata": {},
   "outputs": [],
   "source": [
    "if embedding == \"codebert\":\n",
    "    lines_pad_x_train = padSequences(sequences, max_len)\n",
    "    lines_pad_x_train = [arr.tolist() for arr in lines_pad_x_train]\n",
    "    lines_pad_x_train = np.array(lines_pad_x_train)"
   ]
  },
  {
   "cell_type": "code",
   "execution_count": 31,
   "id": "8e01ab97",
   "metadata": {},
   "outputs": [],
   "source": [
    "if embedding == \"codebert\":\n",
    "    sentences = x_val\n",
    "    sequences = [tokenizer(sente, return_tensors=\"tf\", truncation=True, add_special_tokens=False) for sente in sentences]"
   ]
  },
  {
   "cell_type": "code",
   "execution_count": 32,
   "id": "3e1a627f",
   "metadata": {},
   "outputs": [],
   "source": [
    "if embedding == \"codebert\":\n",
    "    lines_pad_x_val = padSequences(sequences, max_len)\n",
    "    lines_pad_x_val = [arr.tolist() for arr in lines_pad_x_val]\n",
    "    lines_pad_x_val = np.array(lines_pad_x_val)"
   ]
  },
  {
   "cell_type": "markdown",
   "id": "1dd9fa37",
   "metadata": {},
   "source": [
    "Functions for Deep Learnig"
   ]
  },
  {
   "cell_type": "code",
   "execution_count": 33,
   "id": "1cbeaf59",
   "metadata": {},
   "outputs": [],
   "source": [
    "# Evaluation functions\n",
    "def recall_metric(y_true, y_pred):\n",
    "        true_positives = K.sum(K.round(K.clip(y_true * y_pred, 0, 1)))\n",
    "        possible_positives = K.sum(K.round(K.clip(y_true, 0, 1)))\n",
    "        recall = (true_positives + K.epsilon()) / (possible_positives + K.epsilon())\n",
    "        return recall\n",
    "\n",
    "def precision_metric(y_true, y_pred):\n",
    "        true_positives = K.sum(K.round(K.clip(y_true * y_pred, 0, 1)))\n",
    "        predicted_positives = K.sum(K.round(K.clip(y_pred, 0, 1)))\n",
    "        precision = (true_positives + K.epsilon()) / (predicted_positives + K.epsilon())\n",
    "        return precision\n",
    "\n",
    "def f1_metric(y_true, y_pred):\n",
    "\n",
    "    prec = precision_metric(y_true, y_pred)\n",
    "    rec = recall_metric(y_true, y_pred)\n",
    "    f1 = 2*((prec*rec)/(prec+rec+K.epsilon()))\n",
    "    return f1\n",
    "\n",
    "def f2_metric(y_true, y_pred):\n",
    "\n",
    "    prec = precision_metric(y_true, y_pred)\n",
    "    rec = recall_metric(y_true, y_pred)\n",
    "    f2 = 5*((prec*rec)/(4*prec+rec+K.epsilon()))\n",
    "    return f2"
   ]
  },
  {
   "cell_type": "code",
   "execution_count": 34,
   "id": "5b991073",
   "metadata": {},
   "outputs": [],
   "source": [
    "# Deep Learning Models - Classifiers\n",
    "def buildLstm(max_len, top_words, dim, seed, embedding_matrix):\n",
    "    model=Sequential()\n",
    "    #model.add(Embedding(input_dim=top_words+1, output_dim=dim, input_length=None, mask_zero=True))\n",
    "    model.add(Embedding(input_dim=top_words, output_dim=dim, input_length=None, weights=[embedding_matrix], mask_zero=True, trainable=False))\n",
    "    #model.add(SimpleRNN(300, dropout=0.3, stateful=False))\n",
    "    model.add(LSTM(500, dropout=0.2, return_sequences=True, stateful=False, kernel_constraint=max_norm(3), bias_constraint=max_norm(3))) # , recurrent_constraint=max_norm(3)\n",
    "    model.add(Activation('tanh'))\n",
    "    model.add(LSTM(100, dropout=0.1, return_sequences=True))\n",
    "    model.add(Activation('tanh'))\n",
    "    model.add(LSTM(50, dropout=0.1, stateful=False))\n",
    "    #model.add(Bidirectional(LSTM(300, dropout=0.3, stateful=False)))\n",
    "    #model.add(GRU(300, dropout=0.3, stateful=False))\n",
    "    model.add(Activation('tanh')) #dropout=0.2, recurrent_dropout=0.2, kernel_constraint=max_norm(3), bias_constraint=max_norm(3)\n",
    "    model.add(BatchNormalization(momentum=0.0))\n",
    "    model.add(Dense(1, activation='sigmoid'))\n",
    "    #model.add(Dropout(0.2))\n",
    "    model.compile(loss='binary_crossentropy', optimizer='adam', metrics=[f2_metric])  \n",
    "    return model\n",
    "\n",
    "def buildCnn(max_len, top_words, dim, seed, embedding_matrix):\n",
    "    cnn_model = Sequential()\n",
    "    cnn_model.add(Embedding(top_words, dim, input_length=None, weights=[embedding_matrix], mask_zero=True, trainable=False))\n",
    "    cnn_model.add(Conv1D(filters = 128, kernel_size = 5, activation = 'relu'))\n",
    "    '''cnn_model.add(MaxPooling1D(pool_size = 5))\n",
    "    cnn_model.add(Conv1D(filters = 128, kernel_size = 5, activation = 'relu'))\n",
    "    cnn_model.add(MaxPooling1D(pool_size = 5))\n",
    "    cnn_model.add(Conv1D(filters = 128, kernel_size = 5, activation = 'relu'))'''\n",
    "    cnn_model.add(GlobalMaxPool1D())\n",
    "    #cnn_model.add(Dense(units = 128, activation = 'relu'))\n",
    "    cnn_model.add(Dense(units = 1, activation = 'sigmoid'))\n",
    "    cnn_model.compile(loss = \"binary_crossentropy\", optimizer = \"adam\", metrics=[f2_metric])\n",
    "    return cnn_model\n"
   ]
  },
  {
   "cell_type": "markdown",
   "id": "67a63be2",
   "metadata": {},
   "source": [
    "Training"
   ]
  },
  {
   "cell_type": "code",
   "execution_count": 35,
   "id": "fe521ece",
   "metadata": {},
   "outputs": [],
   "source": [
    "y_train = np.array(Y_train)\n",
    "y_val = np.array(y_val)"
   ]
  },
  {
   "cell_type": "code",
   "execution_count": 36,
   "id": "0d232a7c",
   "metadata": {},
   "outputs": [
    {
     "name": "stdout",
     "output_type": "stream",
     "text": [
      "Training...\n",
      "Model: \"sequential\"\n",
      "_________________________________________________________________\n",
      "Layer (type)                 Output Shape              Param #   \n",
      "=================================================================\n",
      "embedding (Embedding)        (None, None, 768)         38603520  \n",
      "_________________________________________________________________\n",
      "lstm (LSTM)                  (None, None, 500)         2538000   \n",
      "_________________________________________________________________\n",
      "activation (Activation)      (None, None, 500)         0         \n",
      "_________________________________________________________________\n",
      "lstm_1 (LSTM)                (None, None, 100)         240400    \n",
      "_________________________________________________________________\n",
      "activation_1 (Activation)    (None, None, 100)         0         \n",
      "_________________________________________________________________\n",
      "lstm_2 (LSTM)                (None, 50)                30200     \n",
      "_________________________________________________________________\n",
      "activation_2 (Activation)    (None, 50)                0         \n",
      "_________________________________________________________________\n",
      "batch_normalization (BatchNo (None, 50)                200       \n",
      "_________________________________________________________________\n",
      "dense (Dense)                (None, 1)                 51        \n",
      "=================================================================\n",
      "Total params: 41,412,371\n",
      "Trainable params: 2,808,751\n",
      "Non-trainable params: 38,603,620\n",
      "_________________________________________________________________\n",
      "model summary\\m None\n",
      "WARNING:tensorflow:From D:\\anaconda3\\envs\\tfgpu\\lib\\site-packages\\tensorflow\\python\\ops\\array_ops.py:5049: calling gather (from tensorflow.python.ops.array_ops) with validate_indices is deprecated and will be removed in a future version.\n",
      "Instructions for updating:\n",
      "The `validate_indices` argument has no effect. Indices are always validated on CPU and never validated on GPU.\n",
      "Epoch 1/100\n",
      "889/889 [==============================] - 200s 212ms/step - loss: 0.4794 - f2_metric: 0.7240 - val_loss: 0.3068 - val_f2_metric: 0.3928: 2:38 -  - ETA: 2:22 - loss: 0.5519 - f2_metric: 0 - ETA: 2:21 - loss: 0.5495 - f2_met - ETA: 2:19 - loss: 0.5466 - f2_metri - ETA: 2:17 - loss: 0.5429 - f2_m - ETA: 2:14 - loss: 0.5415 - f2_metric: 0 - ETA: 2:13 - loss:  - ETA: 2:08 - loss:  - ETA: 2:03 - loss: 0.5313 - - ETA: 1:59 - ETA: 1:52 - loss: 0.5213 - f2_me - ETA: 1:50 - loss: 0.5210 - f2_metric: - ETA: 1:49 - loss: 0.5210 - f2_m - ETA: 1:46 - loss: 0.5187 - f2_metric: 0.709 - ETA: 1:46 - loss: 0.5 - ETA: 1:22 - loss: 0.4804 - f - ETA: 1:19 - loss: 0.4755 - f2_metric - ETA: 1:18 - loss: 0.4730 - f2_metric: 0.74 - ETA: 1:17 - loss: 0.4724 - f2_ - ETA: 1:14 - loss: 0.4692 - f2 - - ETA: 33 - ETA: 11s - loss: 0.\n",
      "\n",
      "Epoch 00001: val_f2_metric improved from -inf to 0.39281, saving model to best_model.h5\n",
      "Epoch 2/100\n",
      "889/889 [==============================] - 187s 210ms/step - loss: 0.3337 - f2_metric: 0.8558 - val_loss: 0.2253 - val_f2_metric: 0.6344TA: 2:52 - loss: 0.5055 -  - ETA: 2:48 - loss: 0.5192 - f2_met - ETA: 2:48 - loss: 0.5147 - f2_metric: 0.6 - ETA: 2:47 - loss: 0.5087 - f2_metric: 0.7 - ETA: 2:46 - loss: 0.5120 - f2_me - ETA: 2:43 - loss: 0.509 - ETA: 2:39 - loss: 0.5073 - f2_metric: 0.70 - - ETA: 2:30 - loss - ETA: 2:05 - loss: 0.4673 - f2_metric: 0. - ETA: 2:04 - loss: 0.4659 - f2_metric: 0 - ETA: 2:03 - loss: 0.4645 - f - ETA: 2:00 - loss: 0.4598 - f2_m - ETA: 1:57  - ETA: 1:51 - loss: 0 - ETA: 1: - ETA: 1:38 - loss: 0.4331 - f2_met - ETA: 1:36 - loss: 0.4309 - f2_me - ETA: 1:33 - loss: 0. - ETA: 1:19 - loss: 0.405 - E - ETA: 1:06 - loss: 0.389 - ETA: 1:02 -  - ETA: 53s - loss: 0.3748 - f2_metr - ETA: 52s - loss: 0.3737 - - ETA: 41s - loss: 0.36 - ETA - ETA: 30s - loss: 0.35 - ETA: 28s -  - ETA: 24s - loss: 0.3511 - f2_metric: 0. - ETA: 24s - loss: 0.3508 - f2_m\n",
      "\n",
      "Epoch 00002: val_f2_metric improved from 0.39281 to 0.63436, saving model to best_model.h5\n",
      "Epoch 3/100\n",
      "889/889 [==============================] - 189s 212ms/step - loss: 0.1849 - f2_metric: 0.9535 - val_loss: 0.2024 - val_f2_metric: 0.6402TA: 2:49 - loss: 0.2 - ETA: 2:31 - loss: 0.2105 - f2_metric: 0.939 - ETA: 2:31 - loss: 0.2111 - - ET - ETA: 2:17 - loss: 0.207 - ETA: 2:13 - loss: 0.2060 - f2_metric: 0 - ETA: 2:12 - loss: 0.2058  - ETA: 1:58 - loss: 0.2014 - f2_metric: 0.944 - ETA: 1:58 - loss: 0.201 - ETA: 1:53 - loss: 0.2006  - ETA: 1:40 - loss: 0.2003 - f2_metric: 0.946 - ETA: 1:39 - loss: 0.2004 - f2_metric: 0.946 - ETA: 1:39 - loss: 0. - ETA: 1:34 - - ETA: 1:27 - loss: 0.1983 - f2_metric: 0. - ETA: 1:26 - - ETA: 1:20 - loss: 0.1972 - f2_metric - ETA: 1:1 - ETA: 46s - loss: 0.1926 - f2_metric:  - ETA: 17s - loss: 0.1871 - f2_metric: 0.95 - ETA: 17s - loss: 0.1871 - f2_me - ETA: 15s - loss: 0.1868 - f2_metric: 0. - ETA: 15s - loss:  - ETA: 12s - loss: 0.1868 - E - ETA: 3s - loss: 0.1856 - f\n",
      "\n",
      "Epoch 00003: val_f2_metric improved from 0.63436 to 0.64018, saving model to best_model.h5\n",
      "Epoch 4/100\n",
      "889/889 [==============================] - 188s 212ms/step - loss: 0.1433 - f2_metric: 0.9745 - val_loss: 0.1659 - val_f2_metric: 0.65795 - loss: 0.1662 - f2_metric: 0.967 - ETA: 2:44 - lo - ETA: 2:40 - loss: 0 - ETA: 2:34 - loss: 0.1525 - f2_ - ETA: 2:32 - loss: 0.1518 - f2_metric: 0. - ETA: 2:31 - loss: 0.1527 - f2_metric: 0.96 - E - ETA: 2:12 - loss: 0.1539 - f2_metric: 0.9 - ETA: 2:12 - loss: 0.1539 -  - ETA: 1:59 - loss: 0.1 - ETA: 1:54 - loss: 0. - ETA: 1:40 - loss: 0.1490 - ETA: 1:36 - loss - ETA: 1:02 - loss: 0.1457 - f2_metri - ETA: 1:00 - loss: 0.1453 - f2_me - ETA: 49s - loss - ETA: 46s - loss: 0.1465 - f2_metric: 0. - ETA: 46s - loss: 0.1463 - f2_me - ETA: 45s -  - ETA: 41s - loss:  - ETA: 39s - loss: 0.1462 - f2_ - ETA: 33s - lo - ETA: 3s - loss: 0.1436 - f2_metric: - ETA: 2s - loss: 0.1435 - f2_m\n",
      "\n",
      "Epoch 00004: val_f2_metric improved from 0.64018 to 0.65791, saving model to best_model.h5\n",
      "Epoch 5/100\n",
      "889/889 [==============================] - 189s 213ms/step - loss: 0.1246 - f2_metric: 0.9816 - val_loss: 0.1803 - val_f2_metric: 0.6660TA: 2:0 - ETA: 2:01 - loss: 0.1229 - f2_metric - ETA: 2:00 - loss: 0.1230 - - ETA: 1:56 - loss: 0.1234 - f2_metric: 0.9 - ETA: 1:55 - loss: 0.1232 - f2_metric: 0. - ETA: 1:54 - loss: 0.1234 - f2_metric: 0.98 - ETA: 1:54 - loss: 0.1234 - f2_metric - ETA: 1:52 - loss: - ET - ETA: 1:29 - loss: 0.1240 -  - ETA: 1:16 - loss:  - ETA: 1:10 - loss: 0.1251 - f2_metric: 0.9 - ETA: 1:10 - loss: 0.1250 - f2_ - ETA: 1:07 - loss: 0.1251 - f2_metric: 0.980 - ETA: 1:07 - loss: 0.1251 -  - ETA: 1:03 - loss: 0.1252  - ETA: 1:00 - loss: 0.1255  - ETA: 58 - ETA: 54s - loss: 0.1254 - - ETA:  - ETA: 44s - loss: 0.12 - ETA: 8s - loss: 0.1 - ETA: 3s - loss: 0.1243 \n",
      "\n",
      "Epoch 00005: val_f2_metric improved from 0.65791 to 0.66600, saving model to best_model.h5\n",
      "Epoch 6/100\n",
      "889/889 [==============================] - 189s 212ms/step - loss: 0.1168 - f2_metric: 0.9831 - val_loss: 0.1795 - val_f2_metric: 0.6707 los - ETA: 2:35 - loss: 0.1291 - f2_metric - ETA: 2:34 - loss: 0.1273 - f2_metr - ETA: 2:32 -  - ETA: 1:47 - loss: 0 - ETA: 1:42 - - ETA: 1:35  - ETA: 50 - ETA: 32s - loss: 0.1182 - f2_metr - E - ETA: - ETA: 9s - l - ETA: 3s - loss: 0.1172 - f2 - ETA: 0s - loss: 0.1168 - f2_metric: 0.983\n",
      "\n",
      "Epoch 00006: val_f2_metric improved from 0.66600 to 0.67071, saving model to best_model.h5\n",
      "Epoch 7/100\n",
      "889/889 [==============================] - 189s 213ms/step - loss: 0.1098 - f2_metric: 0.9849 - val_loss: 0.1600 - val_f2_metric: 0.6761TA: 2:48 - loss - ETA: 2:44 - los - ETA: 2 - ETA: 2:31 - loss - ET - ETA: 2:07 - loss: 0.109 - ETA: 2:03 - loss: 0.1100 - - ETA: 2:00 - loss: 0.109 - ETA: 1:55 - loss: 0.1110 -  - ETA: 1:52 - loss: 0.1099 - f2_metric: 0 - -  - ETA: 1:24 -  - ETA: 1:17 - loss: 0.1094 - - ETA: 15s - loss - ET - ETA: 6s - loss: 0.1094 - f2_metri - ETA: 4s - loss: 0.1097 -  - ETA: 1s - loss: 0.1095 - f2_metric: 0.985 - ETA: 1s - loss: 0.1096 - f2_metric: 0.985 - ETA: 0s - loss: 0.1097 - f2_metric: 0\n",
      "\n",
      "Epoch 00007: val_f2_metric improved from 0.67071 to 0.67609, saving model to best_model.h5\n",
      "Epoch 8/100\n"
     ]
    },
    {
     "name": "stdout",
     "output_type": "stream",
     "text": [
      "889/889 [==============================] - 189s 213ms/step - loss: 0.1067 - f2_metric: 0.9849 - val_loss: 0.2054 - val_f2_metric: 0.6613 - f2_metr - ETA: 3s - loss: 0.1069 - f\n",
      "\n",
      "Epoch 00008: val_f2_metric did not improve from 0.67609\n",
      "Epoch 9/100\n",
      "889/889 [==============================] - 189s 212ms/step - loss: 0.1021 - f2_metric: 0.9860 - val_loss: 0.2119 - val_f2_metric: 0.6651  - ETA: 2:27 - loss: 0.0977 -  - ETA: 2:23 - loss: 0.0971 - f2_metric:  - ETA: 2:22 - loss: - ETA: 2:17 - loss: 0.0983 - f2_metric: 0 - ETA: 2:16 - loss: 0.0985 - f2_met - ETA: 2:14 - loss: 0.0989 -  - ETA: 2:10 - loss: 0.0988 - f2_metr\n",
      "\n",
      "Epoch 00009: val_f2_metric did not improve from 0.67609\n",
      "Epoch 10/100\n",
      "889/889 [==============================] - 189s 212ms/step - loss: 0.1933 - f2_metric: 0.9339 - val_loss: 0.1682 - val_f2_metric: 0.65613 - loss: 0.0908 - f2_metric: - ETA: 2:52 - loss: 0.0879 - - ETA: 2:50 - loss: 0.0982 - f2_metric: 0 - ETA: 2:50 - loss: 0 - ETA: 2:45 - lo - ETA: 2:38 - loss: 0.1749 - f2_metric: 0.897 - ETA: 2:38 - loss: 0 - ETA: 2:34 - loss: 0.2548 - f2_metr - ETA: 2: - ETA: 2:24 - loss: 0.3031 - f2_metr - ETA: 2:22 - loss: 0. - ETA: 2 - ETA: 2:00 - loss: 0.2929 - f2_metr - ETA: 1:58 - loss: 0.2884 - f2_ - ETA: 1:55 - loss: 0.2853 - f2_metric: 0.86 - ETA: 1:54 - loss: 0.2843 - f2_metric: 0 - ETA: 1:54 -  - ETA: 1:28 - loss - ETA: 1:22 - loss: 0.24 - ETA: 1:18 - loss: 0.2404 - f2_metric: - ETA: 1:17 - loss: 0.2390 - f2_metric: - ETA: 1:15 - loss: 0.2382 - f2_metri - ETA: 1:13 - loss: 0.2365 - f2_metric:  - ETA: 1:12 - loss: 0.2355 - f2_metric: 0.9 - ETA: 1:11 - loss: 0.2347 - f2_me - ETA: 1:09 -\n",
      "\n",
      "Epoch 00010: val_f2_metric did not improve from 0.67609\n",
      "Epoch 11/100\n",
      "889/889 [==============================] - 189s 213ms/step - loss: 0.1097 - f2_metric: 0.9844 - val_loss: 0.2337 - val_f2_metric: 0.6598oss: 0.1111 - f2_metr - ETA: 2:39 - loss: 0.1138 - f2_metric: 0.98 - ETA: 2:38 - loss: 0.1143 - f2_metric: 0.9 - ETA: 2:37 - loss: 0.1150 - f2_metric: 0 - ETA: 2:36 - loss: 0.1143 - f2_metri - ETA: 2:34 - loss: 0.1120 - f2_met - ETA - ETA: 2:24 - loss: 0.1110 - f2_metri  - ETA: 2:13 - loss: 0.1113 - f2_metric: 0. - ETA: 2:13 - loss: 0.1113 - f2_metric: 0.9 - ETA: 2:12 - loss: 0.1109 - f2_metric: 0. - ETA: 2: - ETA: 2:04 - l - ETA: 1:58 - loss: 0.1129 - f2_me - ETA: 1:55 - loss: 0.1118 - f2_met - ETA: 1: - ETA: 1:45 - loss: 0.1114 - f2_metric: 0.9 - ETA: 1:45 - loss: 0.1115 - f2_metric: 0.98 - ETA: 1:44 - loss: 0.1114 - f2_ - ETA: 1:41 - loss: 0.1111 - f2_m - ETA: 1:39 - loss: 0.1112 - f2_metric: - ETA: 1:37 - lo - ETA: 1:31 - loss: 0.1090 - f2_metric: 0.9 - ETA: 1:30 - loss: 0.1091 - f2_metri - ETA: 1:29 - loss: 0.1099 - f2_me - ETA: 1:26 - loss: 0.1097 -  - ETA: - ETA: 1:15 - loss: 0.1090 - f2_metric - ETA: 1:13 -  - ETA: 1:06 - loss: 0.1093 - f2_metric - ETA: 1:05 - loss: 0.1096 - f2_metric:  - ETA: 1:04 - loss: 0.1096 - f2_metric: 0. - ETA: 1:03 - loss: 0.1098 - f2_metric - ETA: 1:01 - l - ETA: 57s - loss: 0.11 - ETA: 36s - loss: 0.1096 - f2_metric: 0. - ETA: 36s -  - ETA: 28s - loss: 0.1096 - f2_me - ETA: 22s - loss: 0.10 - ETA: 15s - loss: 0.1096 - f2_me - ETA: 14s - lo - ETA: 11s - loss: 0.1096 - f2_metric: 0.98 - ETA: 11s - loss: 0.1096 - f2_ - ETA: 9s - loss: 0.1100 - f2_metric:  - \n",
      "\n",
      "Epoch 00011: val_f2_metric did not improve from 0.67609\n",
      "Epoch 12/100\n",
      "889/889 [==============================] - 187s 211ms/step - loss: 0.1010 - f2_metric: 0.9865 - val_loss: 0.1624 - val_f2_metric: 0.6631 2:47 - loss: 0.0835 - f2_m - ETA: 2:39 - lo - ETA: 2:34 - loss: 0.1030 - f2_metric:  - ETA: 2:33 - loss: 0.1019 - f2_metric: 0.985 - ETA: 2:32 - loss: 0.1017 - f2_metric: 0.9 - ETA: 2:32 - loss: 0.1022 - f2_metric:  - ETA: 2:31 - loss: 0.1016 - f2_metric: 0. - ETA: 2:30 - loss: 0.1035 - f2_me - ETA: 2:28 - loss: 0.1033 - f2_metric: 0. - ETA: 2:27 - loss: 0.1021 - f2_metric - ETA: 2:16 - loss: 0.1053 - f2_metric: 0.98 - ETA: 2:15 - loss: 0.1048 - f2_met - ETA: 2:04 - loss: 0.105 - ETA:  - ETA: 1 - ETA: 1:45 - loss: 0.1054 - f2_metric: 0.9 - ETA: 1:44 - loss: 0.1051 - f2_metric - ETA: 1:33 - loss: 0 - ETA: 1:28 - loss: 0.1038 - f2_metric: 0.98 - ETA: 1:27 - ETA: 1:11 - loss: 0.1024 - f2_m - ETA: 1:08 - loss: 0.1023 - f2_metric: 0.98 - ETA: 1:08 - loss: 0.1023 - f2_metric: 0.9 - ETA: 1:07 - loss: 0.1024 - f2_ - ETA: 1:04 - loss: 0.1027 - f2_metric - ETA: 1:03 - loss: 0.1026 - f - ETA: 59s - loss: 0.1020 - f2_metric: 0.986 - ETA: 59s - loss: 0.10 - ETA: 52s - loss: 0.1018 - f2_metric:  - ETA: 52s - loss: 0.1016 - f2_me - ETA: 51s - loss: 0. - ETA: 48s  - ETA: 45s - loss: 0.1008 - f2_me - ETA: 43s - loss:  - ETA: 41s - loss - ETA: 19s - lo - ETA: 16s - loss: 0.1015 - - ETA: 15s - loss: 0. - ETA: 12s -  - ETA: 9s - loss: 0.1016 - f2_metric: 0.98 \n",
      "\n",
      "Epoch 00012: val_f2_metric did not improve from 0.67609\n",
      "Epoch 13/100\n",
      "889/889 [==============================] - 189s 212ms/step - loss: 0.0959 - f2_metric: 0.9873 - val_loss: 0.1535 - val_f2_metric: 0.6512 2:46 - loss: 0.0967 - f2_metric: 0 - ETA: 2:45 - loss: 0.0963 - f2_metric - ETA: 2:43 - loss: 0.0957 - f2_metri - ETA: 2:42 - loss: 0.0977 - ETA: 2:28 - loss: 0.0984 - f2_metric: 0. - ETA: 2:18 - loss: 0.0964 - f2_metri - ET -  - ETA: 1:40 - loss: 0.0986 - f2_metric: 0 - ETA: 1:39 - loss: 0.0989 - f2_metri - - ETA: 1: - ETA: 1:11 - loss: 0.0967 -  - ETA: 49s - loss: 0.0952 - f2_metric: 0.98 - ETA: 49s - loss: 0.0952 - f2_metr - ETA:  - ETA: 44s - loss: 0.0947 - f2_metric:  - ETA: - ETA: 4s - loss: 0\n",
      "\n",
      "Epoch 00013: val_f2_metric did not improve from 0.67609\n",
      "Epoch 14/100\n",
      "889/889 [==============================] - 191s 215ms/step - loss: 0.0912 - f2_metric: 0.9879 - val_loss: 0.1775 - val_f2_metric: 0.6652A: 2:50 - loss: 0.0911 - f2_metric: 0 - ETA: 2:49 - los - ETA: 2:34 - loss: 0.0892 - f2_metric: 0.98 - ETA: 2:33 - lo - ETA: 2:27 - loss: 0.089 - ETA: 2:14 - loss: 0. - ETA: 1:40 - loss: 0.0893 - f2_metric: 0.98 - E - ETA: 1:31 - loss: 0.0889 - f2_me - ETA: 1:28 - loss: 0.0890 - f2_metric: 0. - ETA: 1:27 - loss: 0.0896 -  - ETA: 1:24 - loss: 0.0899 - f2_metric: 0.98 - ETA: 1:23 - loss: 0.0900 - f2_metric: 0 - ETA: 1:22 - loss: 0.089 - ET - ETA: 59s - - ETA: 47s - loss:  - ETA: 25s  - ETA: 17s - loss: 0.0910 - f2_ - ETA: 15s - loss - ETA: 12s - loss: 0.0907 - f2_metr - ETA: 11s - loss: 0. - ETA: 9s - loss: - ETA: 3s - loss: 0.0910 - f2_metric: 0. - ETA: 2s - loss: 0.0910 - f2_\n",
      "\n",
      "Epoch 00014: val_f2_metric did not improve from 0.67609\n",
      "Epoch 15/100\n",
      "889/889 [==============================] - 190s 214ms/step - loss: 0.0877 - f2_metric: 0.9880 - val_loss: 0.1798 - val_f2_metric: 0.6353 0.0903 - f - ETA: 2:57 - loss: 0.0926  - ETA: 2:52 - loss: 0.0889 - f2_metric - ETA: 2:50 - loss: 0.0898 - - ETA: 2:45  - ETA: 2:18 - loss: 0.0833 - f2_metric: 0.9 - ETA: 2:17 - loss: 0 - ETA: 2:12 - loss: 0.0862 - f2_ - ETA: 2:09 - loss: 0.08 - ETA: 2:04 - loss: 0.0879 - f2_metri - ETA: 2:02 - loss: 0.0879 - - ETA: 1:59 - loss: 0.0874 - f - ETA: 1:56 - loss:  - ETA: 1 - ETA: 1:42 - loss: 0.0861 - f2_metric: 0.98 - ETA: 1:42 - loss: 0.0860 - f2_metric: 0.9 - ETA: 1:41 - loss: 0.0856 - f2_metric:  - ETA: 1:40 - loss: 0.0860 - f2 - ETA: 1:37 - loss: 0.0867 - f2_metric: 0 - ETA: 1:36 - loss: 0.0868 - f2_metric:  - ETA - ETA: 1:26 - loss: 0.0870 - f2_metric: 0.987 - ETA: 1:26 - loss: 0.0870 - f2_metric: 0.9 - ETA: 1:26 - loss: 0.0869 - f - ETA: 1:13 - loss: 0.0870 - f2_metric - - ETA: 56s - loss: 0.0851 - - ETA: 12s - loss: 0.0877 - f2_me - ETA: 11s - ETA: 5s - loss: \n",
      "\n",
      "Epoch 00015: val_f2_metric did not improve from 0.67609\n",
      "Epoch 16/100\n"
     ]
    },
    {
     "name": "stdout",
     "output_type": "stream",
     "text": [
      "889/889 [==============================] - 191s 215ms/step - loss: 0.0828 - f2_metric: 0.9892 - val_loss: 0.1706 - val_f2_metric: 0.65532:57 - loss: 0 - ETA: 3:01 - loss: 0.0 - ETA: 2:43 - loss: 0.0786 - f - ETA: 2:39 - loss: 0 - ETA: 2:34 - lo - ETA: 2:27 - loss: 0.0773 - f2_ - ETA: 2:24 - loss: 0.0753  - ETA: 2:20 - loss: 0.0761 - f2_metri - ETA: 1:58 - loss: 0.0771 - f2_metric: 0.99 - ETA: 1:58 - - ETA: 1:51 - loss: 0.0769 - f2_metric: - ETA: - ETA: 1:41 - loss: 0.0787 - f2_metric: 0.99 - ETA: 1:41 - loss: 0.0785 - f2_metric: 0.99 - ETA: 1:40 - loss: 0.0782 - f - ETA: 1:37 - loss: 0.0790 - f - ETA: 1:34  - ETA: 1:27 - loss: 0.0804 - f2_m - ETA: 1:24 - loss: 0.0803 - f2_metric  - ETA: 1:13 - loss: 0.0811 - - ETA: 1:09 - loss: 0.08 - ETA: 1:05 - loss: 0.0802 - f2_ - ETA: 1:02 - l - ETA: 43s - loss: 0.0814 - f2_metric: 0.98 - ETA: 43s - loss: 0.0815 - ETA: 41s - loss: 0.0817 - f - ETA: 39s - loss: 0.0818 - ETA: 37s - loss: 0.0819 - f2_metr - ETA: 31s - loss: 0.0821 - f2_metric - ETA: 26s - loss: 0.0825 - f2_ - ETA: 24s - loss: 0.0825 - f2_ - ETA: 14s - loss: 0.0828 - f2_metric: 0. - ETA: 13s - lo - ETA: 10s - loss: 0.0829 - f2_metric: 0. - ETA: 10s - loss: 0.0829 - f - ETA: 7s - loss: 0.0827 - f2_metric: 0.989 - ETA: 6s - los - ETA: 0s - loss: 0.0829 - f2_metric: 0\n",
      "\n",
      "Epoch 00016: val_f2_metric did not improve from 0.67609\n",
      "Epoch 17/100\n",
      "889/889 [==============================] - 189s 213ms/step - loss: 0.0761 - f2_metric: 0.9905 - val_loss: 0.1620 - val_f2_metric: 0.652253 - loss: - ETA: 2:49 - lo - ETA: 2:44 - loss: 0.0776 - ETA: 1:52 - loss: 0.0769 - f2_metric: 0.99 - ETA: 1:5 - ETA: 1:45 - loss: 0.0763 - f2_metric:  - ETA: 1:43 - loss: 0.0761 - f2_metric: 0. - ETA: 1:42  -  - ETA: 1:17 - loss: 0.0746 - f2_me - ETA: 1:15 - ETA: 1:08 - loss: 0.0754 - f2_me - ETA: 1:05 - loss: 0.0757 - f2_met - ETA: 1:03 - l - ETA: 58s - loss: 0.0762 - f2_ - ETA: 57s - loss: 0.07 - ETA - ETA: - ETA: 8s - loss:  - ETA: 3s - loss: 0.0763 - f2_metric: - ETA: 2s - loss: 0.0763 - f2_me\n",
      "\n",
      "Epoch 00017: val_f2_metric did not improve from 0.67609\n",
      "Epoch 00017: early stopping\n",
      "TP= 229\n",
      "TN= 6021\n",
      "FP= 300\n",
      "FN= 41\n",
      "Accuracy:94.83%\n",
      "Precision:43.29%\n",
      "Recall:84.81%\n",
      "F1 score:57.32%\n",
      "Roc_Auc score:90.03%\n",
      "F2 score:71.16%\n",
      "              precision    recall  f1-score   support\n",
      "\n",
      "           0       0.99      0.95      0.97      6321\n",
      "           1       0.43      0.85      0.57       270\n",
      "\n",
      "    accuracy                           0.95      6591\n",
      "   macro avg       0.71      0.90      0.77      6591\n",
      "weighted avg       0.97      0.95      0.96      6591\n",
      "\n",
      "Cross Validation is completed after 3258861\n"
     ]
    },
    {
     "data": {
      "image/png": "[encoded data removed]",
      "text/plain": [
       "<Figure size 432x288 with 2 Axes>"
      ]
     },
     "metadata": {
      "needs_background": "light"
     },
     "output_type": "display_data"
    }
   ],
   "source": [
    "nb_epoch = 100\n",
    "BS = 64\n",
    "print(\"Training...\")\n",
    "milli_sec1 = int(round(time.time() * 1000))\n",
    "\n",
    "userModel = \"lstm\"\n",
    "\n",
    "if userModel == \"cnn\":\n",
    "    myModel = buildCnn(max_len, num_words, dim, seed, embedding_matrix) \n",
    "elif userModel == \"lstm\":\n",
    "    myModel = buildLstm(max_len, num_words, dim, seed, embedding_matrix)\n",
    "    \n",
    "print(\"model summary\\m\", myModel.summary())\n",
    "csv_logger = CSVLogger('log.csv', append=True, separator=',')\n",
    "es = EarlyStopping(monitor='val_f2_metric', mode='max', verbose=1, patience=10)\n",
    "mc = ModelCheckpoint('best_model.h5', monitor='val_f2_metric', mode='max', verbose=1, save_best_only=True)\n",
    "\n",
    "history = myModel.fit(lines_pad_x_train, y_train, validation_data=(lines_pad_x_val, y_val), epochs = nb_epoch, batch_size = BS, shuffle=True, verbose=1, callbacks=[csv_logger,es,mc], class_weight=class_weights)\n",
    "\n",
    "#load best model\n",
    "#model = load_model('best_model.h5')\n",
    "myModel.load_weights(\"best_model.h5\")\n",
    "\n",
    "scores = myModel.evaluate(lines_pad_x_val, y_val, verbose=0)\n",
    "#predictions = myModel.predict_classes(X_test, verbose=0)\n",
    "predScores = myModel.predict(lines_pad_x_val)\n",
    "predictions = (predScores > 0.5).astype(\"int32\")\n",
    "\n",
    "accuracy=accuracy_score(y_val, predictions)\n",
    "precision=precision_score(y_val, predictions)\n",
    "recall=recall_score(y_val, predictions)\n",
    "f1=f1_score(y_val, predictions)\n",
    "roc_auc=roc_auc_score(y_val, predictions)\n",
    "f2=5*precision*recall / (4*precision+recall)\n",
    "\n",
    "cm = confusion_matrix(y_val, predictions, labels=[0, 1])\n",
    "#print(cm)\n",
    "sns.heatmap(cm, annot=True)\n",
    "tn, fp, fn, tp = cm.ravel()\n",
    "\n",
    "print(\"TP=\",tp)\n",
    "print(\"TN=\",tn)\n",
    "print(\"FP=\",fp)\n",
    "print(\"FN=\",fn)\n",
    "\n",
    "acc = ((tp+tn)/(tp+tn+fp+fn))\n",
    "\n",
    "print(\"Accuracy:%.2f%%\"%(acc*100))\n",
    "print(\"Precision:%.2f%%\"%(precision*100))\n",
    "print(\"Recall:%.2f%%\"%(recall*100))\n",
    "print(\"F1 score:%.2f%%\"%(f1*100))\n",
    "print(\"Roc_Auc score:%.2f%%\"%(roc_auc*100))\n",
    "print(\"F2 score:%.2f%%\"%(f2*100))\n",
    "print(classification_report(y_val, predictions))\n",
    "\n",
    "milli_sec2 = int(round(time.time() * 1000))\n",
    "print(\"Cross Validation is completed after\", milli_sec2-milli_sec1)"
   ]
  }
 ],
 "metadata": {
  "kernelspec": {
   "display_name": "Python 3 (ipykernel)",
   "language": "python",
   "name": "python3"
  },
  "language_info": {
   "codemirror_mode": {
    "name": "ipython",
    "version": 3
   },
   "file_extension": ".py",
   "mimetype": "text/x-python",
   "name": "python",
   "nbconvert_exporter": "python",
   "pygments_lexer": "ipython3",
   "version": "3.7.13"
  }
 },
 "nbformat": 4,
 "nbformat_minor": 5
}
