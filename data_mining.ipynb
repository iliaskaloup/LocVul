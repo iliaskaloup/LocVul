{
 "cells": [
  {
   "cell_type": "code",
   "execution_count": 4,
   "id": "91240d23",
   "metadata": {},
   "outputs": [],
   "source": [
    "import json\n",
    "import pandas as pd"
   ]
  },
  {
   "cell_type": "code",
   "execution_count": 5,
   "id": "cc9f1af9",
   "metadata": {},
   "outputs": [],
   "source": [
    "def readData(filename):\n",
    "    with open(filename,'r+') as file:\n",
    "        dataset  = json.load(file)\n",
    "    return dataset"
   ]
  },
  {
   "cell_type": "code",
   "execution_count": 6,
   "id": "d891960b",
   "metadata": {},
   "outputs": [],
   "source": [
    "def data_miner(filename):\n",
    "    data = readData(filename)\n",
    "\n",
    "    # convert json to dataframe\n",
    "    df = pd.DataFrame(data)\n",
    "\n",
    "    # Drop the 'commit_id' column\n",
    "    df = df.drop('commit_id', axis=1)\n",
    "\n",
    "    # Split the DataFrame into two based on 'project'\n",
    "    df_ffmpeg = df[df['project'] == 'FFmpeg']\n",
    "    df_qemu = df[df['project'] == 'qemu']\n",
    "    \n",
    "    # store projects' dataframes in csv files\n",
    "    df_ffmpeg.to_csv('ffmpeg_data.csv', index=False)\n",
    "    df_qemu.to_csv('qemu_data.csv', index=False)"
   ]
  },
  {
   "cell_type": "code",
   "execution_count": 7,
   "id": "d464bcfa",
   "metadata": {},
   "outputs": [],
   "source": [
    "data_miner('function.json')"
   ]
  },
  {
   "cell_type": "code",
   "execution_count": null,
   "id": "441ca9b6",
   "metadata": {},
   "outputs": [],
   "source": []
  }
 ],
 "metadata": {
  "kernelspec": {
   "display_name": "Python 3 (ipykernel)",
   "language": "python",
   "name": "python3"
  },
  "language_info": {
   "codemirror_mode": {
    "name": "ipython",
    "version": 3
   },
   "file_extension": ".py",
   "mimetype": "text/x-python",
   "name": "python",
   "nbconvert_exporter": "python",
   "pygments_lexer": "ipython3",
   "version": "3.7.13"
  }
 },
 "nbformat": 4,
 "nbformat_minor": 5
}
