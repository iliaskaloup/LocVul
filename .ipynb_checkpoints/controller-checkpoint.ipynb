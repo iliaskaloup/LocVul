{
 "cells": [
  {
   "cell_type": "code",
   "execution_count": 34,
   "id": "5d6039aa",
   "metadata": {},
   "outputs": [],
   "source": [
    "import os\n",
    "import json\n",
    "import numpy as np\n",
    "import random\n",
    "import tensorflow as tf\n",
    "import csv\n",
    "import re\n",
    "\n",
    "#import preprocessing\n",
    "#import tokenSelector"
   ]
  },
  {
   "cell_type": "code",
   "execution_count": 35,
   "id": "f5123dab",
   "metadata": {},
   "outputs": [],
   "source": [
    "seed = 123\n",
    "np.random.seed(seed)\n",
    "random.seed(seed)\n",
    "tf.random.set_seed(seed)"
   ]
  },
  {
   "cell_type": "code",
   "execution_count": 80,
   "id": "eb5567c2",
   "metadata": {},
   "outputs": [],
   "source": [
    "# tokenSelector c/c++\n",
    "\n",
    "def replace_strings_and_numericals(source_code, strings, numericals):\n",
    "    \n",
    "    if strings == 1:\n",
    "        # Replace strings with \"STR$ID\"\n",
    "        modified_code = re.sub(r'(\\\"[^\\\"]*\\\"|\\'.*?\\')', '\"STR$ID\"', source_code)\n",
    "    else:\n",
    "        modified_code = source_code\n",
    "    \n",
    "    if numericals == 1:\n",
    "        # Replace numerical values with \"NUM%ID\"\n",
    "        modified_code = re.sub(r'\\b\\d+\\b', 'NUM%ID', modified_code)\n",
    "    \n",
    "    return modified_code\n",
    "\n",
    "def remove_import_statements(source_code):\n",
    "    # Remove #include statements\n",
    "    modified_code = re.sub(r'^\\s*#include\\s+.+?(\\n|$)', '', source_code, flags=re.MULTILINE)\n",
    "    \n",
    "    return modified_code\n",
    "\n",
    "def remove_comments(source_code):\n",
    "    # Remove single-line comments\n",
    "    modified_code = re.sub(r'\\/\\/.*', '', source_code)\n",
    "    \n",
    "    # Remove multi-line comments\n",
    "    modified_code = re.sub(r'\\/\\*[\\s\\S]*?\\*\\/', '', modified_code)\n",
    "    \n",
    "    return modified_code\n",
    "\n",
    "def convert_to_lowercase(source_code):\n",
    "    # Convert all letters to lowercase\n",
    "    return source_code.lower()\n",
    "\n",
    "def remove_blank_lines(source_code):\n",
    "    # Remove blank lines\n",
    "    return re.sub(r'^\\s*\\n', '', source_code, flags=re.MULTILINE)\n",
    "\n",
    "def dataTokenization(dataset, comments, strings, numericals, headers):    \n",
    "    for i in range(len(dataset)):\n",
    "        \n",
    "        source_code = dataset[i]\n",
    "        \n",
    "        source_code = replace_strings_and_numericals(source_code, strings, numericals)\n",
    "        \n",
    "        if headers == 1:\n",
    "            source_code = remove_import_statements(source_code)\n",
    "        \n",
    "        if comments == 1:\n",
    "            source_code = remove_comments(source_code)\n",
    "        \n",
    "        source_code = convert_to_lowercase(source_code)\n",
    "        \n",
    "        source_code = remove_blank_lines(source_code)\n",
    "        \n",
    "        dataset[i] = source_code\n",
    "        \n",
    "    return dataset"
   ]
  },
  {
   "cell_type": "code",
   "execution_count": 148,
   "id": "723e37f8",
   "metadata": {},
   "outputs": [],
   "source": [
    "# dataAnalyzer\n",
    "import pandas as pd\n",
    "import csv\n",
    "import matplotlib.pyplot as plt\n",
    "import math\n",
    "import numpy as np\n",
    "from collections import Counter\n",
    "\n",
    "def uniqueWords(word_list):\n",
    "    # Concatenate all strings in the list into one big string\n",
    "    big_string = ' '.join(word_list)\n",
    "    \n",
    "    # Split the big string into individual words\n",
    "    all_words = big_string.split()\n",
    "    \n",
    "    # Find unique words\n",
    "    unique_words = list(set(all_words))\n",
    "    \n",
    "    # Count the occurrences of each word\n",
    "    word_counts = Counter(all_words)\n",
    "    \n",
    "    # Create DataFrame from word_counts\n",
    "    word_counts_df = pd.DataFrame(word_counts.items(), columns=['Word', 'Count']).sort_values(by='Count', ascending=False)\n",
    "    \n",
    "    return all_words, unique_words, word_counts_df\n",
    "\n",
    "def labelFrequencies(data):\n",
    "    values = []\n",
    "    for i in range(len(data)):\n",
    "        values.append(data[i])\n",
    "    serVal = pd.DataFrame(values)\n",
    "    return serVal\n",
    "\n",
    "def getLengths(string_list):\n",
    "    # Initialize an empty list to store lengths\n",
    "    lengths = []\n",
    "\n",
    "    # Iterate over each string in the list\n",
    "    for string in string_list:\n",
    "        # Split the string into tokens (words)\n",
    "        tokens = string.split()\n",
    "        # Calculate the length (number of tokens) of the string\n",
    "        length = len(tokens)\n",
    "        # Append the length to the lengths list\n",
    "        lengths.append(length)\n",
    "\n",
    "    return lengths\n",
    "\n",
    "def optLength(data):    \n",
    "    #find the words, the unique words and their frequencies       \n",
    "    allWords, uniques, tokenFreq = uniqueWords(data[\"func\"])\n",
    "\n",
    "    #     #write uniques to file\n",
    "    #     textfile = open(\"uniques.txt\", \"w\", encoding='utf-8')\n",
    "    #     for element in uniques:\n",
    "    #         print(element)\n",
    "    #         textfile.write(element + \"\\n\")\n",
    "    #     textfile.close()\n",
    "\n",
    "    #check balance\n",
    "    labels = labelFrequencies(data[\"target\"])\n",
    "    labelFreq = labels[0].value_counts()\n",
    "    print(\"labels balance:\\n\",labelFreq)\n",
    "\n",
    "    # find the length of each class file\n",
    "    lens = getLengths(data[\"func\"])\n",
    "\n",
    "    avgLen = np.mean(lens)\n",
    "    print(\"avg of lengths = \", avgLen)\n",
    "    print(\"max of lengths = \", max(lens))\n",
    "    print(\"min of lengths = \", min(lens))\n",
    "\n",
    "    len_sorted = sorted(lens)\n",
    "\n",
    "    med = np.median(len_sorted)\n",
    "    print(\"median= \", med)\n",
    "\n",
    "    plt.plot(len_sorted)\n",
    "    plt.show()\n",
    "\n",
    "    stdev = np.std(len_sorted)\n",
    "    print(\"standard deviation = \", stdev)\n",
    "\n",
    "    split_point = int(med + 2*stdev)\n",
    "    print(\"median + 2*st.d= \", split_point)\n",
    "    max_len_std = len_sorted[split_point-1]\n",
    "    print(\"max length selected, based on median + 2*st.d: \", max_len_std)\n",
    "\n",
    "    #boxplot = len_sorted.boxplot(column=[0])\n",
    "    plt.boxplot(len_sorted)\n",
    "    plt.show()\n",
    "\n",
    "    # finding the 1st and 3rd quartiles\n",
    "    q1 = np.quantile(len_sorted, 0.25)\n",
    "    q3 = np.quantile(len_sorted, 0.75)\n",
    "    # finding the iqr region\n",
    "    iqr = q3-q1\n",
    "    # finding upper and lower whiskers\n",
    "    upper_bound = q3+(1.5*iqr)\n",
    "    lower_bound = q1-(1.5*iqr)\n",
    "    print(iqr, upper_bound, lower_bound)\n",
    "\n",
    "    len_sorted = np.array(len_sorted)\n",
    "    outliers = len_sorted[(len_sorted <= lower_bound) | (len_sorted >= upper_bound)]\n",
    "    split_point = len(len_sorted) - len(outliers)\n",
    "    print(\"IQR-based splitting point: \", split_point)\n",
    "    max_len_iqr = len_sorted[split_point-1]\n",
    "    print(\"max length selected, based on IQR: \", max_len_iqr)\n",
    "\n",
    "    #reshape dataset\n",
    "    max_len = max_len_iqr\n",
    "    data['length'] = lens\n",
    "\n",
    "    filtered_data = data[data['length'] > max_len]\n",
    "    \n",
    "    return filtered_data\n",
    "\n"
   ]
  },
  {
   "cell_type": "code",
   "execution_count": 155,
   "id": "426fb636",
   "metadata": {},
   "outputs": [
    {
     "data": {
      "text/plain": [
       "1592"
      ]
     },
     "execution_count": 155,
     "metadata": {},
     "output_type": "execute_result"
    }
   ],
   "source": [
    "len(df_qemu)"
   ]
  },
  {
   "cell_type": "code",
   "execution_count": 156,
   "id": "5646f1a4",
   "metadata": {},
   "outputs": [
    {
     "name": "stdout",
     "output_type": "stream",
     "text": [
      "labels balance:\n",
      " 0    10070\n",
      "1     7479\n",
      "Name: 0, dtype: int64\n",
      "avg of lengths =  117.2360248447205\n",
      "max of lengths =  9783\n",
      "min of lengths =  3\n",
      "median=  57.0\n"
     ]
    },
    {
     "data": {
      "image/png": "[encoded data removed]",
      "text/plain": [
       "<Figure size 432x288 with 1 Axes>"
      ]
     },
     "metadata": {
      "needs_background": "light"
     },
     "output_type": "display_data"
    },
    {
     "name": "stdout",
     "output_type": "stream",
     "text": [
      "standard deviation =  331.7274825922585\n",
      "median + 2*st.d=  720\n",
      "max length selected, based on median + 2*st.d:  11\n"
     ]
    },
    {
     "data": {
      "image/png": "[encoded data removed]",
      "text/plain": [
       "<Figure size 432x288 with 1 Axes>"
      ]
     },
     "metadata": {
      "needs_background": "light"
     },
     "output_type": "display_data"
    },
    {
     "name": "stdout",
     "output_type": "stream",
     "text": [
      "88.0 248.0 -104.0\n",
      "IQR-based splitting point:  15957\n",
      "max length selected, based on IQR:  247\n"
     ]
    }
   ],
   "source": [
    "#def main():\n",
    "comments = 1 # at zero -> delete\n",
    "strings = 1\n",
    "numericals = 1\n",
    "headers = 1\n",
    "rare = 1 # at zero remove rare\n",
    "often = 1 # at zero remove too often\n",
    "\n",
    "# from data_mining import data_miner\n",
    "# data_miner('function.json')\n",
    "\n",
    "df_ffmpeg = pd.read_csv('ffmpeg_data.csv')\n",
    "df_qemu = pd.read_csv('qemu_data.csv')\n",
    "\n",
    "#sequences = tokenSelector.dataTokenization(dataset, filename, comments, strings, numericals, headers)\n",
    "df_ffmpeg[\"func\"] = dataTokenization(df_ffmpeg['func'].tolist(), comments, strings, numericals, headers)\n",
    "df_qemu[\"func\"] = dataTokenization(df_qemu['func'].tolist(), comments, strings, numericals, headers)\n",
    "\n",
    "# data analysis\n",
    "#ffmpeg_reduced = optLength(df_ffmpeg)\n",
    "qemu_reduced = optLength(df_qemu)\n",
    "\n",
    "# store projects' dataframes with reduced lenght in csv files\n",
    "#ffmpeg_reduced.to_csv('ffmpeg_data_reduced.csv', index=False)\n",
    "qemu_reduced.to_csv('qemu_data_reduced.csv', index=False)\n",
    "\n",
    "# read them\n",
    "#ffmpeg = pd.read_csv('ffmpeg_data_reduced.csv')\n",
    "qemu = pd.read_csv('qemu_data_reduced.csv')"
   ]
  },
  {
   "cell_type": "code",
   "execution_count": null,
   "id": "ed9be488",
   "metadata": {},
   "outputs": [],
   "source": [
    "# if __name__ == \"__main__\":\n",
    "#     main()"
   ]
  }
 ],
 "metadata": {
  "kernelspec": {
   "display_name": "Python 3 (ipykernel)",
   "language": "python",
   "name": "python3"
  },
  "language_info": {
   "codemirror_mode": {
    "name": "ipython",
    "version": 3
   },
   "file_extension": ".py",
   "mimetype": "text/x-python",
   "name": "python",
   "nbconvert_exporter": "python",
   "pygments_lexer": "ipython3",
   "version": "3.7.13"
  }
 },
 "nbformat": 4,
 "nbformat_minor": 5
}
