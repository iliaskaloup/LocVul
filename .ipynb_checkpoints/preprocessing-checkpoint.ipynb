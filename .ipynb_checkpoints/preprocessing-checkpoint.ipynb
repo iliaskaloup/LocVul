{
 "cells": [
  {
   "cell_type": "code",
   "execution_count": 2,
   "id": "34690b9a",
   "metadata": {},
   "outputs": [
    {
     "name": "stderr",
     "output_type": "stream",
     "text": [
      "C:\\Users\\iliaskaloup\\Anaconda3\\envs\\tfgpu\\lib\\site-packages\\tqdm\\auto.py:22: TqdmWarning: IProgress not found. Please update jupyter and ipywidgets. See https://ipywidgets.readthedocs.io/en/stable/user_install.html\n",
      "  from .autonotebook import tqdm as notebook_tqdm\n"
     ]
    }
   ],
   "source": [
    "import pandas as pd\n",
    "import json, os\n",
    "\n",
    "import tensorflow as tf\n",
    "import numpy as np\n",
    "import csv\n",
    "from transformers import AutoTokenizer, TFAutoModelForSequenceClassification #, BertModel, BertTokenizer, TFBertForSequenceClassification\n",
    "import matplotlib.pyplot as plt\n",
    "import random\n",
    "from tensorflow.keras.callbacks import CSVLogger\n",
    "from tensorflow.keras.callbacks import EarlyStopping\n",
    "import tensorflow.keras.backend as K\n",
    "from collections import OrderedDict\n",
    "import time\n",
    "from sklearn.metrics import accuracy_score, recall_score, f1_score, precision_score, \\\n",
    "roc_auc_score, confusion_matrix, classification_report\n",
    "from sklearn.model_selection import StratifiedKFold\n",
    "import random\n",
    "\n",
    "from tensorflow.keras.optimizers import Adam\n",
    "from tensorflow.keras.callbacks import EarlyStopping\n",
    "from tensorflow.keras.initializers import TruncatedNormal\n",
    "from tensorflow.keras.losses import CategoricalCrossentropy\n",
    "from tensorflow.keras.metrics import CategoricalAccuracy\n",
    "from tensorflow.keras.utils import to_categorical\n",
    "from tensorflow.keras.layers import Input, Dense, GlobalMaxPool1D\n",
    "\n",
    "from sklearn.metrics import classification_report"
   ]
  },
  {
   "cell_type": "code",
   "execution_count": 3,
   "id": "0e0fe139",
   "metadata": {},
   "outputs": [],
   "source": [
    "seed = 123\n",
    "np.random.seed(seed)\n",
    "random.seed(seed)\n",
    "tf.random.set_seed(seed)"
   ]
  },
  {
   "cell_type": "code",
   "execution_count": 4,
   "id": "110e75a8",
   "metadata": {},
   "outputs": [
    {
     "name": "stderr",
     "output_type": "stream",
     "text": [
      "Downloading: 100%|████████████████████████████████████████████████████████████████| 1.50k/1.50k [00:00<00:00, 1.53MB/s]\n",
      "Downloading: 100%|██████████████████████████████████████████████████████████████████| 780k/780k [00:00<00:00, 1.87MB/s]\n",
      "Downloading: 100%|██████████████████████████████████████████████████████████████████| 446k/446k [00:00<00:00, 1.07MB/s]\n",
      "Downloading: 100%|████████████████████████████████████████████████████████████████| 2.01M/2.01M [00:00<00:00, 2.82MB/s]\n",
      "Downloading: 100%|█████████████████████████████████████████████████████████████████████| 280/280 [00:00<00:00, 278kB/s]\n"
     ]
    }
   ],
   "source": [
    "model_variation = \"neulab/codebert-cpp\"\n",
    "tokenizer = AutoTokenizer.from_pretrained(model_variation, do_lower_case=True) "
   ]
  },
  {
   "cell_type": "code",
   "execution_count": 6,
   "id": "27edc49e",
   "metadata": {},
   "outputs": [],
   "source": [
    "def read_json_file(file_path):\n",
    "    with open(file_path, 'r') as file:\n",
    "        data = json.load(file)\n",
    "    return data"
   ]
  },
  {
   "cell_type": "code",
   "execution_count": 7,
   "id": "491f340a",
   "metadata": {},
   "outputs": [],
   "source": [
    "dataset = read_json_file(\"function.json\")"
   ]
  },
  {
   "cell_type": "code",
   "execution_count": 29,
   "id": "074eceae",
   "metadata": {},
   "outputs": [],
   "source": [
    "df = pd.DataFrame(dataset)\n",
    "#print(df)"
   ]
  },
  {
   "cell_type": "code",
   "execution_count": 30,
   "id": "8bf86a79",
   "metadata": {},
   "outputs": [
    {
     "data": {
      "text/plain": [
       "0    14858\n",
       "1    12460\n",
       "Name: target, dtype: int64"
      ]
     },
     "execution_count": 30,
     "metadata": {},
     "output_type": "execute_result"
    }
   ],
   "source": [
    "df[\"target\"].value_counts()"
   ]
  },
  {
   "cell_type": "code",
   "execution_count": 33,
   "id": "b6abfec7",
   "metadata": {},
   "outputs": [
    {
     "name": "stdout",
     "output_type": "stream",
     "text": [
      "      project                                 commit_id  target  \\\n",
      "0      FFmpeg  973b1a6b9070e2bf17d17568cbaf4043ce931f51       0   \n",
      "1      FFmpeg  321b2a9ded0468670b7678b7c098886930ae16b2       0   \n",
      "2      FFmpeg  5d5de3eba4c7890c2e8077f5b4ae569671d11cf8       0   \n",
      "3      FFmpeg  32bf6550cb9cc9f487a6722fe2bfc272a93c1065       0   \n",
      "4      FFmpeg  57d77b3963ce1023eaf5ada8cba58b9379405cc8       0   \n",
      "...       ...                                       ...     ...   \n",
      "27313    qemu  1ea879e5580f63414693655fcf0328559cdce138       0   \n",
      "27314    qemu  f74990a5d019751c545e9800a3376b6336e77d38       0   \n",
      "27315    qemu  a89f364ae8740dfc31b321eed9ee454e996dc3c1       0   \n",
      "27316    qemu  39fb730aed8c5f7b0058845cb9feac0d4b177985       0   \n",
      "27317  FFmpeg  7104c23bd1a1dcb8a7d9e2c8838c7ce55c30a331       0   \n",
      "\n",
      "                                                    func  length  \n",
      "0      static av_cold int vdadec_init(AVCodecContext ...    2221  \n",
      "1      static int transcode(AVFormatContext **output_...   36873  \n",
      "2      static void v4l2_free_buffer(void *opaque, uin...     545  \n",
      "3      int ff_get_wav_header(AVFormatContext *s, AVIO...    4119  \n",
      "4      int av_opencl_buffer_write(cl_mem dst_cl_buf, ...     853  \n",
      "...                                                  ...     ...  \n",
      "27313  static int no_init_in (HWVoiceIn *hw, audsetti...     145  \n",
      "27314  uint32_t HELPER(stfle)(CPUS390XState *env, uin...     412  \n",
      "27315  static void pxa2xx_fir_write(void *opaque, hwa...    1454  \n",
      "27316  static void disas_thumb_insn(CPUARMState *env,...   23129  \n",
      "27317  static void rv34_pred_mv(RV34DecContext *r, in...    1956  \n",
      "\n",
      "[27318 rows x 5 columns]\n",
      "142346\n"
     ]
    }
   ],
   "source": [
    "df['length'] = df['func'].apply(lambda x: len(str(x)))\n",
    "max_length = df['length'].max()\n",
    "#df['length'].idxmax()\n",
    "print(df)\n",
    "print(max_length)"
   ]
  },
  {
   "cell_type": "code",
   "execution_count": 34,
   "id": "855b100b",
   "metadata": {},
   "outputs": [
    {
     "data": {
      "text/plain": [
       "1095"
      ]
     },
     "execution_count": 34,
     "metadata": {},
     "output_type": "execute_result"
    }
   ],
   "source": []
  }
 ],
 "metadata": {
  "kernelspec": {
   "display_name": "Python 3 (ipykernel)",
   "language": "python",
   "name": "python3"
  },
  "language_info": {
   "codemirror_mode": {
    "name": "ipython",
    "version": 3
   },
   "file_extension": ".py",
   "mimetype": "text/x-python",
   "name": "python",
   "nbconvert_exporter": "python",
   "pygments_lexer": "ipython3",
   "version": "3.7.13"
  }
 },
 "nbformat": 4,
 "nbformat_minor": 5
}
